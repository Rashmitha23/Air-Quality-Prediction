{
 "cells": [
  {
   "cell_type": "markdown",
   "id": "9c5d816f",
   "metadata": {},
   "source": [
    "## Import Libraries"
   ]
  },
  {
   "cell_type": "code",
   "execution_count": 57,
   "id": "325bb486",
   "metadata": {},
   "outputs": [],
   "source": [
    "import warnings\n",
    "warnings.filterwarnings(\"ignore\")\n",
    "\n",
    "import os\n",
    "import pandas as pd\n",
    "import numpy as np\n",
    "import matplotlib.pyplot as plt\n",
    "%matplotlib inline\n",
    "import seaborn as sns\n",
    "import pickle\n",
    "from sklearn.utils import resample\n",
    "from sklearn.model_selection import train_test_split\n",
    "from sklearn.metrics import accuracy_score,classification_report,confusion_matrix"
   ]
  },
  {
   "cell_type": "markdown",
   "id": "16554034",
   "metadata": {},
   "source": [
    "## Data Loading"
   ]
  },
  {
   "cell_type": "code",
   "execution_count": 2,
   "id": "6b6d732c",
   "metadata": {},
   "outputs": [
    {
     "data": {
      "text/plain": [
       "['city_day.csv']"
      ]
     },
     "execution_count": 2,
     "metadata": {},
     "output_type": "execute_result"
    }
   ],
   "source": [
    "os.listdir(\"input\")"
   ]
  },
  {
   "cell_type": "code",
   "execution_count": 3,
   "id": "308c15be",
   "metadata": {},
   "outputs": [],
   "source": [
    "df=pd.read_csv(\"input/city_day.csv\")"
   ]
  },
  {
   "cell_type": "markdown",
   "id": "e5f15382",
   "metadata": {},
   "source": [
    "***Prelimanary Analysis***"
   ]
  },
  {
   "cell_type": "code",
   "execution_count": 4,
   "id": "0ee17922",
   "metadata": {},
   "outputs": [
    {
     "data": {
      "text/html": [
       "<div>\n",
       "<style scoped>\n",
       "    .dataframe tbody tr th:only-of-type {\n",
       "        vertical-align: middle;\n",
       "    }\n",
       "\n",
       "    .dataframe tbody tr th {\n",
       "        vertical-align: top;\n",
       "    }\n",
       "\n",
       "    .dataframe thead th {\n",
       "        text-align: right;\n",
       "    }\n",
       "</style>\n",
       "<table border=\"1\" class=\"dataframe\">\n",
       "  <thead>\n",
       "    <tr style=\"text-align: right;\">\n",
       "      <th></th>\n",
       "      <th>City</th>\n",
       "      <th>Date</th>\n",
       "      <th>PM2.5</th>\n",
       "      <th>PM10</th>\n",
       "      <th>NO</th>\n",
       "      <th>NH3</th>\n",
       "      <th>NOx</th>\n",
       "      <th>NO2</th>\n",
       "      <th>CO</th>\n",
       "      <th>SO2</th>\n",
       "      <th>O3</th>\n",
       "      <th>Benzene</th>\n",
       "      <th>Toluene</th>\n",
       "      <th>Xylene</th>\n",
       "      <th>AQI</th>\n",
       "      <th>AQI_Bucket</th>\n",
       "    </tr>\n",
       "  </thead>\n",
       "  <tbody>\n",
       "    <tr>\n",
       "      <th>0</th>\n",
       "      <td>Ahmedabad</td>\n",
       "      <td>01-01-2015</td>\n",
       "      <td>NaN</td>\n",
       "      <td>NaN</td>\n",
       "      <td>0.92</td>\n",
       "      <td>18.22</td>\n",
       "      <td>17.15</td>\n",
       "      <td>NaN</td>\n",
       "      <td>0.92</td>\n",
       "      <td>27.64</td>\n",
       "      <td>133.36</td>\n",
       "      <td>0.00</td>\n",
       "      <td>0.02</td>\n",
       "      <td>0.00</td>\n",
       "      <td>NaN</td>\n",
       "      <td>NaN</td>\n",
       "    </tr>\n",
       "    <tr>\n",
       "      <th>1</th>\n",
       "      <td>Ahmedabad</td>\n",
       "      <td>02-01-2015</td>\n",
       "      <td>NaN</td>\n",
       "      <td>NaN</td>\n",
       "      <td>0.97</td>\n",
       "      <td>15.69</td>\n",
       "      <td>16.46</td>\n",
       "      <td>NaN</td>\n",
       "      <td>0.97</td>\n",
       "      <td>24.55</td>\n",
       "      <td>34.06</td>\n",
       "      <td>3.68</td>\n",
       "      <td>5.50</td>\n",
       "      <td>3.77</td>\n",
       "      <td>NaN</td>\n",
       "      <td>NaN</td>\n",
       "    </tr>\n",
       "    <tr>\n",
       "      <th>2</th>\n",
       "      <td>Ahmedabad</td>\n",
       "      <td>03-01-2015</td>\n",
       "      <td>NaN</td>\n",
       "      <td>NaN</td>\n",
       "      <td>17.40</td>\n",
       "      <td>19.30</td>\n",
       "      <td>29.70</td>\n",
       "      <td>NaN</td>\n",
       "      <td>17.40</td>\n",
       "      <td>29.07</td>\n",
       "      <td>30.70</td>\n",
       "      <td>6.80</td>\n",
       "      <td>16.40</td>\n",
       "      <td>2.25</td>\n",
       "      <td>NaN</td>\n",
       "      <td>NaN</td>\n",
       "    </tr>\n",
       "    <tr>\n",
       "      <th>3</th>\n",
       "      <td>Ahmedabad</td>\n",
       "      <td>04-01-2015</td>\n",
       "      <td>NaN</td>\n",
       "      <td>NaN</td>\n",
       "      <td>1.70</td>\n",
       "      <td>18.48</td>\n",
       "      <td>17.97</td>\n",
       "      <td>NaN</td>\n",
       "      <td>1.70</td>\n",
       "      <td>18.59</td>\n",
       "      <td>36.08</td>\n",
       "      <td>4.43</td>\n",
       "      <td>10.14</td>\n",
       "      <td>1.00</td>\n",
       "      <td>NaN</td>\n",
       "      <td>NaN</td>\n",
       "    </tr>\n",
       "    <tr>\n",
       "      <th>4</th>\n",
       "      <td>Ahmedabad</td>\n",
       "      <td>05-01-2015</td>\n",
       "      <td>NaN</td>\n",
       "      <td>NaN</td>\n",
       "      <td>22.10</td>\n",
       "      <td>21.42</td>\n",
       "      <td>37.76</td>\n",
       "      <td>NaN</td>\n",
       "      <td>22.10</td>\n",
       "      <td>39.33</td>\n",
       "      <td>39.31</td>\n",
       "      <td>7.01</td>\n",
       "      <td>18.89</td>\n",
       "      <td>2.78</td>\n",
       "      <td>NaN</td>\n",
       "      <td>NaN</td>\n",
       "    </tr>\n",
       "  </tbody>\n",
       "</table>\n",
       "</div>"
      ],
      "text/plain": [
       "        City        Date  PM2.5  PM10     NO    NH3    NOx  NO2     CO    SO2  \\\n",
       "0  Ahmedabad  01-01-2015    NaN   NaN   0.92  18.22  17.15  NaN   0.92  27.64   \n",
       "1  Ahmedabad  02-01-2015    NaN   NaN   0.97  15.69  16.46  NaN   0.97  24.55   \n",
       "2  Ahmedabad  03-01-2015    NaN   NaN  17.40  19.30  29.70  NaN  17.40  29.07   \n",
       "3  Ahmedabad  04-01-2015    NaN   NaN   1.70  18.48  17.97  NaN   1.70  18.59   \n",
       "4  Ahmedabad  05-01-2015    NaN   NaN  22.10  21.42  37.76  NaN  22.10  39.33   \n",
       "\n",
       "       O3  Benzene  Toluene  Xylene  AQI AQI_Bucket  \n",
       "0  133.36     0.00     0.02    0.00  NaN        NaN  \n",
       "1   34.06     3.68     5.50    3.77  NaN        NaN  \n",
       "2   30.70     6.80    16.40    2.25  NaN        NaN  \n",
       "3   36.08     4.43    10.14    1.00  NaN        NaN  \n",
       "4   39.31     7.01    18.89    2.78  NaN        NaN  "
      ]
     },
     "execution_count": 4,
     "metadata": {},
     "output_type": "execute_result"
    }
   ],
   "source": [
    "df.head()"
   ]
  },
  {
   "cell_type": "code",
   "execution_count": 5,
   "id": "66ecc4aa",
   "metadata": {},
   "outputs": [
    {
     "data": {
      "text/plain": [
       "(29531, 16)"
      ]
     },
     "execution_count": 5,
     "metadata": {},
     "output_type": "execute_result"
    }
   ],
   "source": [
    "df.shape"
   ]
  },
  {
   "cell_type": "markdown",
   "id": "bef74b37",
   "metadata": {},
   "source": [
    "## Data Preprocessing"
   ]
  },
  {
   "cell_type": "markdown",
   "id": "12bcbef2",
   "metadata": {},
   "source": [
    "***Nullvalues Analysis***"
   ]
  },
  {
   "cell_type": "code",
   "execution_count": 6,
   "id": "1c33d37f",
   "metadata": {},
   "outputs": [],
   "source": [
    "nan_features=[feature for feature in df.columns if df[feature].isnull().sum()>=1]"
   ]
  },
  {
   "cell_type": "code",
   "execution_count": 7,
   "id": "b76d6a13",
   "metadata": {},
   "outputs": [
    {
     "name": "stdout",
     "output_type": "stream",
     "text": [
      "['PM2.5', 'PM10', 'NO', 'NH3', 'NOx', 'NO2', 'CO', 'SO2', 'O3', 'Benzene', 'Toluene', 'Xylene', 'AQI', 'AQI_Bucket']\n"
     ]
    }
   ],
   "source": [
    "print(nan_features)"
   ]
  },
  {
   "cell_type": "code",
   "execution_count": 8,
   "id": "a63f1e01",
   "metadata": {},
   "outputs": [
    {
     "name": "stdout",
     "output_type": "stream",
     "text": [
      "City: 0 Missing values\n",
      "Date: 0 Missing values\n",
      "PM2.5: 4598 Missing values\n",
      "PM10: 11140 Missing values\n",
      "NO: 3582 Missing values\n",
      "NH3: 3585 Missing values\n",
      "NOx: 4185 Missing values\n",
      "NO2: 10328 Missing values\n",
      "CO: 2059 Missing values\n",
      "SO2: 3854 Missing values\n",
      "O3: 4022 Missing values\n",
      "Benzene: 5623 Missing values\n",
      "Toluene: 8041 Missing values\n",
      "Xylene: 18109 Missing values\n",
      "AQI: 4681 Missing values\n",
      "AQI_Bucket: 4681 Missing values\n"
     ]
    }
   ],
   "source": [
    "for feature in df.columns:\n",
    "    print(\"{}: {} Missing values\".format(feature,df[feature].isnull().sum()))"
   ]
  },
  {
   "cell_type": "code",
   "execution_count": 9,
   "id": "5a75b6a1",
   "metadata": {},
   "outputs": [],
   "source": [
    "lessnan_features=[feature for feature in df.columns if df[feature].isnull().sum()<10000]"
   ]
  },
  {
   "cell_type": "code",
   "execution_count": 10,
   "id": "e09bdfe8",
   "metadata": {},
   "outputs": [],
   "source": [
    "df=df[lessnan_features]"
   ]
  },
  {
   "cell_type": "code",
   "execution_count": 11,
   "id": "009d63ba",
   "metadata": {},
   "outputs": [
    {
     "data": {
      "text/html": [
       "<div>\n",
       "<style scoped>\n",
       "    .dataframe tbody tr th:only-of-type {\n",
       "        vertical-align: middle;\n",
       "    }\n",
       "\n",
       "    .dataframe tbody tr th {\n",
       "        vertical-align: top;\n",
       "    }\n",
       "\n",
       "    .dataframe thead th {\n",
       "        text-align: right;\n",
       "    }\n",
       "</style>\n",
       "<table border=\"1\" class=\"dataframe\">\n",
       "  <thead>\n",
       "    <tr style=\"text-align: right;\">\n",
       "      <th></th>\n",
       "      <th>City</th>\n",
       "      <th>Date</th>\n",
       "      <th>PM2.5</th>\n",
       "      <th>NO</th>\n",
       "      <th>NH3</th>\n",
       "      <th>NOx</th>\n",
       "      <th>CO</th>\n",
       "      <th>SO2</th>\n",
       "      <th>O3</th>\n",
       "      <th>Benzene</th>\n",
       "      <th>Toluene</th>\n",
       "      <th>AQI</th>\n",
       "      <th>AQI_Bucket</th>\n",
       "    </tr>\n",
       "  </thead>\n",
       "  <tbody>\n",
       "    <tr>\n",
       "      <th>0</th>\n",
       "      <td>Ahmedabad</td>\n",
       "      <td>01-01-2015</td>\n",
       "      <td>NaN</td>\n",
       "      <td>0.92</td>\n",
       "      <td>18.22</td>\n",
       "      <td>17.15</td>\n",
       "      <td>0.92</td>\n",
       "      <td>27.64</td>\n",
       "      <td>133.36</td>\n",
       "      <td>0.00</td>\n",
       "      <td>0.02</td>\n",
       "      <td>NaN</td>\n",
       "      <td>NaN</td>\n",
       "    </tr>\n",
       "    <tr>\n",
       "      <th>1</th>\n",
       "      <td>Ahmedabad</td>\n",
       "      <td>02-01-2015</td>\n",
       "      <td>NaN</td>\n",
       "      <td>0.97</td>\n",
       "      <td>15.69</td>\n",
       "      <td>16.46</td>\n",
       "      <td>0.97</td>\n",
       "      <td>24.55</td>\n",
       "      <td>34.06</td>\n",
       "      <td>3.68</td>\n",
       "      <td>5.50</td>\n",
       "      <td>NaN</td>\n",
       "      <td>NaN</td>\n",
       "    </tr>\n",
       "    <tr>\n",
       "      <th>2</th>\n",
       "      <td>Ahmedabad</td>\n",
       "      <td>03-01-2015</td>\n",
       "      <td>NaN</td>\n",
       "      <td>17.40</td>\n",
       "      <td>19.30</td>\n",
       "      <td>29.70</td>\n",
       "      <td>17.40</td>\n",
       "      <td>29.07</td>\n",
       "      <td>30.70</td>\n",
       "      <td>6.80</td>\n",
       "      <td>16.40</td>\n",
       "      <td>NaN</td>\n",
       "      <td>NaN</td>\n",
       "    </tr>\n",
       "    <tr>\n",
       "      <th>3</th>\n",
       "      <td>Ahmedabad</td>\n",
       "      <td>04-01-2015</td>\n",
       "      <td>NaN</td>\n",
       "      <td>1.70</td>\n",
       "      <td>18.48</td>\n",
       "      <td>17.97</td>\n",
       "      <td>1.70</td>\n",
       "      <td>18.59</td>\n",
       "      <td>36.08</td>\n",
       "      <td>4.43</td>\n",
       "      <td>10.14</td>\n",
       "      <td>NaN</td>\n",
       "      <td>NaN</td>\n",
       "    </tr>\n",
       "    <tr>\n",
       "      <th>4</th>\n",
       "      <td>Ahmedabad</td>\n",
       "      <td>05-01-2015</td>\n",
       "      <td>NaN</td>\n",
       "      <td>22.10</td>\n",
       "      <td>21.42</td>\n",
       "      <td>37.76</td>\n",
       "      <td>22.10</td>\n",
       "      <td>39.33</td>\n",
       "      <td>39.31</td>\n",
       "      <td>7.01</td>\n",
       "      <td>18.89</td>\n",
       "      <td>NaN</td>\n",
       "      <td>NaN</td>\n",
       "    </tr>\n",
       "  </tbody>\n",
       "</table>\n",
       "</div>"
      ],
      "text/plain": [
       "        City        Date  PM2.5     NO    NH3    NOx     CO    SO2      O3  \\\n",
       "0  Ahmedabad  01-01-2015    NaN   0.92  18.22  17.15   0.92  27.64  133.36   \n",
       "1  Ahmedabad  02-01-2015    NaN   0.97  15.69  16.46   0.97  24.55   34.06   \n",
       "2  Ahmedabad  03-01-2015    NaN  17.40  19.30  29.70  17.40  29.07   30.70   \n",
       "3  Ahmedabad  04-01-2015    NaN   1.70  18.48  17.97   1.70  18.59   36.08   \n",
       "4  Ahmedabad  05-01-2015    NaN  22.10  21.42  37.76  22.10  39.33   39.31   \n",
       "\n",
       "   Benzene  Toluene  AQI AQI_Bucket  \n",
       "0     0.00     0.02  NaN        NaN  \n",
       "1     3.68     5.50  NaN        NaN  \n",
       "2     6.80    16.40  NaN        NaN  \n",
       "3     4.43    10.14  NaN        NaN  \n",
       "4     7.01    18.89  NaN        NaN  "
      ]
     },
     "execution_count": 11,
     "metadata": {},
     "output_type": "execute_result"
    }
   ],
   "source": [
    "df.head()"
   ]
  },
  {
   "cell_type": "code",
   "execution_count": 12,
   "id": "36494684",
   "metadata": {},
   "outputs": [],
   "source": [
    "df=df.dropna().reset_index(drop=True)"
   ]
  },
  {
   "cell_type": "code",
   "execution_count": 13,
   "id": "81d55487",
   "metadata": {},
   "outputs": [
    {
     "data": {
      "text/html": [
       "<div>\n",
       "<style scoped>\n",
       "    .dataframe tbody tr th:only-of-type {\n",
       "        vertical-align: middle;\n",
       "    }\n",
       "\n",
       "    .dataframe tbody tr th {\n",
       "        vertical-align: top;\n",
       "    }\n",
       "\n",
       "    .dataframe thead th {\n",
       "        text-align: right;\n",
       "    }\n",
       "</style>\n",
       "<table border=\"1\" class=\"dataframe\">\n",
       "  <thead>\n",
       "    <tr style=\"text-align: right;\">\n",
       "      <th></th>\n",
       "      <th>City</th>\n",
       "      <th>Date</th>\n",
       "      <th>PM2.5</th>\n",
       "      <th>NO</th>\n",
       "      <th>NH3</th>\n",
       "      <th>NOx</th>\n",
       "      <th>CO</th>\n",
       "      <th>SO2</th>\n",
       "      <th>O3</th>\n",
       "      <th>Benzene</th>\n",
       "      <th>Toluene</th>\n",
       "      <th>AQI</th>\n",
       "      <th>AQI_Bucket</th>\n",
       "    </tr>\n",
       "  </thead>\n",
       "  <tbody>\n",
       "    <tr>\n",
       "      <th>0</th>\n",
       "      <td>Ahmedabad</td>\n",
       "      <td>29-01-2015</td>\n",
       "      <td>83.13</td>\n",
       "      <td>6.93</td>\n",
       "      <td>28.71</td>\n",
       "      <td>33.72</td>\n",
       "      <td>6.93</td>\n",
       "      <td>49.52</td>\n",
       "      <td>59.76</td>\n",
       "      <td>0.02</td>\n",
       "      <td>0.00</td>\n",
       "      <td>209.0</td>\n",
       "      <td>Poor</td>\n",
       "    </tr>\n",
       "    <tr>\n",
       "      <th>1</th>\n",
       "      <td>Ahmedabad</td>\n",
       "      <td>30-01-2015</td>\n",
       "      <td>79.84</td>\n",
       "      <td>13.85</td>\n",
       "      <td>28.68</td>\n",
       "      <td>41.08</td>\n",
       "      <td>13.85</td>\n",
       "      <td>48.49</td>\n",
       "      <td>97.07</td>\n",
       "      <td>0.04</td>\n",
       "      <td>0.00</td>\n",
       "      <td>328.0</td>\n",
       "      <td>Very Poor</td>\n",
       "    </tr>\n",
       "    <tr>\n",
       "      <th>2</th>\n",
       "      <td>Ahmedabad</td>\n",
       "      <td>31-01-2015</td>\n",
       "      <td>94.52</td>\n",
       "      <td>24.39</td>\n",
       "      <td>32.66</td>\n",
       "      <td>52.61</td>\n",
       "      <td>24.39</td>\n",
       "      <td>67.39</td>\n",
       "      <td>111.33</td>\n",
       "      <td>0.24</td>\n",
       "      <td>0.01</td>\n",
       "      <td>514.0</td>\n",
       "      <td>Severe</td>\n",
       "    </tr>\n",
       "    <tr>\n",
       "      <th>3</th>\n",
       "      <td>Ahmedabad</td>\n",
       "      <td>01-02-2015</td>\n",
       "      <td>135.99</td>\n",
       "      <td>43.48</td>\n",
       "      <td>42.08</td>\n",
       "      <td>84.57</td>\n",
       "      <td>43.48</td>\n",
       "      <td>75.23</td>\n",
       "      <td>102.70</td>\n",
       "      <td>0.40</td>\n",
       "      <td>0.04</td>\n",
       "      <td>782.0</td>\n",
       "      <td>Severe</td>\n",
       "    </tr>\n",
       "    <tr>\n",
       "      <th>4</th>\n",
       "      <td>Ahmedabad</td>\n",
       "      <td>02-02-2015</td>\n",
       "      <td>178.33</td>\n",
       "      <td>54.56</td>\n",
       "      <td>35.31</td>\n",
       "      <td>72.80</td>\n",
       "      <td>54.56</td>\n",
       "      <td>55.04</td>\n",
       "      <td>107.38</td>\n",
       "      <td>0.46</td>\n",
       "      <td>0.06</td>\n",
       "      <td>914.0</td>\n",
       "      <td>Severe</td>\n",
       "    </tr>\n",
       "  </tbody>\n",
       "</table>\n",
       "</div>"
      ],
      "text/plain": [
       "        City        Date   PM2.5     NO    NH3    NOx     CO    SO2      O3  \\\n",
       "0  Ahmedabad  29-01-2015   83.13   6.93  28.71  33.72   6.93  49.52   59.76   \n",
       "1  Ahmedabad  30-01-2015   79.84  13.85  28.68  41.08  13.85  48.49   97.07   \n",
       "2  Ahmedabad  31-01-2015   94.52  24.39  32.66  52.61  24.39  67.39  111.33   \n",
       "3  Ahmedabad  01-02-2015  135.99  43.48  42.08  84.57  43.48  75.23  102.70   \n",
       "4  Ahmedabad  02-02-2015  178.33  54.56  35.31  72.80  54.56  55.04  107.38   \n",
       "\n",
       "   Benzene  Toluene    AQI AQI_Bucket  \n",
       "0     0.02     0.00  209.0       Poor  \n",
       "1     0.04     0.00  328.0  Very Poor  \n",
       "2     0.24     0.01  514.0     Severe  \n",
       "3     0.40     0.04  782.0     Severe  \n",
       "4     0.46     0.06  914.0     Severe  "
      ]
     },
     "execution_count": 13,
     "metadata": {},
     "output_type": "execute_result"
    }
   ],
   "source": [
    "df.head()"
   ]
  },
  {
   "cell_type": "code",
   "execution_count": 14,
   "id": "e4e5583c",
   "metadata": {},
   "outputs": [],
   "source": [
    "df.drop(labels=[\"City\",\"Date\"],axis=1,inplace=True)"
   ]
  },
  {
   "cell_type": "code",
   "execution_count": 15,
   "id": "e0973a55",
   "metadata": {},
   "outputs": [
    {
     "data": {
      "text/plain": [
       "(16984, 11)"
      ]
     },
     "execution_count": 15,
     "metadata": {},
     "output_type": "execute_result"
    }
   ],
   "source": [
    "df.shape"
   ]
  },
  {
   "cell_type": "code",
   "execution_count": 16,
   "id": "4b780731",
   "metadata": {},
   "outputs": [
    {
     "data": {
      "text/html": [
       "<div>\n",
       "<style scoped>\n",
       "    .dataframe tbody tr th:only-of-type {\n",
       "        vertical-align: middle;\n",
       "    }\n",
       "\n",
       "    .dataframe tbody tr th {\n",
       "        vertical-align: top;\n",
       "    }\n",
       "\n",
       "    .dataframe thead th {\n",
       "        text-align: right;\n",
       "    }\n",
       "</style>\n",
       "<table border=\"1\" class=\"dataframe\">\n",
       "  <thead>\n",
       "    <tr style=\"text-align: right;\">\n",
       "      <th></th>\n",
       "      <th>PM2.5</th>\n",
       "      <th>NO</th>\n",
       "      <th>NH3</th>\n",
       "      <th>NOx</th>\n",
       "      <th>CO</th>\n",
       "      <th>SO2</th>\n",
       "      <th>O3</th>\n",
       "      <th>Benzene</th>\n",
       "      <th>Toluene</th>\n",
       "      <th>AQI</th>\n",
       "      <th>AQI_Bucket</th>\n",
       "    </tr>\n",
       "  </thead>\n",
       "  <tbody>\n",
       "    <tr>\n",
       "      <th>0</th>\n",
       "      <td>83.13</td>\n",
       "      <td>6.93</td>\n",
       "      <td>28.71</td>\n",
       "      <td>33.72</td>\n",
       "      <td>6.93</td>\n",
       "      <td>49.52</td>\n",
       "      <td>59.76</td>\n",
       "      <td>0.02</td>\n",
       "      <td>0.00</td>\n",
       "      <td>209.0</td>\n",
       "      <td>Poor</td>\n",
       "    </tr>\n",
       "    <tr>\n",
       "      <th>1</th>\n",
       "      <td>79.84</td>\n",
       "      <td>13.85</td>\n",
       "      <td>28.68</td>\n",
       "      <td>41.08</td>\n",
       "      <td>13.85</td>\n",
       "      <td>48.49</td>\n",
       "      <td>97.07</td>\n",
       "      <td>0.04</td>\n",
       "      <td>0.00</td>\n",
       "      <td>328.0</td>\n",
       "      <td>Very Poor</td>\n",
       "    </tr>\n",
       "    <tr>\n",
       "      <th>2</th>\n",
       "      <td>94.52</td>\n",
       "      <td>24.39</td>\n",
       "      <td>32.66</td>\n",
       "      <td>52.61</td>\n",
       "      <td>24.39</td>\n",
       "      <td>67.39</td>\n",
       "      <td>111.33</td>\n",
       "      <td>0.24</td>\n",
       "      <td>0.01</td>\n",
       "      <td>514.0</td>\n",
       "      <td>Severe</td>\n",
       "    </tr>\n",
       "    <tr>\n",
       "      <th>3</th>\n",
       "      <td>135.99</td>\n",
       "      <td>43.48</td>\n",
       "      <td>42.08</td>\n",
       "      <td>84.57</td>\n",
       "      <td>43.48</td>\n",
       "      <td>75.23</td>\n",
       "      <td>102.70</td>\n",
       "      <td>0.40</td>\n",
       "      <td>0.04</td>\n",
       "      <td>782.0</td>\n",
       "      <td>Severe</td>\n",
       "    </tr>\n",
       "    <tr>\n",
       "      <th>4</th>\n",
       "      <td>178.33</td>\n",
       "      <td>54.56</td>\n",
       "      <td>35.31</td>\n",
       "      <td>72.80</td>\n",
       "      <td>54.56</td>\n",
       "      <td>55.04</td>\n",
       "      <td>107.38</td>\n",
       "      <td>0.46</td>\n",
       "      <td>0.06</td>\n",
       "      <td>914.0</td>\n",
       "      <td>Severe</td>\n",
       "    </tr>\n",
       "  </tbody>\n",
       "</table>\n",
       "</div>"
      ],
      "text/plain": [
       "    PM2.5     NO    NH3    NOx     CO    SO2      O3  Benzene  Toluene    AQI  \\\n",
       "0   83.13   6.93  28.71  33.72   6.93  49.52   59.76     0.02     0.00  209.0   \n",
       "1   79.84  13.85  28.68  41.08  13.85  48.49   97.07     0.04     0.00  328.0   \n",
       "2   94.52  24.39  32.66  52.61  24.39  67.39  111.33     0.24     0.01  514.0   \n",
       "3  135.99  43.48  42.08  84.57  43.48  75.23  102.70     0.40     0.04  782.0   \n",
       "4  178.33  54.56  35.31  72.80  54.56  55.04  107.38     0.46     0.06  914.0   \n",
       "\n",
       "  AQI_Bucket  \n",
       "0       Poor  \n",
       "1  Very Poor  \n",
       "2     Severe  \n",
       "3     Severe  \n",
       "4     Severe  "
      ]
     },
     "execution_count": 16,
     "metadata": {},
     "output_type": "execute_result"
    }
   ],
   "source": [
    "df.head()"
   ]
  },
  {
   "cell_type": "code",
   "execution_count": 54,
   "id": "3fc8aec5",
   "metadata": {},
   "outputs": [
    {
     "name": "stdout",
     "output_type": "stream",
     "text": [
      "['Good', 'Moderate', 'Poor', 'Satisfactory', 'Severe', 'Very Poor']\n"
     ]
    }
   ],
   "source": [
    "class_labels=df[\"AQI_Bucket\"].unique().tolist()\n",
    "class_labels.sort()\n",
    "print(class_labels)"
   ]
  },
  {
   "cell_type": "code",
   "execution_count": 18,
   "id": "2434d8fe",
   "metadata": {},
   "outputs": [
    {
     "data": {
      "text/plain": [
       "Moderate        5943\n",
       "Satisfactory    5385\n",
       "Poor            2006\n",
       "Very Poor       1770\n",
       "Severe          1087\n",
       "Good             793\n",
       "Name: AQI_Bucket, dtype: int64"
      ]
     },
     "execution_count": 18,
     "metadata": {},
     "output_type": "execute_result"
    }
   ],
   "source": [
    "df[\"AQI_Bucket\"].value_counts()"
   ]
  },
  {
   "cell_type": "markdown",
   "id": "118010e3",
   "metadata": {},
   "source": [
    "***bar-chart***"
   ]
  },
  {
   "cell_type": "code",
   "execution_count": 19,
   "id": "b557a63c",
   "metadata": {},
   "outputs": [
    {
     "data": {
      "image/png": "[encoded data removed]",
      "text/plain": [
       "<Figure size 1296x576 with 1 Axes>"
      ]
     },
     "metadata": {},
     "output_type": "display_data"
    }
   ],
   "source": [
    "with plt.style.context(style='ggplot'):\n",
    "    df[\"AQI_Bucket\"].value_counts().plot.bar(fontsize=20,figsize=(18,8),colormap=\"Paired\")\n",
    "    plt.title(label='Analysing AQI_Bucket feature')\n",
    "    plt.xlabel(xlabel='Targets')\n",
    "    plt.ylabel(ylabel='Number of samples')\n",
    "    plt.show()"
   ]
  },
  {
   "cell_type": "markdown",
   "id": "2500d6a6",
   "metadata": {},
   "source": [
    "***pie-chart***"
   ]
  },
  {
   "cell_type": "code",
   "execution_count": 20,
   "id": "22c414f5",
   "metadata": {},
   "outputs": [
    {
     "data": {
      "image/png": "[encoded data removed]",
      "text/plain": [
       "<Figure size 360x360 with 1 Axes>"
      ]
     },
     "metadata": {},
     "output_type": "display_data"
    }
   ],
   "source": [
    "with plt.style.context(style='fivethirtyeight'):\n",
    "    df[\"AQI_Bucket\"].value_counts().plot.pie(fontsize=15,figsize=(5,5),autopct=\"%.2f\")\n",
    "    plt.title(label='Analysing AQI_Bucket feature')\n",
    "    plt.show()"
   ]
  },
  {
   "cell_type": "markdown",
   "id": "42978bc9",
   "metadata": {},
   "source": [
    "***Finding outliers using Boxplot***"
   ]
  },
  {
   "cell_type": "code",
   "execution_count": 21,
   "id": "ca9bfac9",
   "metadata": {},
   "outputs": [
    {
     "data": {
      "image/png": "[encoded data removed]",
      "text/plain": [
       "<Figure size 432x288 with 1 Axes>"
      ]
     },
     "metadata": {
      "needs_background": "light"
     },
     "output_type": "display_data"
    },
    {
     "data": {
      "image/png": "[encoded data removed]",
      "text/plain": [
       "<Figure size 432x288 with 1 Axes>"
      ]
     },
     "metadata": {
      "needs_background": "light"
     },
     "output_type": "display_data"
    },
    {
     "data": {
      "image/png": "[encoded data removed]",
      "text/plain": [
       "<Figure size 432x288 with 1 Axes>"
      ]
     },
     "metadata": {
      "needs_background": "light"
     },
     "output_type": "display_data"
    },
    {
     "data": {
      "image/png": "[encoded data removed]",
      "text/plain": [
       "<Figure size 432x288 with 1 Axes>"
      ]
     },
     "metadata": {
      "needs_background": "light"
     },
     "output_type": "display_data"
    },
    {
     "data": {
      "image/png": "[encoded data removed]",
      "text/plain": [
       "<Figure size 432x288 with 1 Axes>"
      ]
     },
     "metadata": {
      "needs_background": "light"
     },
     "output_type": "display_data"
    },
    {
     "data": {
      "image/png": "[encoded data removed]",
      "text/plain": [
       "<Figure size 432x288 with 1 Axes>"
      ]
     },
     "metadata": {
      "needs_background": "light"
     },
     "output_type": "display_data"
    },
    {
     "data": {
      "image/png": "[encoded data removed]",
      "text/plain": [
       "<Figure size 432x288 with 1 Axes>"
      ]
     },
     "metadata": {
      "needs_background": "light"
     },
     "output_type": "display_data"
    },
    {
     "data": {
      "image/png": "[encoded data removed]",
      "text/plain": [
       "<Figure size 432x288 with 1 Axes>"
      ]
     },
     "metadata": {
      "needs_background": "light"
     },
     "output_type": "display_data"
    },
    {
     "data": {
      "image/png": "[encoded data removed]",
      "text/plain": [
       "<Figure size 432x288 with 1 Axes>"
      ]
     },
     "metadata": {
      "needs_background": "light"
     },
     "output_type": "display_data"
    },
    {
     "data": {
      "image/png": "[encoded data removed]",
      "text/plain": [
       "<Figure size 432x288 with 1 Axes>"
      ]
     },
     "metadata": {
      "needs_background": "light"
     },
     "output_type": "display_data"
    }
   ],
   "source": [
    "for feature in df.columns:\n",
    "    data=df.copy()\n",
    "    if feature!=\"AQI_Bucket\":\n",
    "        data.boxplot(feature)\n",
    "        plt.title(feature)\n",
    "        plt.show()"
   ]
  },
  {
   "cell_type": "code",
   "execution_count": 22,
   "id": "94ebc65c",
   "metadata": {},
   "outputs": [
    {
     "data": {
      "text/plain": [
       "(16984, 11)"
      ]
     },
     "execution_count": 22,
     "metadata": {},
     "output_type": "execute_result"
    }
   ],
   "source": [
    "df.shape"
   ]
  },
  {
   "cell_type": "markdown",
   "id": "233fd8d6",
   "metadata": {},
   "source": [
    "***Droping outliers***"
   ]
  },
  {
   "cell_type": "code",
   "execution_count": 23,
   "id": "9cc6c69d",
   "metadata": {},
   "outputs": [],
   "source": [
    "df = df[df['Benzene']< 300]\n",
    "df = df[df['Toluene']< 300]"
   ]
  },
  {
   "cell_type": "code",
   "execution_count": 24,
   "id": "48f61643",
   "metadata": {},
   "outputs": [
    {
     "data": {
      "text/plain": [
       "(16961, 11)"
      ]
     },
     "execution_count": 24,
     "metadata": {},
     "output_type": "execute_result"
    }
   ],
   "source": [
    "df.shape"
   ]
  },
  {
   "cell_type": "markdown",
   "id": "2a8b2941",
   "metadata": {},
   "source": [
    "***Data Oversampling***"
   ]
  },
  {
   "cell_type": "code",
   "execution_count": 25,
   "id": "56bc8693",
   "metadata": {},
   "outputs": [
    {
     "data": {
      "text/html": [
       "<div>\n",
       "<style scoped>\n",
       "    .dataframe tbody tr th:only-of-type {\n",
       "        vertical-align: middle;\n",
       "    }\n",
       "\n",
       "    .dataframe tbody tr th {\n",
       "        vertical-align: top;\n",
       "    }\n",
       "\n",
       "    .dataframe thead th {\n",
       "        text-align: right;\n",
       "    }\n",
       "</style>\n",
       "<table border=\"1\" class=\"dataframe\">\n",
       "  <thead>\n",
       "    <tr style=\"text-align: right;\">\n",
       "      <th></th>\n",
       "      <th>PM2.5</th>\n",
       "      <th>NO</th>\n",
       "      <th>NH3</th>\n",
       "      <th>NOx</th>\n",
       "      <th>CO</th>\n",
       "      <th>SO2</th>\n",
       "      <th>O3</th>\n",
       "      <th>Benzene</th>\n",
       "      <th>Toluene</th>\n",
       "      <th>AQI</th>\n",
       "      <th>AQI_Bucket</th>\n",
       "    </tr>\n",
       "  </thead>\n",
       "  <tbody>\n",
       "    <tr>\n",
       "      <th>0</th>\n",
       "      <td>83.13</td>\n",
       "      <td>6.93</td>\n",
       "      <td>28.71</td>\n",
       "      <td>33.72</td>\n",
       "      <td>6.93</td>\n",
       "      <td>49.52</td>\n",
       "      <td>59.76</td>\n",
       "      <td>0.02</td>\n",
       "      <td>0.00</td>\n",
       "      <td>209.0</td>\n",
       "      <td>Poor</td>\n",
       "    </tr>\n",
       "    <tr>\n",
       "      <th>1</th>\n",
       "      <td>79.84</td>\n",
       "      <td>13.85</td>\n",
       "      <td>28.68</td>\n",
       "      <td>41.08</td>\n",
       "      <td>13.85</td>\n",
       "      <td>48.49</td>\n",
       "      <td>97.07</td>\n",
       "      <td>0.04</td>\n",
       "      <td>0.00</td>\n",
       "      <td>328.0</td>\n",
       "      <td>Very Poor</td>\n",
       "    </tr>\n",
       "    <tr>\n",
       "      <th>2</th>\n",
       "      <td>94.52</td>\n",
       "      <td>24.39</td>\n",
       "      <td>32.66</td>\n",
       "      <td>52.61</td>\n",
       "      <td>24.39</td>\n",
       "      <td>67.39</td>\n",
       "      <td>111.33</td>\n",
       "      <td>0.24</td>\n",
       "      <td>0.01</td>\n",
       "      <td>514.0</td>\n",
       "      <td>Severe</td>\n",
       "    </tr>\n",
       "    <tr>\n",
       "      <th>3</th>\n",
       "      <td>135.99</td>\n",
       "      <td>43.48</td>\n",
       "      <td>42.08</td>\n",
       "      <td>84.57</td>\n",
       "      <td>43.48</td>\n",
       "      <td>75.23</td>\n",
       "      <td>102.70</td>\n",
       "      <td>0.40</td>\n",
       "      <td>0.04</td>\n",
       "      <td>782.0</td>\n",
       "      <td>Severe</td>\n",
       "    </tr>\n",
       "    <tr>\n",
       "      <th>4</th>\n",
       "      <td>178.33</td>\n",
       "      <td>54.56</td>\n",
       "      <td>35.31</td>\n",
       "      <td>72.80</td>\n",
       "      <td>54.56</td>\n",
       "      <td>55.04</td>\n",
       "      <td>107.38</td>\n",
       "      <td>0.46</td>\n",
       "      <td>0.06</td>\n",
       "      <td>914.0</td>\n",
       "      <td>Severe</td>\n",
       "    </tr>\n",
       "  </tbody>\n",
       "</table>\n",
       "</div>"
      ],
      "text/plain": [
       "    PM2.5     NO    NH3    NOx     CO    SO2      O3  Benzene  Toluene    AQI  \\\n",
       "0   83.13   6.93  28.71  33.72   6.93  49.52   59.76     0.02     0.00  209.0   \n",
       "1   79.84  13.85  28.68  41.08  13.85  48.49   97.07     0.04     0.00  328.0   \n",
       "2   94.52  24.39  32.66  52.61  24.39  67.39  111.33     0.24     0.01  514.0   \n",
       "3  135.99  43.48  42.08  84.57  43.48  75.23  102.70     0.40     0.04  782.0   \n",
       "4  178.33  54.56  35.31  72.80  54.56  55.04  107.38     0.46     0.06  914.0   \n",
       "\n",
       "  AQI_Bucket  \n",
       "0       Poor  \n",
       "1  Very Poor  \n",
       "2     Severe  \n",
       "3     Severe  \n",
       "4     Severe  "
      ]
     },
     "execution_count": 25,
     "metadata": {},
     "output_type": "execute_result"
    }
   ],
   "source": [
    "df.head()"
   ]
  },
  {
   "cell_type": "code",
   "execution_count": 26,
   "id": "21c22934",
   "metadata": {},
   "outputs": [],
   "source": [
    "final_df=[]\n",
    "for label in df['AQI_Bucket'].unique().tolist():\n",
    "    label_df=df.loc[df['AQI_Bucket']==label]\n",
    "    oversampled=resample(label_df,n_samples=max(df['AQI_Bucket'].value_counts()))\n",
    "    final_df.append(oversampled)"
   ]
  },
  {
   "cell_type": "code",
   "execution_count": 27,
   "id": "b847dafe",
   "metadata": {},
   "outputs": [],
   "source": [
    "df=pd.concat(final_df,ignore_index=True)\n",
    "df=df.sample(frac=1).reset_index(drop=True)"
   ]
  },
  {
   "cell_type": "code",
   "execution_count": 28,
   "id": "53e6d6eb",
   "metadata": {},
   "outputs": [
    {
     "data": {
      "text/plain": [
       "(35646, 11)"
      ]
     },
     "execution_count": 28,
     "metadata": {},
     "output_type": "execute_result"
    }
   ],
   "source": [
    "df.shape"
   ]
  },
  {
   "cell_type": "code",
   "execution_count": 29,
   "id": "b42d66c6",
   "metadata": {},
   "outputs": [
    {
     "data": {
      "text/html": [
       "<div>\n",
       "<style scoped>\n",
       "    .dataframe tbody tr th:only-of-type {\n",
       "        vertical-align: middle;\n",
       "    }\n",
       "\n",
       "    .dataframe tbody tr th {\n",
       "        vertical-align: top;\n",
       "    }\n",
       "\n",
       "    .dataframe thead th {\n",
       "        text-align: right;\n",
       "    }\n",
       "</style>\n",
       "<table border=\"1\" class=\"dataframe\">\n",
       "  <thead>\n",
       "    <tr style=\"text-align: right;\">\n",
       "      <th></th>\n",
       "      <th>PM2.5</th>\n",
       "      <th>NO</th>\n",
       "      <th>NH3</th>\n",
       "      <th>NOx</th>\n",
       "      <th>CO</th>\n",
       "      <th>SO2</th>\n",
       "      <th>O3</th>\n",
       "      <th>Benzene</th>\n",
       "      <th>Toluene</th>\n",
       "      <th>AQI</th>\n",
       "      <th>AQI_Bucket</th>\n",
       "    </tr>\n",
       "  </thead>\n",
       "  <tbody>\n",
       "    <tr>\n",
       "      <th>0</th>\n",
       "      <td>94.47</td>\n",
       "      <td>33.58</td>\n",
       "      <td>23.43</td>\n",
       "      <td>57.00</td>\n",
       "      <td>1.05</td>\n",
       "      <td>6.81</td>\n",
       "      <td>19.85</td>\n",
       "      <td>0.20</td>\n",
       "      <td>0.86</td>\n",
       "      <td>210.0</td>\n",
       "      <td>Poor</td>\n",
       "    </tr>\n",
       "    <tr>\n",
       "      <th>1</th>\n",
       "      <td>52.95</td>\n",
       "      <td>13.86</td>\n",
       "      <td>54.40</td>\n",
       "      <td>39.49</td>\n",
       "      <td>1.08</td>\n",
       "      <td>12.38</td>\n",
       "      <td>33.49</td>\n",
       "      <td>6.25</td>\n",
       "      <td>35.39</td>\n",
       "      <td>130.0</td>\n",
       "      <td>Moderate</td>\n",
       "    </tr>\n",
       "    <tr>\n",
       "      <th>2</th>\n",
       "      <td>114.95</td>\n",
       "      <td>33.15</td>\n",
       "      <td>81.62</td>\n",
       "      <td>107.33</td>\n",
       "      <td>0.86</td>\n",
       "      <td>13.30</td>\n",
       "      <td>41.71</td>\n",
       "      <td>5.11</td>\n",
       "      <td>9.27</td>\n",
       "      <td>286.0</td>\n",
       "      <td>Poor</td>\n",
       "    </tr>\n",
       "    <tr>\n",
       "      <th>3</th>\n",
       "      <td>40.53</td>\n",
       "      <td>36.00</td>\n",
       "      <td>43.33</td>\n",
       "      <td>61.43</td>\n",
       "      <td>36.00</td>\n",
       "      <td>49.29</td>\n",
       "      <td>32.49</td>\n",
       "      <td>2.14</td>\n",
       "      <td>32.05</td>\n",
       "      <td>563.0</td>\n",
       "      <td>Severe</td>\n",
       "    </tr>\n",
       "    <tr>\n",
       "      <th>4</th>\n",
       "      <td>35.94</td>\n",
       "      <td>17.24</td>\n",
       "      <td>17.53</td>\n",
       "      <td>35.08</td>\n",
       "      <td>0.77</td>\n",
       "      <td>6.63</td>\n",
       "      <td>23.65</td>\n",
       "      <td>0.06</td>\n",
       "      <td>0.32</td>\n",
       "      <td>83.0</td>\n",
       "      <td>Satisfactory</td>\n",
       "    </tr>\n",
       "  </tbody>\n",
       "</table>\n",
       "</div>"
      ],
      "text/plain": [
       "    PM2.5     NO    NH3     NOx     CO    SO2     O3  Benzene  Toluene    AQI  \\\n",
       "0   94.47  33.58  23.43   57.00   1.05   6.81  19.85     0.20     0.86  210.0   \n",
       "1   52.95  13.86  54.40   39.49   1.08  12.38  33.49     6.25    35.39  130.0   \n",
       "2  114.95  33.15  81.62  107.33   0.86  13.30  41.71     5.11     9.27  286.0   \n",
       "3   40.53  36.00  43.33   61.43  36.00  49.29  32.49     2.14    32.05  563.0   \n",
       "4   35.94  17.24  17.53   35.08   0.77   6.63  23.65     0.06     0.32   83.0   \n",
       "\n",
       "     AQI_Bucket  \n",
       "0          Poor  \n",
       "1      Moderate  \n",
       "2          Poor  \n",
       "3        Severe  \n",
       "4  Satisfactory  "
      ]
     },
     "execution_count": 29,
     "metadata": {},
     "output_type": "execute_result"
    }
   ],
   "source": [
    "df.head()"
   ]
  },
  {
   "cell_type": "code",
   "execution_count": 30,
   "id": "a67a6a72",
   "metadata": {},
   "outputs": [
    {
     "data": {
      "text/plain": [
       "Poor            5941\n",
       "Moderate        5941\n",
       "Severe          5941\n",
       "Satisfactory    5941\n",
       "Very Poor       5941\n",
       "Good            5941\n",
       "Name: AQI_Bucket, dtype: int64"
      ]
     },
     "execution_count": 30,
     "metadata": {},
     "output_type": "execute_result"
    }
   ],
   "source": [
    "df.AQI_Bucket.value_counts()"
   ]
  },
  {
   "cell_type": "code",
   "execution_count": 31,
   "id": "7a38f78d",
   "metadata": {},
   "outputs": [
    {
     "data": {
      "image/png": "[encoded data removed]",
      "text/plain": [
       "<Figure size 1296x576 with 1 Axes>"
      ]
     },
     "metadata": {
      "needs_background": "light"
     },
     "output_type": "display_data"
    }
   ],
   "source": [
    "plt.figure(figsize=(18,8))\n",
    "ax=sns.countplot(x='AQI_Bucket',data=df,palette='rocket')\n",
    "plt.xlabel(xlabel='classes')\n",
    "plt.ylabel(ylabel='# of records')\n",
    "plt.ylim(0,7000)\n",
    "for p in ax.patches:\n",
    "    ax.annotate((p.get_height()),(p.get_x()+0.30,p.get_height()+500))\n",
    "plt.show()"
   ]
  },
  {
   "cell_type": "markdown",
   "id": "4adfb3a4",
   "metadata": {},
   "source": [
    "***Data Splitting***"
   ]
  },
  {
   "cell_type": "code",
   "execution_count": 38,
   "id": "42987820",
   "metadata": {},
   "outputs": [],
   "source": [
    "X=df.drop(labels='AQI_Bucket',axis=1)\n",
    "y=df['AQI_Bucket']"
   ]
  },
  {
   "cell_type": "code",
   "execution_count": 39,
   "id": "b2cc0c33",
   "metadata": {},
   "outputs": [
    {
     "data": {
      "text/html": [
       "<div>\n",
       "<style scoped>\n",
       "    .dataframe tbody tr th:only-of-type {\n",
       "        vertical-align: middle;\n",
       "    }\n",
       "\n",
       "    .dataframe tbody tr th {\n",
       "        vertical-align: top;\n",
       "    }\n",
       "\n",
       "    .dataframe thead th {\n",
       "        text-align: right;\n",
       "    }\n",
       "</style>\n",
       "<table border=\"1\" class=\"dataframe\">\n",
       "  <thead>\n",
       "    <tr style=\"text-align: right;\">\n",
       "      <th></th>\n",
       "      <th>PM2.5</th>\n",
       "      <th>NO</th>\n",
       "      <th>NH3</th>\n",
       "      <th>NOx</th>\n",
       "      <th>CO</th>\n",
       "      <th>SO2</th>\n",
       "      <th>O3</th>\n",
       "      <th>Benzene</th>\n",
       "      <th>Toluene</th>\n",
       "      <th>AQI</th>\n",
       "    </tr>\n",
       "  </thead>\n",
       "  <tbody>\n",
       "    <tr>\n",
       "      <th>0</th>\n",
       "      <td>94.47</td>\n",
       "      <td>33.58</td>\n",
       "      <td>23.43</td>\n",
       "      <td>57.00</td>\n",
       "      <td>1.05</td>\n",
       "      <td>6.81</td>\n",
       "      <td>19.85</td>\n",
       "      <td>0.20</td>\n",
       "      <td>0.86</td>\n",
       "      <td>210.0</td>\n",
       "    </tr>\n",
       "    <tr>\n",
       "      <th>1</th>\n",
       "      <td>52.95</td>\n",
       "      <td>13.86</td>\n",
       "      <td>54.40</td>\n",
       "      <td>39.49</td>\n",
       "      <td>1.08</td>\n",
       "      <td>12.38</td>\n",
       "      <td>33.49</td>\n",
       "      <td>6.25</td>\n",
       "      <td>35.39</td>\n",
       "      <td>130.0</td>\n",
       "    </tr>\n",
       "    <tr>\n",
       "      <th>2</th>\n",
       "      <td>114.95</td>\n",
       "      <td>33.15</td>\n",
       "      <td>81.62</td>\n",
       "      <td>107.33</td>\n",
       "      <td>0.86</td>\n",
       "      <td>13.30</td>\n",
       "      <td>41.71</td>\n",
       "      <td>5.11</td>\n",
       "      <td>9.27</td>\n",
       "      <td>286.0</td>\n",
       "    </tr>\n",
       "    <tr>\n",
       "      <th>3</th>\n",
       "      <td>40.53</td>\n",
       "      <td>36.00</td>\n",
       "      <td>43.33</td>\n",
       "      <td>61.43</td>\n",
       "      <td>36.00</td>\n",
       "      <td>49.29</td>\n",
       "      <td>32.49</td>\n",
       "      <td>2.14</td>\n",
       "      <td>32.05</td>\n",
       "      <td>563.0</td>\n",
       "    </tr>\n",
       "    <tr>\n",
       "      <th>4</th>\n",
       "      <td>35.94</td>\n",
       "      <td>17.24</td>\n",
       "      <td>17.53</td>\n",
       "      <td>35.08</td>\n",
       "      <td>0.77</td>\n",
       "      <td>6.63</td>\n",
       "      <td>23.65</td>\n",
       "      <td>0.06</td>\n",
       "      <td>0.32</td>\n",
       "      <td>83.0</td>\n",
       "    </tr>\n",
       "  </tbody>\n",
       "</table>\n",
       "</div>"
      ],
      "text/plain": [
       "    PM2.5     NO    NH3     NOx     CO    SO2     O3  Benzene  Toluene    AQI\n",
       "0   94.47  33.58  23.43   57.00   1.05   6.81  19.85     0.20     0.86  210.0\n",
       "1   52.95  13.86  54.40   39.49   1.08  12.38  33.49     6.25    35.39  130.0\n",
       "2  114.95  33.15  81.62  107.33   0.86  13.30  41.71     5.11     9.27  286.0\n",
       "3   40.53  36.00  43.33   61.43  36.00  49.29  32.49     2.14    32.05  563.0\n",
       "4   35.94  17.24  17.53   35.08   0.77   6.63  23.65     0.06     0.32   83.0"
      ]
     },
     "execution_count": 39,
     "metadata": {},
     "output_type": "execute_result"
    }
   ],
   "source": [
    "X.head()"
   ]
  },
  {
   "cell_type": "code",
   "execution_count": 40,
   "id": "f33b27eb",
   "metadata": {},
   "outputs": [
    {
     "data": {
      "text/plain": [
       "0            Poor\n",
       "1        Moderate\n",
       "2            Poor\n",
       "3          Severe\n",
       "4    Satisfactory\n",
       "Name: AQI_Bucket, dtype: object"
      ]
     },
     "execution_count": 40,
     "metadata": {},
     "output_type": "execute_result"
    }
   ],
   "source": [
    "y.head()"
   ]
  },
  {
   "cell_type": "code",
   "execution_count": 41,
   "id": "e06b5d29",
   "metadata": {},
   "outputs": [],
   "source": [
    "from sklearn.preprocessing import LabelEncoder\n",
    "encoder=LabelEncoder()\n",
    "y=encoder.fit_transform(y)"
   ]
  },
  {
   "cell_type": "code",
   "execution_count": 42,
   "id": "eb7ab31d",
   "metadata": {},
   "outputs": [
    {
     "data": {
      "text/plain": [
       "array([2, 1, 2, ..., 2, 1, 2])"
      ]
     },
     "execution_count": 42,
     "metadata": {},
     "output_type": "execute_result"
    }
   ],
   "source": [
    "y"
   ]
  },
  {
   "cell_type": "code",
   "execution_count": 45,
   "id": "92e63f6d",
   "metadata": {},
   "outputs": [
    {
     "name": "stdout",
     "output_type": "stream",
     "text": [
      "(28516, 10) (7130, 10) (28516,) (7130,)\n"
     ]
    }
   ],
   "source": [
    "X_train,X_test,y_train,y_test=train_test_split(X,y,test_size=0.2,random_state=42)\n",
    "print(X_train.shape,X_test.shape,y_train.shape,y_test.shape)"
   ]
  },
  {
   "cell_type": "markdown",
   "id": "0e8f1a5d",
   "metadata": {},
   "source": [
    "# Algorithm:1 RandomForest"
   ]
  },
  {
   "cell_type": "code",
   "execution_count": 50,
   "id": "53d9695d",
   "metadata": {},
   "outputs": [
    {
     "data": {
      "text/html": [
       "<style>#sk-container-id-2 {color: black;background-color: white;}#sk-container-id-2 pre{padding: 0;}#sk-container-id-2 div.sk-toggleable {background-color: white;}#sk-container-id-2 label.sk-toggleable__label {cursor: pointer;display: block;width: 100%;margin-bottom: 0;padding: 0.3em;box-sizing: border-box;text-align: center;}#sk-container-id-2 label.sk-toggleable__label-arrow:before {content: \"▸\";float: left;margin-right: 0.25em;color: #696969;}#sk-container-id-2 label.sk-toggleable__label-arrow:hover:before {color: black;}#sk-container-id-2 div.sk-estimator:hover label.sk-toggleable__label-arrow:before {color: black;}#sk-container-id-2 div.sk-toggleable__content {max-height: 0;max-width: 0;overflow: hidden;text-align: left;background-color: #f0f8ff;}#sk-container-id-2 div.sk-toggleable__content pre {margin: 0.2em;color: black;border-radius: 0.25em;background-color: #f0f8ff;}#sk-container-id-2 input.sk-toggleable__control:checked~div.sk-toggleable__content {max-height: 200px;max-width: 100%;overflow: auto;}#sk-container-id-2 input.sk-toggleable__control:checked~label.sk-toggleable__label-arrow:before {content: \"▾\";}#sk-container-id-2 div.sk-estimator input.sk-toggleable__control:checked~label.sk-toggleable__label {background-color: #d4ebff;}#sk-container-id-2 div.sk-label input.sk-toggleable__control:checked~label.sk-toggleable__label {background-color: #d4ebff;}#sk-container-id-2 input.sk-hidden--visually {border: 0;clip: rect(1px 1px 1px 1px);clip: rect(1px, 1px, 1px, 1px);height: 1px;margin: -1px;overflow: hidden;padding: 0;position: absolute;width: 1px;}#sk-container-id-2 div.sk-estimator {font-family: monospace;background-color: #f0f8ff;border: 1px dotted black;border-radius: 0.25em;box-sizing: border-box;margin-bottom: 0.5em;}#sk-container-id-2 div.sk-estimator:hover {background-color: #d4ebff;}#sk-container-id-2 div.sk-parallel-item::after {content: \"\";width: 100%;border-bottom: 1px solid gray;flex-grow: 1;}#sk-container-id-2 div.sk-label:hover label.sk-toggleable__label {background-color: #d4ebff;}#sk-container-id-2 div.sk-serial::before {content: \"\";position: absolute;border-left: 1px solid gray;box-sizing: border-box;top: 0;bottom: 0;left: 50%;z-index: 0;}#sk-container-id-2 div.sk-serial {display: flex;flex-direction: column;align-items: center;background-color: white;padding-right: 0.2em;padding-left: 0.2em;position: relative;}#sk-container-id-2 div.sk-item {position: relative;z-index: 1;}#sk-container-id-2 div.sk-parallel {display: flex;align-items: stretch;justify-content: center;background-color: white;position: relative;}#sk-container-id-2 div.sk-item::before, #sk-container-id-2 div.sk-parallel-item::before {content: \"\";position: absolute;border-left: 1px solid gray;box-sizing: border-box;top: 0;bottom: 0;left: 50%;z-index: -1;}#sk-container-id-2 div.sk-parallel-item {display: flex;flex-direction: column;z-index: 1;position: relative;background-color: white;}#sk-container-id-2 div.sk-parallel-item:first-child::after {align-self: flex-end;width: 50%;}#sk-container-id-2 div.sk-parallel-item:last-child::after {align-self: flex-start;width: 50%;}#sk-container-id-2 div.sk-parallel-item:only-child::after {width: 0;}#sk-container-id-2 div.sk-dashed-wrapped {border: 1px dashed gray;margin: 0 0.4em 0.5em 0.4em;box-sizing: border-box;padding-bottom: 0.4em;background-color: white;}#sk-container-id-2 div.sk-label label {font-family: monospace;font-weight: bold;display: inline-block;line-height: 1.2em;}#sk-container-id-2 div.sk-label-container {text-align: center;}#sk-container-id-2 div.sk-container {/* jupyter's `normalize.less` sets `[hidden] { display: none; }` but bootstrap.min.css set `[hidden] { display: none !important; }` so we also need the `!important` here to be able to override the default hidden behavior on the sphinx rendered scikit-learn.org. See: https://github.com/scikit-learn/scikit-learn/issues/21755 */display: inline-block !important;position: relative;}#sk-container-id-2 div.sk-text-repr-fallback {display: none;}</style><div id=\"sk-container-id-2\" class=\"sk-top-container\"><div class=\"sk-text-repr-fallback\"><pre>RandomForestClassifier(n_estimators=1)</pre><b>In a Jupyter environment, please rerun this cell to show the HTML representation or trust the notebook. <br />On GitHub, the HTML representation is unable to render, please try loading this page with nbviewer.org.</b></div><div class=\"sk-container\" hidden><div class=\"sk-item\"><div class=\"sk-estimator sk-toggleable\"><input class=\"sk-toggleable__control sk-hidden--visually\" id=\"sk-estimator-id-2\" type=\"checkbox\" checked><label for=\"sk-estimator-id-2\" class=\"sk-toggleable__label sk-toggleable__label-arrow\">RandomForestClassifier</label><div class=\"sk-toggleable__content\"><pre>RandomForestClassifier(n_estimators=1)</pre></div></div></div></div></div>"
      ],
      "text/plain": [
       "RandomForestClassifier(n_estimators=1)"
      ]
     },
     "execution_count": 50,
     "metadata": {},
     "output_type": "execute_result"
    }
   ],
   "source": [
    "from sklearn.ensemble import RandomForestClassifier\n",
    "RF_model=RandomForestClassifier(n_estimators=1)\n",
    "RF_model.fit(X_train.values,y_train)"
   ]
  },
  {
   "cell_type": "code",
   "execution_count": 51,
   "id": "2940a694",
   "metadata": {},
   "outputs": [
    {
     "name": "stdout",
     "output_type": "stream",
     "text": [
      "[4, 3, 4, 3, 5, 0, 3, 4, 1, 0, 2, 1, 3, 3, 2, 3, 5, 2, 0, 4, 4, 3, 1, 2, 4, 0, 5, 1, 2, 4, 2, 0, 2, 5, 3, 4, 4, 5, 4, 4, 0, 3, 4, 2, 5, 5, 2, 5, 3, 0, 5, 0, 3, 3, 4, 5, 1, 0, 0, 2, 3, 0, 5, 0, 3, 4, 3, 2, 2, 1, 0, 0, 2, 2, 2, 5, 0, 1, 2, 1, 4, 3, 4, 5, 3, 5, 0, 3, 4, 1, 0, 4, 1, 3, 3, 4, 2, 4, 1, 1, 4, 4, 5, 4, 1, 1, 4, 4, 2, 1, 4, 0, 5, 3, 5, 0, 5, 5, 1, 4, 5, 2, 3, 1, 0, 4, 0, 5, 5, 4, 0, 4, 1, 2, 1, 4, 2, 3, 1, 5, 4, 4, 1, 2, 5, 4, 1, 0, 0, 4, 3, 5, 1, 4, 3, 2, 2, 4, 3, 4, 0, 0, 0, 5, 1, 2, 0, 3, 4, 0, 3, 5, 2, 1, 0, 4, 2, 3, 4, 3, 4, 0, 2, 0, 1, 1, 5, 5, 4, 4, 2, 2, 5, 0, 2, 5, 4, 4, 5, 3, 3, 0, 1, 2, 1, 5, 4, 5, 1, 1, 1, 0, 2, 2, 3, 2, 5, 5, 2, 4, 3, 4, 1, 5, 2, 0, 2, 1, 1, 1, 0, 1, 1, 2, 1, 3, 0, 0, 4, 4, 5, 3, 3, 2, 2, 4, 0, 2, 0, 0, 4, 2, 5, 5, 3, 3, 5, 2, 4, 1, 5, 1, 4, 2, 4, 1, 4, 3, 0, 4, 4, 0, 1, 0, 1, 4, 2, 2, 5, 3, 5, 2, 5, 4, 2, 3, 5, 4, 1, 2, 2, 5, 0, 4, 5, 1, 0, 5, 3, 2, 3, 5, 3, 4, 4, 5, 5, 4, 3, 1, 5, 4, 3, 5, 1, 3, 2, 4, 4, 2, 2, 3, 1, 0, 0, 1, 5, 0, 3, 5, 0, 4, 2, 2, 2, 2, 1, 2, 4, 2, 3, 2, 5, 2, 1, 3, 5, 3, 2, 0, 0, 2, 0, 1, 2, 0, 1, 4, 5, 2, 2, 0, 0, 4, 1, 4, 0, 5, 2, 1, 5, 5, 4, 3, 4, 0, 5, 4, 5, 2, 2, 4, 5, 5, 2, 4, 1, 4, 3, 3, 0, 3, 2, 4, 0, 0, 4, 5, 3, 4, 2, 0, 3, 5, 2, 2, 2, 1, 0, 5, 0, 5, 1, 4, 0, 0, 4, 2, 5, 4, 4, 2, 4, 2, 3, 5, 0, 3, 0, 3, 5, 0, 5, 4, 2, 0, 3, 1, 5, 5, 2, 0, 1, 1, 5, 1, 4, 0, 2, 5, 4, 3, 0, 4, 5, 0, 5, 3, 0, 3, 1, 0, 5, 2, 0, 4, 2, 1, 0, 4, 3, 3, 0, 1, 0, 2, 4, 0, 1, 3, 0, 3, 1, 1, 4, 4, 0, 2, 2, 0, 0, 1, 5, 1, 3, 3, 0, 5, 4, 3, 0, 5, 4, 5, 4, 1, 1, 1, 3, 5, 2, 5, 4, 0, 0, 4, 2, 2, 5, 4, 2, 2, 3, 1, 5, 1, 3, 3, 2, 1, 3, 1, 4, 4, 1, 1, 2, 5, 2, 1, 4, 1, 3, 0, 3, 2, 0, 4, 0, 4, 1, 3, 2, 3, 5, 1, 3, 2, 5, 0, 5, 5, 5, 0, 2, 5, 0, 0, 3, 3, 1, 1, 3, 3, 0, 3, 4, 1, 4, 3, 0, 5, 0, 2, 2, 4, 2, 4, 3, 2, 3, 4, 0, 4, 2, 0, 5, 0, 3, 5, 4, 1, 3, 4, 1, 1, 5, 1, 5, 5, 5, 2, 4, 2, 0, 4, 4, 4, 5, 4, 1, 3, 2, 4, 2, 3, 4, 0, 1, 4, 4, 4, 4, 3, 4, 5, 0, 3, 5, 2, 5, 2, 4, 4, 0, 3, 4, 0, 1, 0, 5, 4, 1, 0, 3, 4, 0, 0, 2, 1, 1, 4, 2, 5, 2, 4, 5, 2, 3, 4, 3, 3, 5, 4, 2, 4, 1, 4, 0, 4, 0, 2, 3, 2, 5, 3, 5, 3, 3, 5, 1, 2, 4, 1, 1, 4, 4, 1, 3, 2, 1, 1, 1, 5, 0, 3, 3, 2, 3, 5, 2, 5, 4, 4, 3, 3, 4, 0, 5, 5, 3, 3, 0, 5, 3, 1, 3, 5, 4, 2, 2, 4, 5, 0, 0, 5, 0, 2, 3, 2, 2, 3, 5, 2, 2, 3, 0, 4, 3, 0, 1, 0, 5, 1, 0, 2, 4, 3, 2, 4, 4, 1, 3, 1, 1, 2, 5, 5, 1, 4, 3, 5, 3, 0, 5, 3, 4, 0, 1, 2, 0, 1, 0, 0, 0, 5, 4, 5, 1, 3, 0, 2, 2, 0, 5, 0, 5, 3, 5, 0, 3, 4, 4, 5, 4, 5, 4, 5, 0, 3, 1, 0, 5, 2, 0, 1, 2, 4, 4, 0, 4, 5, 5, 3, 2, 5, 0, 5, 1, 3, 2, 5, 4, 4, 5, 3, 3, 0, 0, 5, 1, 5, 0, 5, 3, 2, 3, 4, 4, 4, 0, 1, 2, 5, 5, 4, 3, 0, 4, 1, 4, 4, 3, 2, 2, 0, 1, 0, 5, 1, 4, 0, 2, 4, 1, 2, 3, 4, 4, 1, 5, 5, 4, 5, 2, 3, 1, 3, 3, 4, 1, 3, 1, 3, 4, 2, 2, 4, 3, 2, 3, 4, 0, 1, 3, 4, 4, 0, 1, 5, 3, 1, 3, 5, 5, 2, 5, 5, 3, 4, 3, 5, 3, 3, 3, 3, 5, 2, 0, 1, 5, 5, 4, 1, 3, 5, 4, 0, 0, 1, 4, 1, 2, 4, 3, 4, 2, 2, 0, 0, 3, 0, 0, 0, 5, 1, 0, 1, 2, 3, 3, 1, 5, 0, 5, 4, 0, 2, 4, 0, 4, 2, 2, 5, 2, 2, 3, 3, 4, 3, 0, 1, 0, 0, 0, 4, 1, 1, 5, 3, 1, 1, 1, 2, 2, 2, 4, 5, 3, 5, 3, 1, 5, 2, 0, 3, 1, 2, 0, 1, 0, 1, 1, 3, 1, 0, 4, 0, 1, 0, 2, 3, 4, 3, 2, 0, 3, 5, 0, 4, 4, 3, 3, 0, 4, 2, 2, 0, 0, 1, 2, 2, 1, 1, 5, 2, 3, 1, 4, 5, 2, 4, 5, 3, 2, 1, 1, 2, 1, 2, 0, 2, 2, 4, 4, 4, 4, 3, 2, 0, 3, 5, 1, 2, 0, 3, 0, 1, 0, 0, 1, 2, 4, 2, 1, 1, 1, 2, 4, 1, 0, 4, 4, 0, 1, 2, 3, 2, 0, 0, 4, 0, 5, 1, 0, 0, 1, 5, 0, 5, 3, 5, 0, 0, 0, 5, 1, 1, 0, 5, 1, 5, 2, 3, 5, 3, 5, 1, 3, 2, 2, 5, 2, 0, 5, 0, 1, 5, 3, 2, 5, 3, 2, 0, 0, 0, 1, 0, 4, 2, 0, 4, 5, 4, 0, 0, 4, 4, 3, 3, 5, 3, 2, 4, 2, 1, 4, 5, 3, 0, 3, 4, 1, 2, 3, 1, 3, 0, 1, 4, 5, 0, 3, 3, 5, 4, 3, 1, 1, 0, 0, 3, 4, 4, 5, 2, 1, 4, 3, 1, 2, 3, 3, 5, 3, 2, 5, 1, 1, 1, 2, 2, 4, 2, 4, 5, 3, 1, 3, 3, 0, 3, 3, 3, 3, 0, 0, 0, 2, 2, 5, 3, 3, 3, 0, 4, 5, 1, 2, 4, 4, 0, 4, 5, 0, 5, 1, 1, 4, 0, 4, 1, 0, 1, 4, 3, 1, 2, 2, 3, 0, 1, 2, 2, 4, 0, 4, 0, 2, 0, 2, 4, 1, 5, 0, 5, 1, 5, 2, 1, 5, 1, 4, 3, 1, 1, 4, 5, 0, 3, 1, 4, 2, 2, 5, 2, 0, 4, 1, 5, 1, 5, 0, 0, 0, 0, 2, 0, 1, 3, 3, 5, 3, 5, 5, 1, 0, 5, 3, 5, 5, 3, 5, 2, 3, 0, 1, 5, 1, 4, 1, 0, 3, 3, 1, 2, 0, 5, 2, 5, 3, 1, 4, 0, 4, 1, 5, 5, 4, 5, 4, 5, 0, 5, 5, 3, 3, 2, 5, 3, 4, 5, 4, 5, 4, 2, 4, 1, 5, 4, 5, 4, 1, 1, 5, 5, 1, 1, 1, 0, 2, 2, 1, 2, 2, 1, 1, 1, 5, 5, 0, 3, 4, 5, 3, 4, 2, 2, 0, 0, 1, 5, 3, 5, 4, 5, 1, 5, 2, 2, 1, 0, 2, 0, 3, 1, 4, 0, 5, 1, 0, 2, 0, 3, 4, 0, 2, 0, 1, 4, 4, 5, 2, 1, 3, 4, 5, 1, 2, 2, 4, 2, 1, 3, 1, 4, 0, 4, 1, 4, 5, 4, 1, 4, 3, 2, 1, 0, 2, 2, 1, 2, 3, 5, 1, 5, 3, 5, 5, 5, 1, 0, 0, 5, 5, 1, 2, 2, 2, 3, 2, 3, 3, 4, 0, 4, 5, 2, 3, 3, 2, 4, 2, 4, 2, 5, 2, 2, 4, 1, 1, 5, 0, 0, 2, 2, 5, 3, 2, 2, 0, 2, 0, 4, 4, 0, 4, 5, 3, 1, 1, 4, 0, 4, 3, 5, 4, 2, 4, 2, 2, 1, 3, 1, 2, 5, 4, 1, 3, 4, 0, 0, 5, 1, 2, 1, 1, 1, 3, 3, 1, 2, 4, 2, 0, 5, 4, 4, 4, 0, 0, 5, 2, 3, 2, 0, 2, 1, 0, 2, 5, 0, 1, 4, 2, 3, 3, 4, 0, 0, 3, 1, 5, 1, 0, 3, 0, 5, 0, 3, 0, 5, 0, 2, 5, 2, 2, 4, 4, 0, 1, 3, 2, 1, 1, 4, 2, 3, 2, 3, 1, 1, 5, 1, 3, 2, 1, 1, 5, 3, 3, 0, 1, 4, 2, 4, 2, 4, 3, 2, 1, 3, 5, 1, 3, 4, 2, 5, 2, 5, 2, 2, 0, 4, 0, 5, 3, 5, 5, 0, 1, 3, 2, 1, 1, 5, 5, 4, 0, 1, 5, 5, 2, 5, 2, 3, 4, 3, 5, 3, 0, 3, 5, 3, 0, 4, 0, 1, 4, 1, 1, 5, 3, 2, 1, 2, 5, 1, 2, 3, 2, 2, 1, 0, 1, 0, 1, 5, 4, 5, 1, 0, 0, 0, 3, 1, 2, 4, 5, 3, 0, 0, 0, 2, 3, 3, 3, 5, 1, 3, 2, 3, 1, 0, 0, 4, 0, 2, 4, 0, 3, 0, 0, 4, 2, 1, 3, 1, 3, 0, 1, 3, 5, 5, 3, 2, 2, 2, 2, 0, 2, 0, 3, 4, 1, 3, 5, 2, 2, 3, 0, 3, 1, 0, 4, 5, 2, 5, 1, 1, 2, 4, 3, 5, 1, 3, 5, 5, 4, 0, 0, 3, 1, 5, 3, 3, 4, 1, 0, 3, 0, 3, 1, 2, 5, 2, 0, 5, 5, 1, 3, 1, 1, 2, 2, 0, 0, 5, 4, 4, 2, 2, 5, 0, 4, 2, 0, 2, 1, 3, 1, 1, 3, 5, 3, 1, 4, 2, 0, 3, 1, 3, 4, 3, 1, 2, 3, 3, 5, 3, 1, 1, 1, 1, 0, 1, 4, 0, 2, 4, 1, 4, 3, 5, 5, 4, 0, 4, 5, 2, 2, 0, 2, 1, 0, 4, 0, 0, 5, 1, 4, 4, 4, 4, 5, 1, 5, 2, 2, 4, 2, 5, 1, 5, 1, 3, 2, 5, 0, 2, 4, 5, 3, 5, 2, 1, 0, 2, 5, 4, 0, 0, 1, 5, 3, 5, 3, 3, 2, 4, 0, 2, 3, 2, 2, 4, 5, 4, 5, 4, 2, 4, 1, 0, 0, 4, 2, 5, 0, 1, 3, 3, 3, 2, 0, 4, 3, 1, 4, 3, 4, 1, 4, 1, 4, 0, 4, 2, 3, 2, 2, 4, 4, 4, 2, 4, 5, 0, 2, 0, 3, 0, 1, 5, 4, 0, 2, 3, 0, 3, 1, 4, 1, 1, 3, 4, 3, 0, 5, 3, 1, 1, 0, 5, 5, 1, 3, 2, 5, 2, 0, 5, 0, 0, 2, 4, 0, 5, 3, 4, 0, 3, 5, 0, 1, 2, 5, 4, 5, 3, 2, 0, 0, 4, 0, 0, 5, 4, 5, 1, 2, 2, 5, 3, 5, 1, 2, 5, 1, 0, 3, 1, 5, 1, 4, 5, 2, 0, 4, 3, 5, 3, 3, 1, 3, 4, 3, 3, 5, 3, 0, 0, 3, 5, 0, 3, 4, 4, 4, 5, 5, 0, 1, 4, 1, 5, 0, 0, 0, 0, 2, 4, 3, 4, 0, 3, 2, 1, 4, 3, 4, 4, 1, 5, 0, 3, 0, 4, 4, 1, 1, 5, 4, 3, 3, 2, 4, 0, 5, 0, 4, 5, 4, 5, 5, 1, 4, 5, 4, 4, 1, 5, 2, 2, 4, 5, 1, 2, 0, 2, 3, 2, 0, 2, 5, 5, 4, 4, 3, 3, 2, 3, 4, 3, 2, 5, 3, 1, 3, 2, 2, 5, 5, 2, 0, 4, 3, 4, 5, 2, 1, 4, 4, 4, 1, 1, 2, 4, 2, 3, 1, 2, 4, 5, 1, 5, 4, 3, 5, 5, 5, 4, 0, 4, 1, 3, 0, 3, 1, 2, 4, 4, 2, 2, 4, 0, 1, 3, 4, 5, 4, 2, 2, 2, 4, 4, 0, 1, 5, 3, 5, 2, 5, 3, 3, 2, 5, 0, 3, 0, 0, 1, 0, 2, 0, 3, 0, 1, 0, 5, 5, 5, 2, 0, 1, 2, 5, 3, 5, 3, 3, 1, 4, 0, 1, 1, 1, 4, 3, 3, 3, 2, 0, 3, 3, 3, 0, 0, 0, 0, 1, 1, 0, 3, 0, 4, 1, 2, 2, 3, 1, 4, 1, 3, 2, 5, 2, 5, 5, 0, 5, 2, 4, 4, 1, 3, 2, 0, 3, 1, 4, 5, 1, 0, 0, 0, 4, 1, 3, 4, 1, 1, 0, 2, 1, 4, 2, 4, 3, 3, 0, 1, 5, 1, 0, 4, 4, 2, 2, 4, 0, 5, 1, 1, 5, 4, 1, 0, 0, 4, 4, 5, 2, 5, 1, 5, 5, 0, 1, 1, 0, 1, 5, 2, 0, 2, 1, 0, 1, 0, 0, 1, 5, 3, 5, 3, 5, 5, 1, 1, 1, 5, 0, 4, 3, 2, 2, 3, 3, 3, 2, 5, 4, 4, 3, 5, 0, 1, 2, 5, 4, 2, 4, 4, 1, 4, 5, 2, 5, 0, 5, 0, 3, 4, 3, 2, 5, 4, 1, 1, 2, 5, 1, 4, 5, 1, 4, 5, 4, 4, 5, 4, 1, 4, 1, 3, 5, 3, 2, 3, 3, 0, 3, 2, 5, 5, 4, 2, 5, 1, 2, 0, 1, 3, 0, 4, 2, 2, 1, 3, 4, 0, 3, 5, 4, 0, 1, 1, 5, 2, 0, 5, 4, 4, 3, 5, 5, 4, 4, 2, 2, 2, 3, 3, 2, 1, 2, 1, 1, 1, 1, 1, 5, 3, 4, 2, 3, 1, 1, 3, 1, 1, 2, 4, 5, 1, 2, 4, 5, 2, 1, 3, 5, 0, 0, 2, 0, 5, 3, 5, 2, 1, 5, 2, 1, 2, 1, 0, 4, 2, 1, 0, 5, 5, 1, 5, 0, 5, 4, 0, 5, 4, 3, 1, 1, 3, 5, 0, 2, 5, 4, 1, 1, 4, 3, 4, 0, 2, 3, 2, 3, 4, 3, 1, 3, 3, 0, 3, 1, 4, 3, 3, 5, 0, 4, 4, 0, 3, 4, 4, 2, 3, 1, 0, 0, 3, 1, 4, 0, 4, 5, 1, 1, 4, 0, 0, 0, 3, 3, 1, 5, 4, 4, 0, 0, 3, 4, 5, 3, 1, 5, 0, 2, 2, 0, 4, 3, 5, 0, 1, 2, 2, 2, 2, 0, 2, 1, 4, 0, 0, 2, 4, 2, 5, 4, 0, 4, 4, 1, 2, 1, 4, 1, 1, 5, 0, 1, 4, 5, 1, 5, 5, 0, 0, 1, 1, 2, 1, 1, 3, 3, 0, 5, 4, 4, 0, 4, 0, 5, 0, 5, 4, 1, 4, 1, 1, 5, 0, 5, 3, 3, 1, 0, 0, 4, 3, 1, 0, 2, 3, 2, 2, 0, 0, 5, 2, 1, 5, 0, 4, 5, 0, 2, 2, 3, 3, 0, 2, 0, 0, 5, 3, 2, 0, 3, 5, 2, 3, 5, 2, 1, 3, 0, 0, 2, 5, 4, 0, 3, 5, 3, 3, 1, 5, 0, 0, 5, 3, 4, 0, 3, 1, 0, 0, 1, 2, 0, 5, 1, 2, 2, 0, 5, 1, 0, 0, 0, 5, 2, 3, 3, 3, 3, 2, 3, 0, 3, 1, 3, 2, 0, 0, 1, 1, 4, 0, 1, 2, 5, 3, 3, 4, 2, 2, 1, 4, 5, 5, 1, 1, 3, 4, 3, 4, 4, 2, 5, 0, 5, 3, 0, 2, 2, 4, 0, 3, 1, 0, 0, 2, 5, 2, 5, 4, 1, 2, 1, 5, 2, 3, 2, 5, 0, 4, 0, 2, 2, 5, 0, 5, 0, 4, 5, 4, 3, 3, 5, 0, 1, 3, 1, 4, 0, 3, 5, 2, 3, 1, 2, 4, 3, 4, 2, 0, 1, 0, 2, 1, 4, 2, 0, 1, 2, 2, 3, 4, 3, 3, 5, 3, 2, 3, 5, 1, 1, 2, 2, 3, 1, 0, 2, 2, 1, 0, 4, 0, 4, 1, 2, 2, 5, 0, 3, 5, 0, 3, 0, 2, 3, 5, 1, 1, 5, 2, 2, 4, 2, 3, 5, 1, 4, 1, 4, 4, 4, 2, 4, 2, 2, 1, 2, 2, 5, 3, 1, 0, 4, 0, 3, 3, 1, 4, 0, 3, 2, 3, 0, 3, 3, 0, 2, 3, 5, 4, 4, 0, 4, 3, 1, 2, 0, 0, 1, 0, 1, 3, 2, 0, 5, 2, 1, 4, 4, 1, 1, 0, 4, 4, 3, 4, 0, 2, 2, 3, 1, 1, 5, 0, 3, 3, 5, 5, 4, 1, 3, 3, 5, 4, 4, 1, 5, 0, 2, 1, 4, 1, 0, 3, 5, 0, 2, 1, 0, 0, 0, 4, 5, 0, 5, 4, 3, 2, 2, 5, 2, 4, 4, 1, 2, 4, 4, 1, 4, 1, 1, 5, 3, 0, 0, 2, 0, 1, 4, 0, 2, 2, 3, 4, 2, 5, 0, 5, 5, 5, 5, 0, 4, 4, 5, 0, 3, 3, 2, 2, 4, 1, 4, 5, 3, 0, 5, 3, 5, 3, 4, 2, 4, 2, 4, 1, 5, 0, 4, 2, 3, 1, 0, 0, 2, 0, 2, 3, 2, 0, 0, 3, 5, 1, 5, 4, 3, 3, 1, 2, 1, 1, 0, 3, 0, 4, 3, 5, 0, 0, 5, 2, 3, 4, 1, 5, 4, 0, 0, 5, 1, 5, 4, 2, 4, 2, 0, 5, 4, 2, 3, 5, 2, 1, 5, 0, 0, 4, 2, 0, 2, 5, 1, 5, 5, 2, 5, 5, 1, 5, 1, 5, 5, 1, 5, 0, 1, 1, 2, 0, 1, 1, 5, 0, 4, 0, 4, 3, 0, 3, 2, 0, 0, 5, 2, 4, 0, 4, 4, 5, 5, 0, 2, 4, 2, 1, 5, 0, 4, 3, 3, 0, 4, 5, 0, 5, 2, 0, 0, 0, 2, 5, 0, 0, 3, 0, 0, 4, 5, 5, 3, 1, 0, 0, 3, 4, 3, 4, 3, 0, 3, 1, 5, 2, 0, 4, 3, 3, 3, 1, 4, 2, 4, 2, 5, 2, 1, 0, 4, 5, 4, 3, 2, 2, 0, 3, 0, 3, 4, 4, 2, 5, 0, 5, 3, 2, 0, 5, 3, 1, 2, 3, 0, 1, 4, 1, 5, 4, 0, 3, 1, 0, 1, 3, 3, 0, 3, 5, 3, 1, 1, 1, 5, 4, 5, 1, 1, 1, 1, 4, 5, 1, 5, 5, 2, 2, 0, 1, 1, 2, 0, 1, 3, 1, 5, 0, 4, 2, 0, 1, 1, 1, 0, 2, 3, 5, 0, 3, 4, 5, 0, 5, 2, 1, 5, 1, 1, 3, 0, 0, 4, 5, 3, 2, 0, 3, 2, 1, 0, 4, 0, 5, 2, 3, 2, 1, 2, 4, 4, 4, 2, 4, 4, 4, 2, 5, 1, 1, 3, 0, 3, 3, 5, 3, 2, 1, 2, 2, 4, 3, 3, 1, 5, 0, 4, 2, 0, 5, 3, 0, 4, 4, 1, 5, 3, 4, 1, 1, 1, 5, 0, 0, 4, 3, 2, 5, 5, 4, 0, 1, 1, 3, 4, 5, 5, 0, 1, 0, 1, 5, 2, 5, 2, 0, 5, 2, 1, 4, 5, 0, 1, 3, 2, 3, 4, 4, 5, 5, 5, 3, 1, 0, 5, 3, 1, 2, 0, 2, 0, 0, 1, 3, 2, 2, 4, 2, 5, 3, 0, 2, 5, 5, 0, 3, 2, 3, 5, 1, 4, 0, 4, 0, 2, 5, 4, 3, 4, 5, 3, 3, 2, 4, 2, 5, 2, 5, 0, 1, 2, 4, 1, 4, 3, 0, 5, 0, 3, 0, 4, 5, 3, 3, 2, 2, 5, 3, 3, 4, 5, 0, 4, 2, 3, 2, 4, 1, 2, 0, 2, 2, 1, 2, 2, 1, 5, 3, 3, 4, 2, 1, 2, 2, 5, 5, 2, 2, 2, 0, 1, 4, 5, 1, 1, 4, 5, 1, 5, 5, 2, 0, 1, 2, 4, 4, 5, 0, 0, 0, 0, 5, 4, 0, 1, 3, 1, 4, 2, 1, 0, 3, 2, 4, 1, 3, 1, 1, 2, 5, 3, 2, 4, 4, 0, 3, 0, 2, 1, 3, 4, 5, 3, 3, 2, 0, 4, 0, 4, 0, 0, 2, 0, 4, 0, 1, 5, 5, 1, 1, 3, 2, 5, 5, 4, 2, 5, 3, 0, 1, 4, 3, 3, 3, 1, 3, 0, 2, 2, 0, 2, 3, 1, 5, 5, 5, 3, 5, 0, 4, 4, 3, 3, 5, 2, 5, 2, 0, 0, 2, 4, 5, 3, 0, 1, 0, 1, 3, 1, 5, 4, 5, 0, 1, 0, 4, 2, 0, 1, 5, 1, 0, 2, 5, 0, 5, 1, 2, 3, 3, 1, 4, 1, 3, 4, 2, 2, 3, 5, 3, 5, 5, 1, 1, 1, 5, 3, 2, 5, 1, 4, 5, 1, 0, 5, 5, 4, 2, 5, 0, 1, 4, 5, 2, 3, 3, 2, 2, 3, 3, 5, 2, 1, 2, 3, 0, 1, 5, 2, 1, 4, 0, 1, 0, 0, 4, 3, 2, 4, 4, 1, 2, 0, 4, 4, 1, 1, 1, 4, 0, 4, 5, 1, 1, 3, 4, 5, 2, 2, 3, 0, 3, 3, 2, 5, 4, 2, 2, 2, 1, 2, 5, 3, 1, 1, 4, 2, 1, 2, 5, 2, 3, 4, 2, 5, 4, 5, 5, 3, 2, 2, 5, 2, 0, 4, 2, 3, 1, 0, 2, 0, 5, 4, 0, 0, 0, 1, 1, 0, 1, 1, 0, 5, 4, 5, 4, 1, 3, 4, 1, 4, 1, 5, 2, 4, 2, 1, 1, 2, 2, 3, 3, 3, 1, 0, 1, 4, 1, 0, 1, 5, 3, 1, 0, 4, 5, 4, 1, 4, 4, 3, 4, 3, 2, 3, 1, 3, 4, 3, 1, 4, 3, 1, 0, 4, 0, 3, 0, 1, 5, 3, 0, 5, 2, 4, 0, 1, 0, 0, 5, 1, 5, 0, 1, 4, 1, 3, 1, 3, 4, 2, 3, 0, 1, 3, 4, 2, 2, 0, 4, 4, 1, 5, 2, 1, 3, 5, 4, 5, 4, 2, 0, 2, 5, 4, 3, 1, 1, 3, 4, 0, 3, 4, 1, 0, 3, 1, 1, 0, 1, 2, 3, 4, 4, 5, 5, 0, 2, 2, 1, 1, 1, 0, 3, 4, 4, 2, 2, 3, 1, 3, 0, 5, 1, 5, 2, 3, 2, 3, 2, 5, 3, 3, 4, 1, 2, 0, 5, 1, 2, 1, 3, 0, 2, 4, 0, 0, 5, 2, 4, 1, 1, 4, 4, 5, 3, 3, 5, 2, 4, 5, 5, 1, 3, 2, 5, 4, 2, 2, 0, 5, 3, 5, 0, 1, 3, 0, 5, 0, 3, 3, 4, 2, 5, 2, 0, 0, 2, 3, 1, 0, 3, 0, 3, 3, 1, 2, 4, 5, 0, 4, 1, 0, 5, 2, 1, 3, 5, 2, 4, 5, 0, 3, 3, 3, 3, 5, 2, 3, 1, 3, 3, 0, 1, 5, 5, 5, 3, 4, 0, 3, 0, 3, 3, 1, 1, 4, 5, 1, 1, 2, 3, 1, 1, 3, 1, 1, 5, 3, 3, 0, 1, 4, 0, 5, 1, 5, 3, 4, 2, 4, 1, 5, 3, 3, 5, 0, 2, 3, 4, 2, 3, 2, 1, 0, 0, 5, 3, 4, 4, 5, 3, 3, 5, 1, 0, 0, 5, 4, 3, 1, 3, 1, 0, 5, 0, 5, 2, 1, 1, 4, 5, 4, 3, 4, 3, 3, 4, 5, 5, 1, 1, 2, 1, 2, 4, 1, 1, 1, 4, 2, 4, 4, 5, 5, 0, 4, 1, 3, 1, 4, 3, 2, 3, 2, 4, 4, 3, 4, 0, 5, 1, 0, 3, 3, 4, 2, 4, 5, 3, 4, 1, 2, 1, 3, 5, 2, 1, 1, 3, 4, 1, 4, 2, 1, 4, 0, 1, 1, 3, 1, 0, 1, 2, 1, 2, 5, 5, 1, 3, 2, 1, 4, 3, 0, 2, 3, 0, 2, 2, 3, 4, 4, 5, 1, 1, 4, 4, 0, 2, 1, 3, 1, 5, 5, 3, 5, 1, 3, 0, 4, 1, 2, 5, 4, 4, 1, 4, 4, 4, 5, 1, 2, 2, 5, 5, 3, 5, 3, 5, 1, 1, 1, 2, 2, 0, 3, 5, 5, 0, 0, 4, 4, 2, 1, 2, 5, 1, 1, 1, 3, 2, 5, 3, 0, 0, 4, 0, 2, 2, 2, 3, 4, 4, 0, 2, 0, 4, 2, 1, 0, 0, 1, 4, 2, 3, 0, 5, 2, 2, 2, 4, 0, 5, 3, 5, 2, 2, 5, 5, 1, 1, 1, 3, 0, 4, 0, 4, 5, 4, 5, 1, 3, 1, 1, 2, 5, 5, 5, 1, 1, 0, 5, 2, 4, 2, 0, 2, 3, 2, 3, 1, 1, 3, 4, 3, 2, 0, 2, 5, 5, 1, 5, 3, 3, 1, 3, 1, 2, 1, 0, 0, 5, 3, 5, 0, 3, 5, 3, 1, 3, 5, 0, 0, 4, 4, 4, 4, 3, 3, 5, 1, 1, 0, 1, 5, 4, 5, 4, 0, 1, 0, 3, 4, 1, 4, 2, 5, 5, 0, 1, 3, 0, 5, 0, 1, 3, 3, 2, 3, 4, 2, 0, 4, 1, 0, 1, 3, 2, 2, 1, 5, 1, 1, 0, 2, 1, 1, 4, 0, 5, 3, 0, 2, 2, 3, 0, 5, 2, 2, 3, 1, 4, 0, 4, 2, 3, 5, 1, 1, 2, 2, 5, 4, 3, 4, 0, 0, 2, 0, 3, 4, 4, 2, 5, 4, 4, 2, 1, 4, 5, 5, 4, 3, 0, 1, 2, 2, 1, 5, 3, 0, 4, 4, 1, 5, 3, 4, 0, 2, 4, 1, 3, 2, 4, 5, 3, 1, 5, 0, 1, 2, 0, 0, 0, 5, 0, 0, 1, 2, 5, 1, 3, 5, 5, 5, 4, 0, 2, 1, 5, 2, 5, 5, 4, 5, 1, 5, 1, 0, 0, 4, 4, 5, 4, 4, 1, 4, 1, 3, 4, 0, 4, 0, 5, 1, 4, 1, 4, 5, 5, 1, 2, 1, 0, 2, 4, 4, 5, 1, 0, 3, 1, 3, 5, 1, 0, 1, 2, 0, 3, 2, 1, 5, 4, 2, 2, 5, 3, 5, 5, 5, 2, 1, 2, 1, 4, 3, 2, 5, 1, 3, 1, 4, 5, 4, 5, 5, 2, 2, 5, 4, 0, 0, 5, 4, 5, 1, 0, 4, 0, 5, 4, 2, 1, 1, 2, 0, 5, 1, 2, 5, 3, 1, 1, 5, 4, 5, 0, 4, 4, 3, 5, 3, 3, 0, 3, 3, 0, 3, 5, 0, 0, 3, 5, 5, 5, 4, 5, 3, 2, 4, 4, 5, 4, 1, 1, 2, 4, 2, 5, 0, 0, 5, 4, 0, 5, 2, 4, 5, 0, 0, 3, 4, 3, 3, 2, 5, 4, 1, 2, 2, 5, 5, 3, 3, 4, 3, 3, 1, 4, 3, 4, 3, 0, 4, 3, 4, 5, 3, 3, 5, 3, 3, 4, 2, 1, 1, 0, 2, 0, 0, 5, 4, 5, 2, 5, 3, 4, 3, 0, 2, 2, 3, 0, 0, 2, 4, 2, 0, 1, 3, 0, 5, 1, 3, 4, 3, 0, 4, 4, 4, 5, 3, 3, 1, 5, 0, 0, 5, 5, 5, 3, 3, 2, 3, 5, 3, 0, 4, 1, 4, 3, 5, 1, 0, 3, 4, 0, 2, 5, 1, 0, 2, 4, 5, 1, 4, 3, 0, 1, 4, 0, 0, 4, 3, 2, 4, 3, 1, 4, 0, 2, 5, 1, 1, 0, 2, 4, 5, 5, 4, 1, 0, 5, 4, 1, 1, 4, 4, 1, 3, 5, 3, 3, 3, 2, 2, 2, 3, 0, 5, 4, 5, 2, 2, 2, 1, 2, 5, 3, 1, 4, 1, 2, 1, 1, 5, 4, 2, 5, 5, 1, 4, 0, 3, 0, 1, 5, 1, 4, 1, 5, 2, 5, 4, 2, 4, 3, 4, 3, 4, 5, 1, 4, 1, 4, 1, 0, 5, 1, 0, 0, 0, 2, 4, 5, 2, 5, 3, 3, 1, 4, 0, 2, 0, 2, 1, 1, 0, 1, 4, 3, 1, 4, 5, 3, 0, 0, 1, 3, 2, 2, 5, 4, 4, 2, 2, 3, 5, 3, 3, 3, 4, 3, 1, 2, 1, 3, 5, 3, 4, 1, 3, 5, 1, 2, 2, 5, 3, 4, 0, 1, 0, 5, 3, 1, 1, 3, 2, 4, 5, 3, 0, 4, 4, 4, 5, 5, 2, 4, 5, 2, 0, 0, 5, 0, 1, 1, 1, 0, 3, 2, 5, 2, 3, 1, 1, 2, 1, 0, 1, 3, 4, 1, 1, 4, 2, 2, 3, 1, 4, 0, 5, 0, 5, 1, 3, 3, 2, 0, 3, 4, 0, 0, 1, 4, 4, 2, 5, 5, 3, 5, 5, 0, 5, 1, 5, 4, 1, 0, 4, 5, 0, 2, 5, 2, 3, 4, 1, 4, 4, 3, 2, 3, 1, 5, 3, 3, 1, 2, 4, 5, 5, 1, 0, 4, 3, 5, 3, 3, 5, 3, 5, 1, 1, 3, 3, 2, 2, 5, 4, 1, 4, 3, 2, 4, 5, 3, 0, 0, 4, 1, 1, 4, 5, 3, 2, 5, 0, 4, 0, 0, 4, 4, 3, 1, 4, 1, 3, 4, 5, 1, 2, 0, 5, 1, 0, 4, 4, 2, 3, 5, 1, 1, 2, 2, 0, 1, 0, 3, 5, 3, 0, 5, 1, 2, 1, 2, 0, 3, 3, 1, 3, 4, 5, 4, 2, 3, 3, 1, 4, 4, 4, 2, 0, 1, 1, 2, 3, 1, 4, 4, 5, 5, 4, 0, 5, 5, 0, 2, 2, 0, 0, 2, 1, 2, 1, 5, 0, 0, 2, 2, 4, 5, 0, 0, 3, 3, 1, 1, 1, 2, 3, 5, 0, 4, 0, 0, 5, 5, 4, 1, 1, 4, 1, 2, 5, 1, 1, 0, 3, 5, 4, 0, 4, 1, 4, 5, 0, 2, 5, 2, 0, 4, 2, 0, 0, 4, 3, 2, 4, 1, 1, 5, 0, 4, 5, 4, 2, 5, 4, 1, 1, 2, 1, 5, 4, 1, 3, 2, 0, 1, 0, 0, 1, 1, 3, 5, 0, 0, 2, 1, 2, 1, 5, 0, 1, 3, 1, 0, 2, 0, 1, 1, 5, 2, 2, 5, 3, 4, 3, 1, 2, 3, 1, 4, 4, 5, 5, 4, 5, 0, 1, 5, 3, 1, 1, 0, 5, 3, 1, 2, 3, 4, 3, 5, 0, 0, 2, 0, 1, 3, 0, 4, 4, 5, 4, 3, 4, 0, 4, 1, 4, 4, 2, 3, 2, 1, 5, 2, 0, 2, 5, 4, 5, 0, 2, 3, 1, 1, 1, 3, 2, 1, 0, 2, 0, 5, 5, 0, 4, 1, 4, 4, 3, 4, 3, 5, 1, 5, 3, 2, 5, 3, 2, 3, 2, 0, 0, 0, 4, 3, 5, 0, 1, 4, 1, 2, 4, 5, 1, 3, 4, 2, 0, 3, 5, 1, 0, 5, 0, 1, 3, 1, 4, 3, 2, 4, 3, 3, 5, 4, 5, 5, 1, 0, 5, 5, 3, 1, 0, 1, 5, 2, 2, 4, 3, 4, 3, 0, 1, 5, 0, 2, 2, 4, 0, 0, 0, 0, 0, 5, 4, 0, 4, 4, 0, 4, 5, 0, 0, 1, 1, 5, 5, 1, 4, 2, 0, 4, 4, 1, 5, 3, 0, 5, 5, 4, 5, 1, 4, 4, 4, 1, 0, 5, 4, 3, 0, 1, 1, 4, 0, 1, 2, 4, 1, 1, 3, 4, 1, 5, 0, 3, 1, 0, 2, 5, 0, 4, 5, 2, 5, 3, 0, 2, 0, 5, 4, 1, 4, 3, 4, 5, 0, 0, 2, 3, 3, 1, 1, 5, 2, 0, 5, 3, 0, 1, 4, 1, 5, 4, 1, 4, 3, 4, 5, 5, 5, 1, 0, 0, 1, 0, 2, 5, 3, 5, 3, 1, 2, 4, 5, 0, 2, 1, 2, 2, 5, 2, 1, 1, 0, 0, 1, 4, 2, 0, 2, 5, 5, 0, 0, 2, 1, 5, 3, 0, 1, 5, 1, 2, 2, 0, 0, 3, 2, 4, 3, 5, 4, 5, 0, 2, 3, 0, 5, 5, 1, 3, 5, 4, 5, 2, 4, 5, 4, 5, 2, 3, 4, 2, 4, 2, 0, 2, 0, 4, 3, 4, 2, 0, 2, 4, 0, 4, 4, 0, 0, 0, 0, 0, 5, 0, 3, 1, 1, 1, 2, 3, 0, 5, 1, 2, 5, 5, 5, 3, 0, 0, 2, 1, 3, 3, 5, 4, 2, 2, 3, 5, 4, 5, 2, 4, 1, 3, 1, 3, 2, 4, 3, 3, 3, 2, 2, 0, 3, 3, 1, 0, 0, 0, 2, 2, 5, 1, 1, 0, 4, 4, 5, 4, 5, 2, 2, 4, 4, 1, 0, 3, 0, 0, 0, 4, 1, 5, 0, 3, 4, 1, 5, 5, 3, 4, 3, 0, 5, 5, 4, 4, 0, 2, 3, 0, 0, 4, 3, 4, 0, 5, 5, 5, 1, 5, 3, 0, 4, 4, 4, 1, 4, 2, 0, 0, 4, 1, 1, 3, 4, 3, 4, 0, 3, 2, 4, 1, 4, 4, 2, 2, 3, 5, 2, 4, 5, 1, 5, 4, 5, 2, 4, 2, 1, 4, 0, 4, 1, 5, 5, 5, 2, 3, 2, 0, 1, 5, 2, 1, 5, 1, 1, 2, 2, 5, 2, 1, 4, 1, 3, 5, 4, 2, 4, 1, 5, 4, 0, 0, 4, 5, 0, 3, 0, 4, 2, 5, 1, 1, 4, 0, 4, 2, 4, 1, 4, 0, 3, 2, 5, 3, 3, 5, 5, 3, 0, 0, 3, 3, 5, 2, 3, 5, 1, 3, 3, 0, 3, 0, 0, 3, 5, 4, 0, 5, 4, 4, 0, 4, 2, 2, 4, 5, 5, 4, 5, 3, 5, 3, 5, 0, 2, 0, 4, 3, 4, 0, 2, 0, 5, 3, 0, 3, 4, 1, 3, 5, 0, 3, 1, 0, 5, 1, 3, 4, 3, 2, 2, 4, 1, 0, 5, 2, 1, 5, 0, 0, 3, 0, 3, 1, 5, 5, 2, 5, 4, 1, 4, 0, 3, 3, 1, 1, 3, 1, 0, 0, 5, 1, 3, 2, 5, 1, 4, 2, 4, 1, 2, 4, 2, 0, 1, 3, 4, 1, 5, 3, 0, 1, 2, 1, 0, 4, 1, 1, 4, 5, 3, 5, 3, 3, 4, 2, 5, 3, 2, 1, 2, 1, 2, 5, 3, 1, 0, 5, 3, 3, 2, 1, 0, 1, 2, 0, 5, 2, 0, 2, 5, 4, 2, 5, 1, 4, 1, 0, 3, 5, 0, 0, 5, 0, 3, 2, 2, 0, 0, 1, 0, 4, 2, 5, 0, 0, 0, 0, 3, 3, 2, 5, 1, 3, 2, 3, 0, 3, 2, 4, 4, 4, 4, 1, 5, 1, 1, 5, 0, 5, 2, 1, 1, 3, 1, 5, 0, 3, 0, 2, 4, 2, 2, 5, 4, 2, 3, 1, 4, 0, 3, 2, 3, 0, 0, 2, 5, 1, 1, 3, 2, 2, 2, 1, 3, 1, 0, 1, 5, 5, 2, 4, 2, 5, 2, 0, 3, 3, 1, 4, 2, 5, 4, 4, 0, 1, 3, 4, 2, 0, 3, 1, 4, 1, 0, 4, 5, 2, 4, 3, 1, 5, 3, 1, 3, 4, 0, 2, 2, 3, 2, 4, 3, 1, 0, 4, 5, 0, 5, 4, 0, 0, 2, 4, 5, 0, 0, 2, 2, 2, 4, 5, 1, 4, 4, 5, 3, 1, 4, 3, 1, 2, 1, 5, 4, 4, 1, 3, 2, 3, 0, 1, 2, 1, 0, 5, 5, 3, 3, 1, 4, 2, 5, 1, 2, 0, 2, 2, 0, 5, 5, 4, 3, 0, 0, 5, 3, 4, 3, 0, 0, 3, 4, 2, 1, 0, 2, 5, 0, 3, 1, 0, 5, 2, 1, 1, 3, 2, 2, 2, 1, 3, 3, 0, 0, 3, 1, 0, 4, 3, 5, 2, 3, 3, 1, 2, 3, 4, 1, 1, 4, 5, 4, 1, 3, 5, 4, 3, 4, 1, 3, 0, 4, 4, 3, 0, 3, 3, 4, 1, 1, 0, 1, 0, 0, 2, 3, 3, 1, 5, 1, 3, 0, 2, 2, 5, 1, 0, 3, 2, 4, 4, 0, 4, 4, 2, 0, 3, 1, 4, 4, 5, 3, 0, 1, 3, 4, 1, 5, 2, 2, 4, 5, 3, 1, 1, 1, 2, 3, 2, 0, 4, 3, 0, 5, 3, 5, 3, 1, 4, 2, 3, 4, 2, 2, 5, 3, 1, 3, 1, 0, 1, 3, 5, 5, 3, 1, 4, 3, 5, 3, 4, 1, 4, 5, 4, 0, 3, 2, 4, 4, 2, 1, 4, 2, 0, 0, 2, 2, 2, 2, 5, 4, 0, 1, 4, 3, 1, 4, 5, 1, 1, 5, 1, 4, 0, 4, 3, 3, 4, 3, 2, 4, 1, 1, 5, 0, 4, 0, 0, 0, 4, 5, 5, 0, 5, 2, 0, 5, 0, 2, 2, 4, 4, 5, 3, 0, 1, 4, 2, 1, 3, 1, 2, 2, 2, 2, 5, 1, 0, 2, 0, 0, 4, 3, 0, 5, 3, 5, 1, 2, 1, 0, 4, 1, 4, 3, 5, 0, 1, 4, 1, 4, 3, 5, 5, 5, 5, 4, 1, 3, 2, 5, 0, 3, 0, 3, 1, 2, 5, 5, 0, 5, 2, 4, 5, 4, 2, 0, 2, 1, 1, 5, 5, 3, 5, 2, 0, 3, 3, 0, 1, 0, 3, 1, 2, 2, 0, 4, 2, 4, 3, 2, 4, 3, 2, 4, 2, 3, 3, 4, 3, 5, 3, 4, 2, 3, 0, 1, 3, 3, 3, 0, 0, 2, 5, 0, 2, 3, 2, 0, 5, 3, 3, 2, 3, 1, 4, 3, 0, 1, 3, 2, 3, 4, 4, 3, 4, 1, 4, 2, 3, 3, 5, 2, 5, 0, 5, 1, 1, 4, 2, 0, 1, 0, 0, 0, 3, 4, 3, 4, 2, 4, 0, 3, 1, 4, 5, 1, 1, 3, 5, 0, 3, 1, 4, 0, 5, 3, 5, 0, 2, 5, 1, 5, 0, 5, 1, 2, 5, 4, 4, 1, 2, 2, 4, 2, 0, 5, 1, 4, 3, 5, 1, 4, 1, 5, 5, 5, 2, 4, 5, 5, 3, 5, 1, 0, 2, 1, 5, 0, 5, 3, 4, 5, 2, 2, 3, 0, 4, 2, 0, 1, 2, 3, 4, 0, 2, 0, 5, 5, 2, 4, 3, 5, 5, 4, 2, 3, 3, 0, 1, 3, 1, 2, 5, 0, 0, 2, 1, 2, 0, 2, 0, 4, 5, 4, 0, 3, 2, 5, 0, 0, 2, 5, 4, 3, 4, 5, 2, 2, 2, 4, 2, 3, 3, 1, 2, 3, 4, 4, 2, 1, 4, 5, 5, 2, 0, 4, 0, 2, 1, 0, 3, 5, 1, 2, 0, 4, 1, 3, 0, 0, 0, 4, 5, 5, 0, 4, 5, 3, 5, 3, 2, 5, 4, 4, 1, 5, 1, 5, 5, 5, 0, 5, 1, 2, 4, 0, 0, 2, 5, 5, 2, 5, 1, 0, 4, 5, 1, 1, 2, 2, 3, 0, 0, 1, 0, 1, 1, 3, 2, 1, 4, 4, 1, 0, 1, 5, 2, 3, 1, 2, 5, 4, 4, 1, 5, 2, 5, 2, 2, 4, 0, 3, 3, 4, 4, 0, 5, 0, 5, 4, 2, 0, 5, 5, 3, 3, 0, 3, 1, 0, 1, 3, 1, 2, 2, 4, 5, 3, 0, 5, 5, 5, 2, 0, 5, 2, 5, 3, 2, 5, 1, 1, 1, 0, 1, 3, 5, 5, 2, 1, 4, 2, 1, 5, 0, 5, 0, 4, 0, 5, 3, 4, 1, 0, 4, 2, 4, 5, 1, 1, 0, 2, 0, 1, 4, 1, 3, 2, 4, 1, 4, 3, 3, 0, 2, 0, 5, 1, 4, 1, 3, 3, 2, 4, 1, 4, 5, 3, 4, 5, 4, 2, 2, 4, 2, 2, 0, 3, 2, 5, 5, 2, 5, 2, 1, 0, 0, 1, 0, 0, 1, 4, 2, 0, 0, 4, 1, 2, 4, 5, 3, 1, 5, 4, 4, 1, 3, 5, 2, 4, 3, 1, 2, 0, 5, 4, 5, 3, 3, 3, 4, 4, 3, 0, 2, 1, 5, 3, 5, 2, 0, 0, 2, 4, 0, 4, 4, 3, 1, 5, 4, 2, 5, 4, 5, 3, 5, 3, 4, 3, 1, 1, 0, 3, 3, 4, 2, 3, 1, 2, 3, 2, 5, 1, 1, 4, 2, 3, 2, 3, 5, 2, 5, 3, 4, 3, 2, 1, 1, 5, 5, 5, 5, 1, 2, 4, 2, 0, 4, 4, 1, 0, 4, 0, 0, 2, 0, 1, 0, 3, 2, 3, 2, 4, 3, 2, 4, 4, 3, 4, 5, 1, 1, 5, 1, 5, 3, 0, 5, 4, 5, 1, 0, 5, 3, 2, 3, 1, 2, 2, 2, 3, 5, 2, 4, 2, 5, 5, 0, 0, 5, 5, 2, 0, 3, 0, 4, 2, 1, 5, 2, 3, 0, 1, 1, 0, 1, 4, 1, 4, 5, 3, 0, 3, 1, 4, 3, 2, 2, 1, 1, 0, 4, 4, 4, 2, 3, 2, 2, 0, 0, 2, 0, 2, 2, 4, 2, 3, 5, 0, 3, 0, 3, 4, 5, 5, 4, 1, 3, 4, 3, 1, 0, 2, 0, 5, 4, 2, 4, 5, 0, 0, 1, 2, 5, 1, 3, 3, 1, 2, 3, 1, 3, 5, 1, 1, 4, 4, 5, 2, 3, 2, 3, 0, 3, 0, 2, 0, 5, 0, 2, 1, 4, 5, 0, 5, 2, 5, 3, 5, 4, 0, 5, 4, 3, 2, 1, 4, 2, 1, 5, 1, 0, 2, 4, 1, 1, 3, 3, 1, 4, 2, 5, 5, 0, 4, 4, 5, 2, 0, 5, 2, 4, 0, 5, 2, 2, 5, 2, 5, 4, 5, 5, 4, 2, 3, 2, 0, 1, 2, 1, 5, 1, 0, 5, 2, 3, 5]\n"
     ]
    }
   ],
   "source": [
    "RF_pred=RF_model.predict(X_test.values)\n",
    "print(RF_pred.tolist())"
   ]
  },
  {
   "cell_type": "code",
   "execution_count": 52,
   "id": "15d29f66",
   "metadata": {},
   "outputs": [
    {
     "name": "stdout",
     "output_type": "stream",
     "text": [
      "[4, 3, 4, 3, 5, 0, 3, 4, 1, 0, 2, 1, 3, 1, 2, 3, 5, 2, 0, 4, 4, 3, 1, 2, 4, 0, 5, 1, 2, 4, 2, 0, 2, 5, 3, 4, 4, 5, 4, 4, 0, 3, 4, 2, 5, 5, 2, 5, 3, 0, 5, 0, 3, 3, 4, 5, 1, 0, 0, 2, 3, 0, 5, 0, 3, 4, 3, 2, 2, 1, 0, 0, 2, 2, 2, 5, 0, 1, 2, 1, 4, 3, 4, 4, 3, 5, 0, 3, 4, 1, 0, 4, 1, 3, 3, 4, 2, 4, 1, 1, 4, 4, 5, 4, 1, 1, 4, 4, 2, 1, 4, 0, 5, 3, 5, 0, 5, 5, 1, 4, 5, 2, 3, 1, 0, 4, 0, 5, 5, 4, 0, 4, 1, 2, 1, 4, 2, 3, 1, 5, 4, 4, 1, 2, 5, 4, 1, 0, 0, 4, 3, 5, 1, 4, 3, 2, 2, 4, 3, 4, 0, 0, 0, 5, 1, 2, 0, 3, 4, 0, 3, 5, 2, 1, 0, 4, 2, 3, 4, 3, 4, 0, 2, 0, 1, 1, 5, 5, 4, 4, 2, 2, 5, 0, 2, 5, 4, 4, 5, 3, 3, 0, 1, 2, 1, 5, 4, 5, 1, 1, 1, 0, 2, 2, 3, 2, 5, 5, 2, 4, 3, 4, 1, 5, 2, 0, 2, 1, 3, 1, 0, 3, 1, 2, 1, 3, 0, 0, 4, 4, 5, 3, 3, 2, 2, 4, 0, 2, 0, 0, 4, 2, 5, 5, 3, 3, 5, 2, 4, 1, 5, 1, 4, 2, 4, 1, 4, 3, 0, 4, 4, 0, 1, 0, 1, 4, 2, 2, 5, 3, 5, 2, 5, 4, 2, 3, 5, 4, 1, 2, 2, 5, 0, 4, 5, 1, 0, 5, 3, 2, 3, 5, 3, 4, 4, 5, 5, 4, 3, 1, 5, 4, 3, 5, 1, 3, 2, 4, 4, 2, 2, 3, 1, 0, 0, 1, 5, 0, 3, 5, 0, 4, 2, 2, 2, 2, 1, 2, 4, 2, 3, 2, 5, 2, 1, 3, 5, 3, 2, 0, 0, 2, 0, 1, 2, 0, 1, 4, 5, 2, 2, 0, 0, 4, 1, 4, 0, 5, 2, 3, 5, 5, 4, 3, 4, 0, 5, 4, 5, 2, 2, 4, 5, 5, 2, 4, 1, 4, 3, 3, 0, 3, 2, 4, 0, 0, 4, 5, 3, 4, 2, 0, 3, 5, 2, 2, 2, 1, 0, 5, 0, 5, 1, 4, 0, 0, 4, 2, 5, 4, 4, 2, 4, 2, 3, 5, 0, 3, 0, 3, 5, 0, 5, 4, 2, 0, 3, 1, 5, 5, 2, 0, 1, 1, 5, 1, 4, 0, 2, 5, 4, 3, 0, 4, 5, 0, 5, 3, 0, 3, 1, 0, 5, 2, 0, 4, 2, 1, 0, 4, 3, 3, 0, 1, 0, 2, 4, 0, 1, 3, 0, 3, 1, 1, 4, 4, 0, 2, 2, 0, 0, 1, 5, 1, 3, 3, 0, 5, 4, 3, 0, 2, 4, 5, 4, 1, 1, 1, 3, 5, 2, 5, 4, 0, 0, 4, 2, 2, 5, 4, 2, 2, 3, 1, 5, 1, 3, 3, 2, 1, 3, 1, 4, 4, 1, 1, 2, 5, 2, 1, 4, 1, 3, 0, 3, 2, 0, 4, 0, 4, 3, 3, 2, 3, 5, 1, 3, 2, 5, 0, 5, 5, 5, 0, 2, 5, 0, 0, 3, 3, 1, 1, 3, 3, 0, 3, 4, 1, 4, 3, 0, 5, 0, 2, 2, 4, 2, 4, 3, 2, 3, 4, 0, 4, 2, 0, 5, 0, 3, 5, 4, 1, 3, 4, 1, 1, 5, 1, 5, 5, 4, 2, 4, 2, 0, 4, 4, 4, 5, 4, 1, 3, 2, 4, 2, 3, 4, 0, 1, 4, 4, 4, 4, 3, 4, 5, 0, 3, 5, 2, 5, 2, 4, 4, 0, 3, 4, 0, 1, 0, 5, 4, 1, 0, 3, 4, 0, 0, 2, 1, 1, 4, 2, 5, 2, 4, 5, 2, 3, 4, 3, 3, 5, 4, 2, 4, 1, 4, 0, 4, 0, 2, 3, 2, 5, 3, 5, 3, 1, 5, 1, 2, 4, 1, 1, 4, 4, 1, 3, 2, 1, 1, 1, 5, 0, 3, 3, 2, 3, 5, 2, 5, 4, 4, 3, 3, 4, 0, 5, 5, 3, 3, 0, 5, 3, 1, 3, 5, 4, 2, 2, 4, 5, 0, 0, 5, 0, 2, 3, 2, 2, 3, 5, 2, 2, 3, 0, 4, 3, 0, 1, 0, 5, 1, 0, 2, 4, 3, 2, 4, 4, 1, 3, 1, 1, 2, 5, 5, 1, 4, 3, 5, 3, 0, 5, 3, 4, 0, 1, 2, 0, 1, 0, 0, 0, 5, 5, 5, 1, 3, 0, 2, 2, 0, 5, 0, 5, 3, 5, 0, 3, 4, 4, 5, 4, 5, 4, 5, 0, 3, 1, 0, 5, 2, 0, 1, 2, 4, 4, 0, 4, 5, 5, 3, 2, 5, 0, 5, 1, 3, 2, 5, 4, 4, 5, 3, 3, 0, 0, 5, 1, 5, 0, 5, 3, 2, 3, 4, 4, 4, 0, 1, 2, 5, 5, 4, 3, 0, 4, 1, 4, 4, 3, 2, 2, 0, 1, 0, 5, 1, 4, 0, 2, 4, 1, 2, 3, 4, 4, 1, 5, 5, 4, 5, 2, 3, 1, 3, 3, 4, 1, 3, 1, 3, 4, 2, 2, 4, 3, 2, 3, 4, 0, 1, 3, 4, 4, 0, 3, 5, 3, 1, 3, 5, 5, 2, 5, 5, 3, 4, 3, 5, 3, 3, 3, 3, 5, 2, 0, 1, 5, 5, 4, 3, 3, 5, 4, 0, 0, 1, 4, 1, 2, 4, 3, 4, 2, 2, 0, 0, 3, 0, 0, 0, 5, 1, 0, 1, 2, 3, 3, 1, 5, 0, 5, 4, 0, 2, 4, 0, 4, 2, 2, 5, 2, 2, 3, 3, 4, 3, 0, 1, 0, 0, 0, 4, 1, 1, 5, 3, 1, 1, 1, 2, 2, 2, 4, 5, 3, 5, 3, 1, 5, 2, 0, 3, 1, 2, 0, 1, 0, 1, 1, 3, 1, 0, 4, 0, 1, 0, 2, 3, 4, 3, 2, 0, 3, 5, 0, 4, 4, 3, 3, 0, 4, 2, 2, 0, 0, 1, 2, 2, 1, 1, 5, 2, 3, 1, 4, 5, 2, 4, 5, 3, 2, 1, 1, 2, 1, 2, 0, 2, 2, 4, 4, 4, 4, 3, 2, 0, 3, 5, 1, 2, 0, 3, 0, 1, 0, 0, 1, 2, 4, 2, 1, 1, 1, 2, 4, 1, 0, 4, 4, 0, 1, 2, 3, 2, 0, 0, 4, 0, 5, 1, 0, 0, 1, 5, 1, 5, 3, 5, 0, 0, 0, 5, 1, 1, 0, 5, 1, 5, 2, 3, 5, 3, 5, 1, 3, 2, 2, 5, 2, 0, 5, 0, 1, 5, 3, 2, 5, 3, 2, 0, 0, 0, 1, 0, 4, 2, 0, 4, 5, 4, 0, 0, 4, 4, 3, 3, 5, 3, 2, 4, 2, 1, 4, 5, 3, 0, 3, 4, 1, 2, 3, 3, 3, 0, 1, 4, 5, 0, 3, 3, 5, 4, 3, 1, 1, 0, 0, 3, 4, 4, 5, 2, 1, 4, 3, 1, 2, 3, 3, 5, 3, 2, 5, 1, 1, 1, 2, 2, 4, 2, 4, 5, 3, 1, 3, 3, 0, 3, 3, 3, 3, 0, 0, 0, 2, 2, 5, 3, 3, 3, 0, 4, 5, 1, 2, 4, 4, 3, 4, 5, 0, 5, 1, 1, 4, 0, 4, 1, 0, 1, 4, 3, 1, 2, 2, 3, 0, 1, 2, 2, 4, 0, 4, 0, 2, 0, 2, 4, 1, 5, 0, 5, 1, 5, 2, 1, 5, 1, 4, 3, 1, 1, 4, 5, 0, 3, 1, 4, 2, 2, 5, 2, 0, 4, 1, 5, 1, 5, 0, 0, 0, 0, 2, 0, 1, 3, 3, 5, 3, 5, 5, 1, 0, 5, 1, 5, 5, 3, 5, 2, 3, 0, 1, 5, 1, 4, 3, 0, 3, 3, 1, 2, 0, 5, 2, 5, 1, 1, 4, 0, 4, 1, 5, 5, 4, 5, 4, 5, 0, 5, 5, 1, 3, 2, 5, 3, 4, 5, 4, 5, 4, 2, 4, 1, 5, 4, 5, 4, 1, 1, 5, 5, 1, 1, 1, 0, 2, 2, 1, 2, 2, 1, 1, 1, 5, 5, 0, 3, 4, 5, 3, 4, 2, 2, 0, 0, 1, 5, 3, 5, 4, 5, 1, 5, 2, 2, 1, 0, 2, 0, 3, 1, 4, 0, 5, 1, 0, 2, 0, 3, 4, 0, 2, 0, 1, 4, 4, 5, 2, 1, 3, 4, 5, 1, 2, 2, 4, 2, 1, 3, 1, 4, 0, 4, 1, 4, 5, 4, 1, 4, 3, 2, 1, 0, 2, 2, 3, 2, 3, 5, 1, 5, 3, 5, 5, 5, 1, 0, 0, 5, 5, 1, 2, 2, 2, 3, 2, 3, 3, 4, 0, 4, 5, 2, 3, 3, 2, 4, 2, 4, 2, 5, 2, 2, 4, 1, 1, 5, 0, 0, 2, 2, 5, 3, 2, 2, 0, 2, 0, 4, 4, 0, 4, 5, 3, 1, 1, 4, 0, 4, 3, 5, 4, 2, 4, 2, 2, 1, 3, 1, 2, 5, 4, 1, 3, 4, 0, 0, 5, 1, 2, 1, 1, 1, 3, 3, 1, 2, 4, 2, 0, 5, 4, 4, 4, 0, 0, 5, 2, 3, 2, 0, 2, 1, 0, 2, 5, 0, 1, 4, 2, 3, 3, 4, 0, 0, 3, 1, 5, 1, 0, 3, 0, 5, 0, 3, 0, 5, 0, 2, 5, 2, 2, 4, 4, 0, 1, 1, 2, 1, 1, 4, 2, 3, 2, 3, 1, 1, 5, 1, 3, 2, 1, 1, 5, 3, 3, 0, 1, 4, 2, 4, 2, 4, 3, 2, 1, 3, 5, 1, 3, 4, 2, 5, 2, 5, 2, 2, 0, 4, 0, 5, 3, 5, 5, 0, 1, 3, 2, 1, 1, 5, 5, 4, 0, 1, 5, 5, 2, 5, 2, 3, 4, 3, 5, 3, 0, 3, 5, 3, 0, 4, 0, 1, 4, 1, 1, 5, 3, 2, 1, 2, 5, 1, 2, 3, 2, 2, 1, 0, 1, 0, 1, 5, 4, 5, 1, 0, 0, 0, 3, 1, 2, 4, 5, 3, 0, 0, 0, 2, 3, 3, 3, 5, 1, 3, 2, 3, 1, 0, 0, 4, 0, 2, 4, 0, 3, 0, 0, 4, 2, 1, 3, 1, 3, 0, 1, 3, 5, 5, 3, 2, 2, 2, 2, 0, 2, 0, 3, 4, 1, 3, 5, 2, 2, 3, 0, 3, 1, 0, 4, 5, 2, 5, 1, 1, 2, 4, 3, 5, 1, 3, 5, 5, 4, 0, 0, 3, 1, 5, 3, 3, 4, 1, 0, 3, 0, 3, 1, 2, 5, 2, 0, 5, 5, 1, 3, 1, 1, 5, 2, 0, 0, 5, 4, 4, 2, 2, 5, 0, 4, 2, 0, 2, 1, 3, 1, 1, 3, 5, 3, 1, 4, 2, 0, 3, 1, 3, 4, 3, 1, 2, 3, 3, 5, 3, 1, 1, 1, 1, 0, 1, 4, 0, 2, 4, 1, 4, 3, 5, 5, 4, 0, 4, 5, 2, 2, 0, 2, 1, 0, 4, 0, 0, 5, 1, 4, 4, 4, 4, 5, 1, 5, 2, 2, 4, 2, 5, 1, 5, 1, 3, 2, 5, 0, 2, 4, 5, 3, 5, 2, 1, 0, 2, 5, 4, 0, 0, 1, 5, 3, 5, 3, 3, 2, 4, 0, 2, 3, 2, 2, 4, 5, 4, 5, 4, 2, 4, 1, 0, 0, 4, 2, 5, 0, 1, 3, 3, 3, 2, 0, 4, 3, 1, 4, 3, 4, 1, 4, 1, 4, 0, 4, 2, 3, 2, 2, 4, 4, 4, 2, 4, 5, 0, 2, 0, 3, 0, 1, 5, 4, 0, 2, 3, 0, 3, 1, 4, 1, 1, 3, 4, 3, 0, 5, 3, 1, 1, 0, 5, 5, 1, 3, 2, 5, 2, 0, 5, 0, 0, 2, 4, 0, 5, 3, 4, 0, 3, 5, 0, 1, 2, 5, 4, 5, 3, 2, 0, 3, 4, 0, 0, 5, 4, 5, 1, 2, 2, 5, 3, 5, 1, 2, 5, 1, 0, 3, 1, 5, 1, 4, 5, 2, 0, 4, 3, 5, 3, 3, 1, 3, 4, 3, 3, 5, 3, 0, 0, 3, 5, 0, 3, 4, 4, 4, 5, 5, 0, 1, 4, 1, 5, 0, 0, 0, 0, 2, 4, 3, 4, 0, 3, 2, 1, 4, 3, 4, 4, 1, 5, 0, 3, 0, 4, 4, 1, 1, 5, 4, 3, 3, 2, 4, 0, 5, 0, 4, 5, 4, 5, 5, 1, 4, 5, 4, 4, 1, 5, 2, 2, 4, 4, 1, 2, 0, 2, 3, 2, 0, 2, 5, 5, 4, 4, 3, 3, 2, 3, 4, 3, 2, 5, 3, 1, 3, 2, 2, 5, 5, 2, 0, 4, 3, 4, 5, 2, 1, 4, 4, 4, 1, 1, 2, 4, 2, 3, 1, 2, 4, 5, 1, 5, 4, 3, 5, 5, 5, 4, 0, 4, 1, 3, 0, 3, 1, 2, 4, 4, 2, 2, 4, 0, 1, 3, 4, 5, 4, 2, 2, 2, 4, 4, 0, 1, 5, 3, 5, 2, 5, 3, 3, 2, 5, 0, 3, 0, 0, 1, 0, 2, 0, 3, 0, 1, 0, 5, 5, 5, 2, 0, 1, 2, 5, 3, 5, 3, 1, 1, 4, 0, 1, 1, 1, 4, 3, 3, 1, 2, 0, 3, 3, 3, 0, 0, 0, 0, 1, 1, 0, 3, 0, 4, 1, 2, 2, 3, 1, 4, 1, 3, 2, 5, 2, 5, 5, 0, 5, 2, 4, 4, 1, 3, 2, 0, 3, 1, 4, 5, 1, 0, 0, 0, 4, 1, 3, 4, 1, 1, 0, 2, 1, 4, 2, 4, 3, 3, 0, 1, 5, 1, 0, 4, 4, 2, 2, 4, 0, 5, 1, 1, 5, 4, 1, 0, 0, 4, 4, 5, 2, 5, 1, 5, 5, 0, 1, 1, 0, 1, 5, 2, 0, 2, 1, 0, 1, 0, 0, 1, 5, 3, 5, 3, 5, 5, 1, 1, 1, 5, 0, 4, 3, 2, 2, 3, 3, 3, 2, 5, 4, 4, 3, 5, 0, 1, 2, 5, 4, 2, 4, 4, 1, 4, 5, 2, 5, 0, 5, 3, 3, 4, 3, 2, 5, 4, 1, 1, 2, 5, 1, 4, 5, 1, 4, 5, 4, 4, 5, 4, 1, 4, 1, 3, 5, 3, 2, 3, 3, 0, 3, 2, 5, 2, 4, 2, 5, 1, 2, 0, 1, 3, 0, 4, 2, 2, 1, 3, 4, 0, 3, 5, 4, 0, 1, 1, 5, 2, 0, 5, 4, 4, 3, 5, 5, 4, 4, 2, 2, 2, 3, 3, 2, 1, 2, 1, 1, 1, 1, 1, 5, 3, 4, 2, 3, 1, 1, 3, 1, 1, 2, 4, 5, 1, 2, 4, 5, 2, 1, 3, 5, 0, 0, 2, 0, 5, 3, 5, 2, 1, 5, 2, 1, 2, 1, 0, 4, 2, 1, 0, 5, 5, 1, 5, 0, 5, 4, 0, 5, 4, 3, 1, 1, 3, 5, 0, 2, 5, 4, 1, 1, 4, 3, 4, 0, 2, 3, 2, 3, 4, 3, 1, 3, 3, 0, 3, 1, 4, 3, 3, 5, 0, 4, 4, 0, 3, 4, 4, 2, 3, 1, 0, 0, 3, 1, 4, 0, 4, 5, 1, 1, 4, 0, 0, 0, 3, 3, 1, 5, 4, 4, 0, 0, 3, 4, 5, 3, 1, 5, 0, 2, 2, 0, 4, 3, 5, 0, 1, 2, 2, 2, 2, 0, 2, 1, 4, 0, 0, 2, 4, 2, 5, 4, 0, 4, 4, 1, 2, 1, 4, 1, 1, 5, 0, 1, 4, 5, 1, 5, 5, 0, 0, 1, 1, 2, 1, 1, 3, 3, 0, 5, 4, 4, 0, 4, 0, 5, 0, 5, 4, 1, 4, 1, 1, 5, 0, 5, 3, 3, 1, 0, 0, 4, 3, 1, 0, 2, 3, 2, 2, 0, 0, 5, 2, 1, 5, 0, 4, 5, 0, 2, 2, 3, 1, 0, 2, 0, 0, 5, 3, 2, 0, 3, 5, 2, 3, 5, 2, 1, 3, 0, 0, 2, 5, 4, 0, 3, 5, 3, 3, 1, 5, 0, 0, 5, 3, 4, 0, 1, 1, 0, 0, 1, 2, 0, 5, 1, 2, 2, 0, 5, 1, 0, 0, 0, 5, 2, 3, 3, 3, 3, 2, 3, 0, 3, 1, 3, 2, 0, 0, 1, 1, 4, 0, 1, 2, 5, 3, 3, 4, 2, 2, 3, 4, 5, 5, 1, 1, 3, 4, 3, 4, 4, 2, 5, 0, 5, 3, 0, 2, 2, 4, 0, 3, 1, 0, 0, 2, 5, 2, 5, 4, 1, 2, 1, 5, 2, 3, 2, 5, 0, 4, 0, 2, 2, 5, 0, 5, 0, 4, 5, 4, 1, 3, 5, 0, 1, 3, 1, 4, 0, 3, 5, 2, 3, 1, 2, 4, 3, 4, 2, 0, 1, 0, 2, 1, 4, 2, 0, 1, 2, 2, 3, 4, 3, 3, 5, 3, 2, 3, 5, 1, 1, 2, 2, 3, 1, 0, 2, 2, 1, 0, 4, 0, 4, 1, 2, 2, 5, 0, 3, 5, 0, 3, 0, 2, 3, 5, 1, 1, 5, 2, 2, 4, 2, 3, 5, 1, 4, 1, 4, 4, 4, 2, 4, 2, 2, 1, 2, 2, 5, 3, 1, 0, 4, 0, 3, 3, 1, 4, 0, 3, 2, 3, 0, 3, 3, 0, 2, 1, 5, 4, 4, 0, 4, 3, 1, 2, 0, 0, 1, 0, 1, 3, 2, 0, 5, 2, 1, 4, 4, 3, 1, 0, 4, 4, 3, 4, 0, 2, 2, 3, 1, 1, 5, 0, 3, 3, 5, 5, 4, 1, 3, 3, 5, 4, 4, 1, 5, 0, 2, 1, 4, 1, 0, 3, 5, 0, 2, 1, 0, 0, 0, 4, 5, 0, 5, 4, 3, 2, 2, 5, 2, 4, 4, 1, 2, 4, 4, 1, 4, 1, 1, 5, 3, 0, 0, 2, 0, 1, 4, 0, 2, 2, 3, 4, 2, 5, 0, 5, 5, 5, 5, 0, 4, 4, 5, 0, 3, 3, 2, 2, 4, 1, 4, 5, 3, 0, 5, 3, 5, 3, 4, 2, 4, 2, 4, 1, 5, 0, 4, 2, 3, 1, 0, 0, 2, 0, 2, 3, 2, 0, 0, 3, 5, 1, 5, 4, 3, 3, 1, 2, 1, 1, 0, 3, 0, 4, 3, 5, 0, 0, 5, 2, 3, 4, 1, 5, 4, 0, 0, 5, 1, 5, 4, 2, 4, 2, 0, 5, 4, 2, 3, 5, 2, 1, 5, 3, 0, 4, 2, 0, 2, 5, 1, 5, 5, 2, 5, 5, 1, 5, 1, 5, 5, 1, 5, 0, 1, 1, 2, 0, 1, 1, 5, 0, 4, 0, 4, 3, 0, 3, 2, 0, 0, 5, 2, 4, 0, 4, 4, 5, 5, 0, 2, 4, 2, 1, 5, 0, 4, 3, 3, 0, 4, 5, 0, 5, 2, 0, 0, 0, 2, 5, 0, 0, 3, 0, 0, 4, 5, 5, 3, 1, 0, 0, 3, 4, 3, 4, 3, 0, 3, 1, 5, 2, 0, 4, 0, 3, 3, 1, 4, 2, 4, 2, 5, 2, 1, 0, 4, 5, 4, 1, 2, 2, 0, 3, 0, 0, 4, 4, 2, 5, 0, 5, 3, 2, 0, 5, 3, 1, 2, 3, 0, 1, 4, 1, 5, 4, 0, 3, 1, 0, 1, 3, 1, 0, 3, 5, 3, 1, 1, 1, 5, 4, 5, 1, 1, 1, 1, 4, 5, 1, 5, 5, 2, 2, 0, 1, 1, 2, 0, 1, 3, 1, 5, 3, 4, 2, 0, 1, 1, 1, 0, 2, 3, 5, 0, 3, 4, 5, 0, 5, 2, 1, 5, 1, 1, 3, 0, 0, 4, 5, 3, 2, 0, 3, 2, 1, 0, 4, 0, 5, 2, 3, 2, 1, 2, 4, 4, 4, 2, 4, 4, 4, 2, 5, 1, 1, 3, 0, 3, 3, 5, 3, 2, 1, 2, 2, 4, 3, 3, 1, 5, 0, 4, 2, 0, 5, 3, 0, 4, 4, 1, 5, 3, 4, 1, 1, 1, 5, 0, 0, 4, 3, 2, 5, 5, 4, 0, 1, 1, 3, 4, 5, 5, 0, 1, 0, 1, 5, 2, 5, 2, 0, 5, 2, 1, 4, 5, 0, 1, 3, 2, 3, 4, 4, 5, 5, 5, 3, 1, 0, 5, 3, 1, 2, 0, 2, 0, 0, 1, 3, 2, 2, 4, 2, 5, 3, 0, 2, 5, 5, 0, 3, 2, 3, 5, 1, 4, 0, 4, 0, 2, 5, 4, 3, 4, 5, 3, 3, 2, 4, 2, 5, 2, 5, 0, 1, 2, 4, 1, 4, 3, 0, 5, 0, 3, 0, 4, 5, 3, 3, 2, 2, 5, 3, 3, 4, 5, 0, 4, 2, 3, 2, 4, 1, 2, 0, 2, 2, 1, 2, 2, 1, 5, 3, 3, 4, 2, 1, 2, 2, 5, 5, 2, 2, 2, 0, 1, 4, 5, 1, 1, 4, 5, 1, 5, 5, 2, 0, 1, 2, 4, 4, 5, 0, 0, 0, 0, 5, 4, 0, 1, 3, 1, 4, 2, 1, 0, 3, 2, 4, 1, 3, 1, 1, 2, 5, 3, 2, 4, 4, 0, 3, 0, 2, 1, 3, 4, 5, 3, 3, 2, 0, 4, 0, 4, 0, 0, 2, 0, 4, 0, 1, 5, 5, 1, 1, 3, 2, 5, 5, 4, 2, 5, 3, 0, 1, 4, 3, 3, 3, 1, 3, 0, 2, 2, 0, 2, 3, 1, 5, 5, 5, 3, 5, 0, 4, 4, 3, 3, 5, 2, 5, 2, 0, 0, 2, 4, 5, 3, 0, 1, 0, 1, 3, 1, 5, 4, 5, 0, 1, 0, 4, 2, 0, 1, 5, 1, 0, 2, 5, 0, 5, 1, 2, 3, 3, 1, 4, 1, 3, 4, 2, 2, 3, 5, 3, 5, 5, 1, 1, 1, 5, 3, 2, 5, 1, 4, 5, 1, 0, 5, 5, 4, 2, 5, 0, 1, 4, 5, 2, 3, 3, 2, 2, 3, 3, 5, 2, 1, 2, 3, 0, 1, 5, 2, 1, 4, 0, 1, 0, 0, 4, 3, 2, 4, 4, 1, 2, 0, 4, 4, 1, 1, 1, 4, 0, 4, 5, 1, 1, 3, 4, 5, 2, 2, 3, 0, 3, 3, 2, 5, 4, 2, 2, 2, 1, 2, 5, 3, 1, 1, 4, 2, 1, 2, 5, 2, 3, 4, 2, 5, 4, 5, 5, 3, 2, 2, 5, 2, 0, 4, 2, 3, 1, 0, 2, 0, 5, 4, 0, 0, 0, 1, 1, 0, 1, 1, 0, 5, 4, 5, 4, 1, 3, 4, 1, 4, 1, 5, 2, 4, 2, 1, 1, 2, 2, 3, 3, 3, 1, 0, 1, 4, 1, 0, 1, 5, 3, 1, 0, 4, 5, 4, 1, 4, 4, 3, 4, 3, 2, 3, 1, 3, 4, 3, 1, 4, 3, 1, 0, 4, 0, 3, 0, 1, 5, 3, 0, 5, 2, 4, 0, 1, 0, 0, 5, 1, 5, 0, 1, 4, 1, 3, 1, 3, 4, 2, 3, 0, 1, 3, 4, 2, 2, 0, 4, 4, 1, 5, 2, 1, 3, 5, 4, 5, 4, 2, 0, 2, 5, 4, 3, 1, 1, 3, 4, 0, 3, 4, 1, 0, 3, 1, 1, 0, 1, 2, 3, 4, 4, 5, 5, 0, 2, 2, 1, 1, 1, 0, 3, 4, 4, 2, 2, 3, 1, 3, 0, 5, 1, 5, 2, 3, 2, 3, 2, 5, 3, 3, 4, 1, 2, 0, 5, 1, 2, 1, 3, 0, 2, 4, 0, 0, 5, 2, 4, 1, 1, 4, 4, 5, 3, 3, 5, 2, 4, 5, 5, 1, 3, 2, 5, 4, 2, 2, 0, 5, 3, 5, 0, 1, 3, 0, 5, 0, 3, 3, 4, 2, 5, 2, 0, 0, 2, 3, 1, 0, 3, 0, 1, 3, 1, 2, 4, 5, 0, 4, 1, 0, 5, 2, 1, 3, 5, 2, 4, 5, 0, 3, 3, 3, 3, 5, 2, 3, 1, 3, 3, 0, 1, 5, 5, 5, 3, 4, 0, 3, 0, 3, 3, 1, 1, 4, 5, 1, 1, 2, 3, 1, 1, 3, 1, 1, 5, 3, 3, 0, 1, 4, 0, 5, 1, 5, 3, 4, 2, 4, 1, 5, 3, 3, 5, 0, 2, 3, 4, 2, 3, 2, 1, 0, 0, 5, 3, 4, 4, 5, 3, 3, 5, 1, 0, 0, 5, 4, 3, 1, 3, 1, 0, 5, 0, 5, 2, 1, 1, 4, 5, 4, 3, 4, 3, 3, 4, 5, 5, 1, 1, 2, 1, 2, 4, 1, 1, 3, 4, 2, 4, 4, 5, 5, 0, 4, 1, 3, 1, 4, 3, 2, 3, 2, 4, 4, 3, 4, 0, 5, 1, 0, 3, 3, 4, 2, 4, 5, 3, 4, 1, 2, 1, 3, 5, 2, 1, 1, 3, 4, 1, 4, 2, 1, 4, 0, 1, 1, 3, 1, 0, 1, 2, 1, 2, 5, 5, 1, 3, 2, 1, 4, 3, 0, 2, 3, 0, 2, 2, 3, 4, 4, 5, 1, 1, 4, 4, 0, 2, 1, 3, 1, 5, 5, 3, 5, 1, 3, 0, 4, 1, 2, 5, 4, 4, 1, 4, 4, 4, 5, 1, 2, 2, 5, 5, 3, 5, 3, 5, 1, 1, 1, 2, 2, 0, 3, 5, 5, 0, 0, 4, 4, 2, 1, 2, 5, 1, 1, 1, 3, 2, 5, 3, 0, 0, 4, 0, 2, 2, 2, 3, 4, 4, 0, 2, 0, 4, 2, 1, 0, 0, 1, 4, 2, 3, 0, 5, 2, 2, 2, 4, 0, 5, 3, 5, 2, 2, 5, 5, 1, 1, 1, 3, 0, 4, 0, 4, 5, 4, 5, 1, 3, 1, 1, 2, 5, 5, 5, 1, 1, 0, 5, 2, 4, 2, 0, 2, 3, 2, 3, 1, 1, 3, 4, 3, 2, 0, 2, 5, 5, 1, 5, 3, 3, 1, 3, 1, 2, 1, 0, 0, 5, 3, 5, 0, 1, 5, 3, 1, 3, 5, 0, 0, 4, 4, 4, 4, 1, 1, 5, 1, 1, 0, 1, 5, 4, 5, 4, 0, 1, 0, 3, 4, 1, 4, 2, 5, 5, 0, 1, 3, 0, 5, 0, 1, 3, 3, 2, 3, 4, 2, 0, 4, 1, 0, 1, 3, 2, 2, 1, 5, 1, 1, 0, 2, 1, 1, 4, 0, 5, 3, 0, 2, 2, 3, 0, 5, 2, 2, 3, 1, 4, 0, 4, 2, 3, 5, 1, 1, 2, 2, 5, 4, 3, 4, 0, 0, 2, 0, 3, 4, 4, 2, 5, 4, 4, 2, 1, 4, 5, 5, 4, 3, 0, 1, 2, 2, 1, 5, 3, 0, 4, 4, 1, 5, 3, 4, 0, 2, 4, 1, 3, 2, 4, 5, 3, 1, 5, 0, 1, 2, 0, 0, 0, 5, 0, 0, 1, 2, 5, 1, 3, 5, 5, 5, 4, 0, 2, 1, 5, 2, 5, 5, 4, 5, 1, 5, 1, 0, 0, 4, 4, 5, 4, 4, 1, 4, 1, 3, 4, 0, 4, 0, 5, 1, 4, 1, 4, 2, 5, 1, 2, 1, 0, 2, 4, 4, 5, 1, 0, 3, 1, 3, 5, 1, 0, 1, 2, 0, 3, 2, 1, 5, 4, 2, 2, 5, 3, 5, 5, 5, 2, 1, 2, 1, 4, 3, 2, 5, 1, 3, 1, 4, 5, 4, 5, 5, 2, 2, 5, 4, 0, 0, 5, 4, 5, 1, 0, 4, 0, 5, 4, 2, 1, 1, 2, 0, 5, 1, 2, 5, 1, 1, 1, 5, 4, 5, 0, 4, 4, 3, 5, 3, 3, 0, 3, 3, 0, 3, 5, 0, 0, 3, 5, 5, 5, 4, 5, 3, 2, 4, 4, 5, 4, 3, 1, 2, 4, 2, 5, 0, 0, 5, 4, 0, 5, 2, 4, 5, 0, 0, 3, 4, 3, 3, 2, 5, 4, 1, 2, 2, 5, 5, 3, 3, 4, 3, 3, 1, 4, 3, 4, 3, 0, 4, 3, 4, 5, 3, 3, 5, 3, 3, 4, 2, 1, 1, 0, 2, 0, 0, 5, 4, 5, 2, 5, 3, 4, 3, 0, 2, 2, 3, 0, 0, 2, 4, 2, 0, 1, 3, 0, 5, 1, 3, 4, 3, 0, 4, 4, 4, 5, 3, 3, 1, 5, 0, 0, 5, 5, 5, 3, 3, 2, 3, 5, 3, 0, 4, 1, 4, 3, 5, 1, 0, 3, 4, 0, 2, 5, 1, 0, 2, 4, 5, 1, 4, 3, 0, 1, 4, 0, 0, 4, 3, 2, 4, 3, 1, 4, 0, 2, 5, 1, 1, 0, 2, 4, 5, 5, 4, 1, 0, 5, 4, 1, 1, 4, 4, 1, 3, 5, 3, 3, 3, 2, 2, 2, 3, 0, 5, 4, 5, 2, 2, 2, 1, 2, 5, 3, 1, 4, 1, 2, 1, 1, 5, 4, 2, 5, 5, 1, 4, 3, 3, 0, 1, 5, 1, 4, 1, 5, 2, 5, 4, 2, 4, 3, 4, 3, 4, 5, 1, 4, 1, 4, 1, 0, 5, 1, 0, 0, 0, 2, 4, 5, 2, 5, 3, 3, 1, 4, 0, 2, 0, 2, 1, 1, 0, 1, 4, 3, 1, 4, 5, 3, 0, 0, 1, 3, 2, 5, 5, 4, 4, 2, 2, 3, 5, 3, 3, 3, 4, 3, 1, 2, 1, 3, 5, 3, 4, 1, 3, 5, 1, 2, 2, 5, 3, 4, 0, 1, 0, 5, 3, 1, 1, 3, 2, 4, 5, 3, 0, 4, 4, 4, 5, 5, 2, 4, 5, 2, 0, 0, 5, 0, 1, 1, 1, 0, 3, 2, 5, 2, 3, 1, 1, 2, 1, 0, 1, 3, 4, 1, 1, 4, 2, 2, 3, 1, 4, 0, 5, 0, 5, 1, 3, 1, 2, 0, 3, 4, 0, 0, 1, 4, 4, 2, 5, 5, 3, 5, 5, 0, 5, 1, 5, 4, 1, 0, 4, 5, 0, 2, 5, 2, 3, 4, 1, 4, 4, 1, 2, 3, 1, 5, 3, 3, 1, 2, 4, 5, 5, 1, 0, 4, 3, 5, 3, 3, 5, 3, 5, 1, 1, 3, 3, 2, 2, 5, 4, 1, 4, 1, 2, 4, 5, 3, 0, 0, 4, 1, 1, 4, 5, 3, 2, 5, 0, 4, 0, 0, 4, 4, 3, 1, 4, 1, 3, 4, 5, 1, 2, 0, 5, 1, 0, 4, 4, 2, 3, 5, 1, 1, 2, 2, 0, 1, 0, 3, 5, 3, 0, 5, 1, 2, 1, 2, 0, 3, 1, 1, 3, 4, 5, 4, 2, 3, 3, 1, 4, 4, 4, 2, 0, 1, 1, 2, 3, 1, 4, 4, 5, 5, 4, 0, 5, 5, 0, 2, 2, 0, 0, 2, 1, 2, 1, 5, 0, 0, 2, 2, 5, 5, 0, 0, 3, 3, 1, 1, 1, 2, 3, 5, 0, 4, 0, 0, 5, 5, 4, 1, 1, 4, 1, 2, 5, 1, 1, 0, 3, 5, 4, 0, 4, 1, 4, 5, 0, 2, 5, 2, 0, 4, 2, 0, 0, 4, 3, 2, 4, 1, 1, 5, 0, 4, 5, 4, 2, 5, 4, 1, 1, 2, 1, 5, 4, 1, 3, 2, 0, 1, 0, 0, 1, 1, 3, 5, 0, 0, 2, 1, 2, 1, 5, 0, 1, 3, 1, 0, 2, 0, 1, 1, 5, 2, 2, 5, 3, 4, 3, 1, 2, 3, 1, 4, 4, 5, 5, 4, 5, 0, 1, 5, 3, 1, 1, 0, 5, 3, 1, 2, 3, 4, 3, 5, 0, 0, 2, 0, 1, 3, 0, 4, 4, 5, 4, 3, 4, 0, 4, 1, 4, 4, 2, 3, 2, 1, 5, 2, 0, 2, 5, 4, 5, 0, 2, 3, 1, 1, 1, 3, 2, 1, 0, 2, 0, 5, 5, 0, 4, 1, 4, 4, 3, 4, 3, 5, 1, 5, 3, 2, 5, 3, 2, 3, 2, 0, 0, 0, 4, 3, 5, 0, 1, 4, 1, 2, 4, 5, 1, 3, 4, 2, 0, 3, 5, 1, 0, 5, 0, 1, 3, 1, 4, 3, 2, 4, 3, 3, 5, 4, 5, 5, 1, 0, 5, 2, 3, 1, 0, 1, 5, 2, 2, 4, 3, 4, 3, 0, 1, 5, 0, 2, 2, 4, 0, 0, 0, 0, 0, 5, 4, 0, 4, 4, 0, 4, 5, 0, 0, 1, 1, 5, 5, 1, 4, 2, 0, 4, 4, 1, 5, 3, 0, 5, 5, 4, 5, 1, 4, 4, 4, 1, 0, 5, 4, 3, 0, 1, 1, 4, 0, 1, 2, 4, 1, 1, 3, 4, 1, 5, 0, 3, 1, 0, 2, 5, 0, 4, 5, 2, 5, 3, 0, 2, 0, 5, 4, 1, 4, 3, 4, 5, 0, 0, 2, 3, 3, 1, 1, 5, 2, 0, 5, 3, 0, 1, 4, 1, 5, 4, 1, 4, 3, 4, 5, 5, 5, 1, 0, 0, 1, 0, 2, 5, 3, 5, 3, 1, 2, 4, 5, 0, 2, 1, 2, 2, 5, 2, 1, 1, 0, 0, 1, 4, 2, 0, 2, 5, 5, 0, 0, 2, 1, 5, 3, 0, 1, 5, 1, 2, 2, 0, 0, 3, 2, 4, 3, 5, 4, 5, 3, 2, 3, 0, 5, 5, 1, 3, 5, 4, 5, 2, 4, 5, 4, 5, 2, 3, 4, 2, 4, 2, 0, 2, 0, 4, 3, 4, 2, 0, 2, 4, 0, 4, 4, 0, 0, 0, 0, 0, 5, 0, 3, 1, 1, 1, 2, 3, 0, 5, 1, 2, 5, 5, 5, 3, 0, 0, 2, 1, 3, 3, 5, 4, 2, 2, 3, 5, 4, 5, 2, 4, 1, 3, 1, 1, 2, 4, 3, 3, 3, 2, 2, 0, 3, 3, 1, 0, 0, 0, 2, 2, 5, 1, 3, 0, 4, 4, 5, 4, 5, 2, 2, 4, 4, 1, 0, 3, 0, 0, 0, 4, 1, 5, 0, 3, 4, 1, 5, 5, 3, 4, 3, 0, 5, 5, 4, 4, 0, 2, 3, 0, 0, 4, 3, 4, 0, 5, 5, 5, 1, 5, 3, 0, 4, 4, 4, 1, 4, 2, 0, 0, 4, 1, 1, 3, 4, 3, 4, 0, 3, 2, 4, 1, 4, 4, 2, 2, 3, 5, 2, 4, 5, 1, 5, 4, 5, 2, 4, 2, 1, 4, 0, 4, 1, 5, 5, 5, 2, 3, 2, 0, 1, 5, 2, 1, 5, 1, 1, 2, 2, 5, 2, 1, 4, 1, 3, 5, 4, 2, 4, 1, 5, 4, 0, 0, 4, 5, 0, 3, 0, 4, 2, 5, 1, 1, 4, 0, 4, 2, 4, 1, 4, 0, 1, 2, 5, 3, 3, 5, 5, 3, 0, 0, 3, 3, 5, 2, 3, 5, 1, 3, 3, 0, 3, 0, 0, 3, 5, 4, 0, 5, 4, 4, 0, 4, 2, 2, 4, 5, 5, 4, 5, 3, 5, 3, 5, 0, 2, 0, 4, 3, 4, 0, 2, 0, 5, 1, 0, 3, 4, 1, 3, 5, 0, 3, 1, 0, 5, 1, 3, 4, 3, 2, 2, 4, 1, 0, 5, 2, 1, 5, 0, 0, 3, 0, 3, 1, 5, 5, 2, 5, 4, 1, 4, 0, 3, 3, 1, 1, 3, 1, 0, 0, 5, 1, 3, 2, 5, 1, 4, 2, 4, 1, 2, 4, 2, 0, 1, 1, 4, 1, 5, 3, 0, 1, 2, 1, 0, 4, 1, 1, 4, 5, 3, 5, 3, 3, 4, 2, 5, 3, 2, 3, 2, 1, 2, 5, 3, 3, 0, 5, 3, 3, 2, 1, 0, 1, 2, 0, 5, 2, 0, 2, 5, 4, 2, 5, 1, 4, 1, 0, 3, 5, 0, 0, 5, 0, 3, 2, 2, 0, 0, 1, 0, 4, 2, 5, 0, 0, 0, 0, 3, 3, 2, 5, 1, 3, 2, 3, 0, 3, 2, 4, 4, 4, 4, 1, 5, 1, 1, 5, 0, 5, 2, 1, 1, 3, 1, 5, 0, 3, 0, 2, 4, 2, 2, 5, 4, 2, 3, 1, 4, 0, 3, 2, 3, 0, 0, 2, 5, 1, 1, 3, 2, 2, 2, 1, 3, 1, 3, 1, 5, 5, 2, 4, 2, 5, 2, 0, 3, 3, 1, 4, 2, 5, 4, 4, 0, 1, 3, 4, 2, 0, 3, 1, 4, 1, 0, 4, 5, 2, 4, 3, 1, 5, 3, 1, 3, 4, 0, 2, 2, 3, 2, 4, 3, 1, 0, 4, 5, 0, 5, 4, 0, 0, 2, 4, 5, 0, 0, 2, 2, 2, 4, 5, 1, 4, 4, 5, 3, 1, 4, 3, 1, 2, 1, 5, 4, 4, 1, 3, 2, 3, 0, 1, 2, 1, 0, 5, 5, 3, 3, 1, 4, 2, 5, 1, 2, 0, 2, 2, 0, 5, 5, 4, 3, 0, 0, 5, 3, 4, 3, 0, 0, 3, 4, 2, 1, 0, 2, 5, 0, 3, 1, 0, 5, 2, 1, 1, 3, 2, 2, 2, 1, 3, 3, 0, 0, 3, 1, 0, 4, 3, 5, 2, 3, 3, 1, 2, 3, 4, 1, 1, 4, 5, 4, 1, 3, 5, 4, 3, 4, 1, 3, 1, 4, 4, 3, 0, 3, 3, 4, 1, 1, 0, 1, 0, 0, 2, 3, 3, 1, 4, 1, 3, 0, 2, 2, 5, 1, 0, 3, 2, 4, 4, 0, 4, 4, 2, 0, 3, 1, 4, 4, 5, 3, 0, 1, 3, 4, 1, 5, 2, 2, 4, 5, 3, 1, 1, 1, 2, 3, 2, 0, 4, 3, 0, 5, 3, 5, 3, 1, 4, 2, 3, 4, 2, 2, 5, 3, 1, 3, 1, 0, 1, 3, 5, 5, 3, 1, 4, 3, 5, 3, 4, 1, 4, 5, 4, 0, 3, 2, 4, 4, 2, 1, 4, 2, 0, 0, 2, 2, 2, 2, 5, 4, 0, 1, 4, 3, 1, 4, 5, 1, 1, 5, 1, 4, 0, 4, 3, 3, 4, 3, 2, 4, 1, 1, 5, 0, 4, 0, 0, 0, 4, 5, 5, 0, 5, 2, 0, 5, 0, 2, 2, 4, 4, 5, 3, 0, 1, 4, 2, 1, 3, 1, 2, 2, 2, 2, 5, 1, 0, 2, 0, 0, 4, 3, 0, 5, 3, 5, 1, 2, 1, 3, 4, 1, 4, 3, 5, 0, 1, 4, 1, 4, 3, 5, 5, 5, 5, 4, 1, 3, 2, 5, 0, 3, 0, 3, 1, 2, 5, 5, 0, 5, 2, 4, 5, 4, 2, 0, 2, 3, 1, 5, 5, 3, 5, 2, 0, 3, 3, 0, 1, 0, 3, 1, 2, 2, 0, 4, 2, 4, 3, 2, 4, 3, 2, 4, 2, 3, 3, 4, 3, 5, 3, 4, 2, 3, 0, 1, 3, 3, 3, 0, 0, 2, 5, 0, 2, 3, 2, 0, 5, 3, 3, 2, 3, 1, 4, 3, 0, 1, 3, 2, 3, 4, 4, 3, 4, 1, 4, 2, 3, 3, 5, 2, 5, 0, 5, 1, 1, 4, 2, 0, 1, 0, 0, 0, 3, 4, 3, 4, 2, 4, 0, 3, 1, 4, 5, 1, 1, 3, 5, 0, 3, 1, 4, 0, 4, 3, 5, 0, 2, 5, 1, 5, 0, 5, 1, 2, 5, 4, 4, 1, 2, 2, 4, 2, 0, 5, 1, 4, 3, 5, 1, 4, 1, 5, 5, 5, 2, 4, 5, 5, 3, 5, 1, 0, 2, 1, 5, 0, 5, 3, 4, 5, 2, 2, 3, 0, 4, 2, 0, 1, 2, 3, 4, 0, 2, 0, 5, 5, 2, 4, 3, 5, 5, 4, 2, 3, 3, 0, 1, 3, 1, 2, 5, 0, 0, 2, 1, 2, 0, 2, 0, 4, 5, 4, 0, 3, 2, 5, 0, 0, 2, 5, 4, 3, 4, 5, 2, 2, 2, 4, 2, 3, 3, 1, 2, 3, 4, 4, 2, 1, 4, 5, 5, 2, 0, 4, 0, 2, 1, 0, 3, 5, 1, 2, 0, 4, 1, 3, 0, 0, 0, 4, 5, 5, 0, 4, 5, 3, 5, 3, 2, 5, 4, 4, 1, 5, 1, 5, 5, 5, 0, 5, 1, 2, 4, 0, 0, 2, 5, 5, 2, 5, 1, 0, 4, 5, 1, 1, 2, 2, 3, 0, 0, 1, 0, 1, 1, 3, 2, 1, 4, 4, 1, 0, 1, 5, 2, 3, 1, 2, 5, 4, 4, 1, 5, 2, 5, 2, 2, 4, 0, 3, 3, 4, 4, 0, 5, 0, 5, 4, 2, 0, 5, 5, 3, 3, 0, 3, 1, 0, 1, 3, 1, 2, 2, 4, 5, 3, 0, 5, 5, 5, 2, 0, 5, 2, 5, 3, 2, 5, 1, 1, 1, 0, 1, 3, 5, 5, 2, 1, 4, 2, 1, 5, 0, 5, 0, 4, 0, 5, 3, 4, 1, 0, 4, 2, 4, 5, 3, 1, 0, 2, 0, 1, 4, 1, 3, 2, 4, 1, 4, 3, 3, 0, 2, 0, 5, 1, 4, 1, 3, 3, 2, 4, 1, 4, 5, 3, 4, 5, 4, 2, 2, 4, 2, 2, 0, 3, 2, 5, 5, 2, 5, 2, 1, 0, 0, 1, 0, 0, 1, 4, 2, 0, 0, 4, 3, 2, 4, 5, 3, 1, 5, 4, 4, 1, 3, 5, 2, 4, 3, 1, 2, 0, 5, 4, 5, 3, 3, 3, 4, 4, 3, 0, 2, 1, 5, 3, 5, 2, 0, 0, 2, 4, 0, 4, 4, 3, 1, 5, 4, 2, 5, 4, 5, 3, 5, 3, 4, 3, 1, 1, 0, 3, 3, 4, 2, 3, 1, 2, 3, 2, 5, 1, 1, 4, 2, 3, 2, 3, 5, 2, 5, 3, 4, 3, 2, 1, 1, 5, 5, 5, 5, 1, 2, 4, 2, 0, 4, 4, 1, 0, 4, 0, 0, 2, 0, 1, 0, 3, 2, 3, 2, 4, 3, 2, 4, 4, 3, 4, 5, 1, 1, 5, 1, 5, 3, 0, 5, 4, 5, 1, 0, 5, 3, 2, 3, 1, 2, 2, 2, 3, 5, 2, 4, 2, 5, 5, 0, 0, 5, 5, 2, 0, 3, 0, 4, 2, 1, 5, 2, 1, 0, 1, 1, 0, 1, 4, 1, 4, 5, 3, 0, 3, 1, 4, 3, 2, 2, 1, 1, 0, 4, 4, 4, 2, 3, 2, 2, 0, 0, 2, 0, 2, 2, 4, 2, 3, 5, 0, 3, 0, 3, 4, 5, 5, 4, 1, 3, 4, 3, 1, 0, 2, 0, 5, 4, 2, 4, 5, 0, 0, 1, 2, 5, 1, 3, 3, 1, 2, 3, 1, 3, 5, 1, 1, 4, 4, 5, 2, 3, 2, 3, 0, 3, 0, 2, 0, 5, 0, 2, 1, 4, 5, 0, 5, 2, 5, 3, 5, 4, 0, 5, 4, 3, 2, 1, 4, 2, 1, 5, 1, 0, 2, 4, 1, 1, 3, 3, 1, 4, 2, 5, 5, 0, 4, 4, 5, 2, 0, 5, 2, 4, 0, 5, 2, 2, 5, 2, 5, 4, 5, 5, 4, 2, 3, 2, 0, 1, 2, 1, 5, 1, 0, 5, 2, 3, 5]\n"
     ]
    }
   ],
   "source": [
    "print(y_test.tolist())"
   ]
  },
  {
   "cell_type": "markdown",
   "id": "a6580933",
   "metadata": {},
   "source": [
    "### Result Analysis"
   ]
  },
  {
   "cell_type": "markdown",
   "id": "b7e83323",
   "metadata": {},
   "source": [
    "***Accuracy Score***"
   ]
  },
  {
   "cell_type": "code",
   "execution_count": 53,
   "id": "a86f343f",
   "metadata": {},
   "outputs": [
    {
     "name": "stdout",
     "output_type": "stream",
     "text": [
      "RandomForest model accuracy is 98.98%\n"
     ]
    }
   ],
   "source": [
    "RF_accuracy=accuracy_score(y_true=y_test,y_pred=RF_pred)\n",
    "print(f'RandomForest model accuracy is {RF_accuracy*100.0:.2f}%')"
   ]
  },
  {
   "cell_type": "code",
   "execution_count": 55,
   "id": "514d7180",
   "metadata": {},
   "outputs": [
    {
     "name": "stdout",
     "output_type": "stream",
     "text": [
      "              precision    recall  f1-score   support\n",
      "\n",
      "        Good       0.99      1.00      0.99      1184\n",
      "    Moderate       0.98      0.98      0.98      1215\n",
      "        Poor       1.00      1.00      1.00      1164\n",
      "Satisfactory       0.97      0.98      0.97      1155\n",
      "      Severe       1.00      1.00      1.00      1206\n",
      "   Very Poor       0.99      1.00      0.99      1206\n",
      "\n",
      "    accuracy                           0.99      7130\n",
      "   macro avg       0.99      0.99      0.99      7130\n",
      "weighted avg       0.99      0.99      0.99      7130\n",
      "\n"
     ]
    }
   ],
   "source": [
    "print(classification_report(y_true=y_test,y_pred=RF_pred,target_names=class_labels))"
   ]
  },
  {
   "cell_type": "code",
   "execution_count": 56,
   "id": "cc902fb2",
   "metadata": {},
   "outputs": [
    {
     "data": {
      "image/png": "[encoded data removed]",
      "text/plain": [
       "<Figure size 360x360 with 1 Axes>"
      ]
     },
     "metadata": {
      "needs_background": "light"
     },
     "output_type": "display_data"
    }
   ],
   "source": [
    "plt.figure(figsize=(5,5))\n",
    "sns.heatmap(data=confusion_matrix(y_true=y_test,y_pred=RF_pred),\n",
    "            annot=True,\n",
    "            fmt='4d',\n",
    "            cbar=False,\n",
    "            cmap=plt.cm.Blues,\n",
    "            xticklabels=class_labels,\n",
    "            yticklabels=class_labels)\n",
    "plt.title(label='Confusion Matrix')\n",
    "plt.show()"
   ]
  },
  {
   "cell_type": "code",
   "execution_count": 58,
   "id": "8853ded7",
   "metadata": {},
   "outputs": [],
   "source": [
    "with open(file='models/RandomForest_model.pkl',mode='wb') as file:\n",
    "    pickle.dump(obj=RF_model,file=file)"
   ]
  },
  {
   "cell_type": "markdown",
   "id": "3faa7c30",
   "metadata": {},
   "source": [
    "---"
   ]
  },
  {
   "cell_type": "markdown",
   "id": "f6879c24",
   "metadata": {},
   "source": [
    "# Algorithm:2 SupportVectorMachine"
   ]
  },
  {
   "cell_type": "code",
   "execution_count": 59,
   "id": "1db1ca67",
   "metadata": {},
   "outputs": [
    {
     "data": {
      "text/html": [
       "<style>#sk-container-id-3 {color: black;background-color: white;}#sk-container-id-3 pre{padding: 0;}#sk-container-id-3 div.sk-toggleable {background-color: white;}#sk-container-id-3 label.sk-toggleable__label {cursor: pointer;display: block;width: 100%;margin-bottom: 0;padding: 0.3em;box-sizing: border-box;text-align: center;}#sk-container-id-3 label.sk-toggleable__label-arrow:before {content: \"▸\";float: left;margin-right: 0.25em;color: #696969;}#sk-container-id-3 label.sk-toggleable__label-arrow:hover:before {color: black;}#sk-container-id-3 div.sk-estimator:hover label.sk-toggleable__label-arrow:before {color: black;}#sk-container-id-3 div.sk-toggleable__content {max-height: 0;max-width: 0;overflow: hidden;text-align: left;background-color: #f0f8ff;}#sk-container-id-3 div.sk-toggleable__content pre {margin: 0.2em;color: black;border-radius: 0.25em;background-color: #f0f8ff;}#sk-container-id-3 input.sk-toggleable__control:checked~div.sk-toggleable__content {max-height: 200px;max-width: 100%;overflow: auto;}#sk-container-id-3 input.sk-toggleable__control:checked~label.sk-toggleable__label-arrow:before {content: \"▾\";}#sk-container-id-3 div.sk-estimator input.sk-toggleable__control:checked~label.sk-toggleable__label {background-color: #d4ebff;}#sk-container-id-3 div.sk-label input.sk-toggleable__control:checked~label.sk-toggleable__label {background-color: #d4ebff;}#sk-container-id-3 input.sk-hidden--visually {border: 0;clip: rect(1px 1px 1px 1px);clip: rect(1px, 1px, 1px, 1px);height: 1px;margin: -1px;overflow: hidden;padding: 0;position: absolute;width: 1px;}#sk-container-id-3 div.sk-estimator {font-family: monospace;background-color: #f0f8ff;border: 1px dotted black;border-radius: 0.25em;box-sizing: border-box;margin-bottom: 0.5em;}#sk-container-id-3 div.sk-estimator:hover {background-color: #d4ebff;}#sk-container-id-3 div.sk-parallel-item::after {content: \"\";width: 100%;border-bottom: 1px solid gray;flex-grow: 1;}#sk-container-id-3 div.sk-label:hover label.sk-toggleable__label {background-color: #d4ebff;}#sk-container-id-3 div.sk-serial::before {content: \"\";position: absolute;border-left: 1px solid gray;box-sizing: border-box;top: 0;bottom: 0;left: 50%;z-index: 0;}#sk-container-id-3 div.sk-serial {display: flex;flex-direction: column;align-items: center;background-color: white;padding-right: 0.2em;padding-left: 0.2em;position: relative;}#sk-container-id-3 div.sk-item {position: relative;z-index: 1;}#sk-container-id-3 div.sk-parallel {display: flex;align-items: stretch;justify-content: center;background-color: white;position: relative;}#sk-container-id-3 div.sk-item::before, #sk-container-id-3 div.sk-parallel-item::before {content: \"\";position: absolute;border-left: 1px solid gray;box-sizing: border-box;top: 0;bottom: 0;left: 50%;z-index: -1;}#sk-container-id-3 div.sk-parallel-item {display: flex;flex-direction: column;z-index: 1;position: relative;background-color: white;}#sk-container-id-3 div.sk-parallel-item:first-child::after {align-self: flex-end;width: 50%;}#sk-container-id-3 div.sk-parallel-item:last-child::after {align-self: flex-start;width: 50%;}#sk-container-id-3 div.sk-parallel-item:only-child::after {width: 0;}#sk-container-id-3 div.sk-dashed-wrapped {border: 1px dashed gray;margin: 0 0.4em 0.5em 0.4em;box-sizing: border-box;padding-bottom: 0.4em;background-color: white;}#sk-container-id-3 div.sk-label label {font-family: monospace;font-weight: bold;display: inline-block;line-height: 1.2em;}#sk-container-id-3 div.sk-label-container {text-align: center;}#sk-container-id-3 div.sk-container {/* jupyter's `normalize.less` sets `[hidden] { display: none; }` but bootstrap.min.css set `[hidden] { display: none !important; }` so we also need the `!important` here to be able to override the default hidden behavior on the sphinx rendered scikit-learn.org. See: https://github.com/scikit-learn/scikit-learn/issues/21755 */display: inline-block !important;position: relative;}#sk-container-id-3 div.sk-text-repr-fallback {display: none;}</style><div id=\"sk-container-id-3\" class=\"sk-top-container\"><div class=\"sk-text-repr-fallback\"><pre>SVC()</pre><b>In a Jupyter environment, please rerun this cell to show the HTML representation or trust the notebook. <br />On GitHub, the HTML representation is unable to render, please try loading this page with nbviewer.org.</b></div><div class=\"sk-container\" hidden><div class=\"sk-item\"><div class=\"sk-estimator sk-toggleable\"><input class=\"sk-toggleable__control sk-hidden--visually\" id=\"sk-estimator-id-3\" type=\"checkbox\" checked><label for=\"sk-estimator-id-3\" class=\"sk-toggleable__label sk-toggleable__label-arrow\">SVC</label><div class=\"sk-toggleable__content\"><pre>SVC()</pre></div></div></div></div></div>"
      ],
      "text/plain": [
       "SVC()"
      ]
     },
     "execution_count": 59,
     "metadata": {},
     "output_type": "execute_result"
    }
   ],
   "source": [
    "from sklearn.svm import SVC\n",
    "SVC_model=SVC()\n",
    "SVC_model.fit(X_train.values,y_train)"
   ]
  },
  {
   "cell_type": "code",
   "execution_count": 60,
   "id": "ee85d31a",
   "metadata": {},
   "outputs": [
    {
     "name": "stdout",
     "output_type": "stream",
     "text": [
      "[4, 3, 4, 3, 5, 0, 3, 4, 1, 0, 2, 1, 3, 1, 2, 3, 5, 2, 0, 4, 4, 3, 1, 2, 4, 0, 5, 1, 2, 4, 2, 0, 2, 5, 3, 4, 4, 5, 4, 4, 0, 3, 4, 2, 5, 5, 2, 5, 3, 0, 5, 0, 3, 3, 4, 5, 1, 0, 0, 2, 3, 0, 5, 0, 3, 4, 3, 2, 2, 1, 0, 0, 2, 2, 2, 5, 0, 1, 2, 1, 4, 3, 4, 4, 3, 5, 0, 3, 4, 1, 0, 4, 1, 0, 3, 4, 2, 4, 1, 1, 4, 4, 5, 4, 2, 1, 4, 4, 2, 1, 4, 0, 5, 3, 5, 0, 5, 5, 1, 4, 5, 2, 3, 1, 0, 4, 0, 5, 5, 5, 0, 4, 2, 2, 1, 4, 2, 3, 1, 5, 4, 4, 1, 2, 5, 4, 1, 0, 0, 4, 3, 5, 1, 4, 3, 2, 2, 4, 3, 4, 0, 0, 0, 5, 1, 2, 0, 3, 4, 0, 0, 5, 2, 1, 0, 4, 2, 0, 4, 3, 4, 0, 2, 0, 1, 1, 5, 5, 4, 4, 2, 2, 5, 0, 2, 5, 4, 4, 5, 3, 3, 0, 1, 2, 1, 5, 4, 5, 1, 1, 1, 0, 2, 2, 3, 2, 5, 5, 2, 4, 3, 4, 1, 5, 2, 0, 2, 1, 3, 1, 0, 3, 1, 2, 1, 3, 0, 0, 4, 4, 5, 3, 3, 2, 2, 4, 0, 2, 0, 0, 4, 2, 5, 5, 3, 3, 5, 2, 4, 1, 5, 1, 4, 2, 4, 1, 4, 3, 0, 4, 4, 0, 1, 0, 1, 4, 2, 2, 5, 3, 5, 2, 5, 4, 2, 3, 5, 4, 1, 2, 2, 5, 0, 4, 5, 1, 0, 5, 3, 2, 3, 5, 3, 4, 4, 5, 5, 5, 3, 1, 5, 4, 3, 5, 1, 3, 2, 4, 4, 2, 2, 3, 1, 0, 0, 1, 5, 0, 0, 5, 0, 4, 2, 2, 2, 2, 1, 2, 4, 2, 3, 2, 5, 2, 1, 3, 5, 3, 2, 0, 0, 2, 0, 1, 2, 0, 1, 4, 5, 2, 2, 0, 0, 4, 1, 4, 0, 5, 2, 3, 5, 5, 4, 3, 4, 0, 5, 4, 5, 2, 2, 4, 5, 5, 2, 4, 1, 4, 3, 3, 0, 0, 2, 4, 0, 0, 4, 5, 3, 4, 2, 0, 0, 5, 2, 2, 2, 1, 0, 5, 0, 5, 1, 4, 0, 0, 4, 2, 5, 4, 4, 2, 4, 2, 3, 5, 0, 3, 0, 3, 5, 0, 5, 4, 2, 0, 3, 1, 5, 5, 2, 0, 1, 1, 5, 1, 4, 0, 2, 5, 4, 3, 0, 4, 5, 0, 5, 3, 0, 3, 1, 0, 5, 2, 0, 4, 2, 1, 0, 4, 3, 3, 0, 1, 0, 2, 4, 0, 1, 3, 0, 3, 1, 1, 4, 4, 0, 2, 2, 0, 0, 1, 5, 1, 3, 3, 0, 5, 4, 3, 0, 2, 4, 5, 4, 1, 1, 2, 3, 5, 2, 5, 4, 0, 0, 4, 2, 5, 5, 4, 2, 2, 0, 1, 5, 1, 3, 3, 2, 1, 3, 1, 4, 4, 1, 1, 2, 5, 2, 1, 4, 1, 3, 0, 3, 2, 0, 4, 0, 4, 3, 3, 2, 3, 5, 1, 3, 2, 5, 0, 5, 5, 5, 0, 2, 5, 0, 0, 3, 3, 1, 1, 3, 3, 0, 3, 4, 1, 4, 3, 0, 5, 0, 2, 2, 4, 2, 4, 3, 2, 3, 4, 0, 4, 2, 0, 5, 0, 3, 5, 4, 1, 3, 4, 1, 1, 5, 1, 5, 5, 4, 2, 4, 2, 0, 4, 4, 4, 5, 4, 1, 3, 2, 4, 2, 3, 4, 0, 1, 4, 4, 4, 4, 3, 4, 5, 0, 0, 5, 2, 5, 2, 4, 4, 0, 3, 4, 0, 1, 0, 5, 4, 1, 0, 3, 4, 0, 0, 2, 1, 1, 4, 2, 5, 2, 4, 5, 2, 3, 4, 0, 3, 5, 4, 2, 4, 1, 4, 0, 4, 0, 2, 3, 2, 5, 3, 5, 3, 1, 5, 1, 2, 4, 1, 1, 4, 4, 1, 0, 2, 1, 1, 1, 5, 0, 3, 3, 2, 3, 5, 2, 5, 4, 4, 3, 3, 4, 0, 5, 5, 3, 3, 0, 5, 3, 1, 3, 5, 4, 2, 2, 4, 5, 0, 0, 5, 0, 2, 3, 2, 2, 0, 5, 2, 2, 3, 0, 4, 3, 0, 1, 0, 5, 1, 0, 2, 4, 3, 2, 4, 4, 1, 3, 1, 1, 2, 5, 5, 1, 4, 3, 5, 3, 0, 5, 3, 4, 0, 1, 2, 0, 1, 0, 0, 0, 5, 5, 5, 1, 3, 0, 2, 2, 0, 5, 0, 5, 3, 5, 0, 3, 4, 4, 5, 4, 5, 4, 5, 0, 3, 1, 0, 5, 2, 0, 1, 2, 4, 4, 0, 4, 5, 5, 3, 2, 5, 0, 5, 1, 3, 2, 5, 4, 4, 5, 3, 3, 0, 0, 5, 1, 5, 0, 5, 3, 2, 3, 4, 4, 4, 0, 1, 2, 5, 5, 4, 3, 0, 4, 1, 4, 4, 3, 2, 2, 0, 1, 0, 5, 1, 4, 0, 2, 4, 1, 2, 0, 4, 4, 1, 5, 5, 4, 5, 2, 3, 1, 3, 3, 4, 1, 3, 1, 3, 4, 2, 2, 4, 3, 2, 0, 4, 0, 1, 3, 4, 4, 0, 3, 5, 3, 1, 0, 5, 5, 2, 5, 5, 3, 4, 3, 5, 1, 3, 3, 3, 5, 2, 0, 1, 5, 5, 4, 3, 3, 5, 4, 0, 0, 1, 4, 1, 2, 4, 3, 4, 2, 2, 0, 0, 1, 0, 0, 0, 5, 1, 0, 1, 2, 3, 3, 1, 5, 0, 5, 4, 0, 2, 4, 0, 4, 2, 2, 5, 2, 2, 3, 3, 4, 3, 0, 1, 0, 0, 0, 4, 1, 1, 5, 3, 1, 1, 1, 2, 2, 2, 4, 5, 3, 5, 3, 2, 5, 2, 0, 0, 1, 2, 0, 1, 0, 1, 1, 3, 1, 0, 4, 0, 1, 0, 2, 3, 4, 3, 2, 0, 3, 5, 0, 4, 4, 3, 3, 0, 4, 2, 2, 0, 0, 1, 2, 2, 1, 1, 5, 2, 3, 1, 4, 5, 2, 4, 5, 3, 2, 1, 1, 2, 1, 2, 0, 2, 2, 4, 4, 4, 4, 3, 2, 0, 3, 5, 1, 2, 0, 3, 0, 1, 0, 0, 1, 2, 4, 2, 1, 1, 1, 2, 4, 1, 0, 4, 4, 0, 1, 2, 3, 2, 0, 0, 4, 0, 5, 1, 0, 0, 1, 5, 3, 5, 3, 5, 0, 0, 0, 5, 1, 1, 0, 5, 1, 5, 2, 3, 5, 3, 5, 1, 3, 2, 2, 5, 2, 0, 5, 0, 1, 5, 3, 2, 5, 3, 2, 0, 0, 0, 1, 0, 4, 2, 0, 4, 4, 4, 0, 0, 4, 4, 3, 3, 5, 3, 2, 4, 2, 1, 4, 5, 3, 0, 3, 4, 1, 2, 0, 3, 3, 0, 1, 4, 5, 0, 3, 3, 5, 4, 3, 1, 1, 0, 0, 3, 4, 4, 5, 2, 1, 4, 3, 1, 2, 3, 3, 5, 3, 2, 5, 1, 1, 1, 2, 2, 4, 2, 4, 5, 3, 1, 3, 3, 0, 3, 3, 3, 1, 0, 0, 0, 2, 2, 5, 0, 3, 3, 0, 4, 4, 1, 2, 4, 4, 3, 4, 5, 0, 5, 1, 1, 4, 0, 4, 1, 0, 1, 4, 3, 1, 2, 2, 3, 0, 1, 2, 2, 4, 0, 4, 0, 2, 0, 2, 4, 1, 5, 0, 5, 1, 5, 2, 1, 5, 1, 4, 3, 1, 1, 4, 5, 0, 3, 1, 4, 2, 2, 5, 2, 0, 4, 1, 5, 1, 5, 0, 0, 0, 0, 2, 0, 1, 3, 3, 5, 3, 5, 5, 1, 0, 5, 1, 5, 5, 3, 5, 2, 3, 0, 1, 5, 1, 4, 1, 0, 0, 3, 1, 2, 0, 5, 2, 5, 1, 1, 4, 0, 4, 1, 5, 5, 4, 5, 4, 5, 0, 5, 5, 1, 3, 2, 5, 3, 4, 5, 4, 5, 4, 2, 4, 1, 5, 4, 5, 4, 1, 1, 5, 5, 1, 1, 1, 0, 2, 2, 1, 2, 2, 1, 1, 1, 5, 5, 0, 1, 4, 5, 3, 4, 2, 2, 0, 0, 1, 5, 0, 5, 4, 5, 1, 5, 2, 2, 1, 0, 2, 0, 3, 1, 4, 0, 5, 2, 0, 2, 0, 3, 4, 0, 2, 0, 1, 4, 4, 5, 2, 1, 3, 4, 5, 1, 2, 2, 4, 2, 1, 3, 1, 4, 0, 4, 1, 4, 5, 4, 1, 4, 3, 2, 1, 0, 2, 2, 3, 2, 3, 5, 1, 5, 3, 5, 5, 5, 1, 0, 0, 5, 5, 1, 2, 2, 2, 3, 2, 3, 3, 4, 0, 4, 5, 2, 3, 3, 2, 4, 2, 4, 2, 5, 5, 2, 4, 1, 1, 5, 0, 0, 2, 2, 5, 3, 2, 2, 0, 2, 0, 4, 4, 0, 4, 5, 3, 1, 1, 4, 0, 4, 3, 5, 4, 2, 4, 2, 2, 1, 3, 1, 2, 5, 4, 1, 0, 4, 0, 0, 5, 1, 2, 1, 1, 1, 3, 3, 1, 2, 4, 2, 0, 5, 4, 4, 4, 0, 0, 5, 2, 3, 2, 0, 2, 1, 0, 2, 5, 0, 1, 4, 5, 3, 3, 4, 0, 0, 3, 1, 5, 1, 0, 3, 0, 5, 0, 3, 0, 5, 0, 2, 5, 2, 2, 4, 4, 0, 1, 1, 2, 1, 1, 4, 2, 3, 2, 3, 1, 1, 5, 2, 3, 2, 1, 1, 5, 3, 3, 0, 1, 4, 2, 4, 2, 4, 3, 2, 1, 3, 5, 1, 3, 4, 2, 5, 2, 5, 2, 2, 0, 4, 0, 5, 3, 5, 5, 0, 1, 3, 2, 1, 1, 5, 5, 4, 0, 1, 5, 5, 2, 5, 2, 3, 4, 0, 5, 3, 0, 3, 5, 3, 0, 4, 0, 1, 4, 1, 1, 5, 3, 2, 1, 2, 5, 1, 2, 3, 2, 2, 1, 0, 1, 0, 1, 5, 4, 5, 1, 0, 0, 0, 3, 1, 2, 4, 5, 3, 0, 0, 0, 2, 3, 3, 0, 5, 1, 3, 2, 3, 1, 0, 0, 4, 0, 2, 4, 0, 3, 0, 0, 4, 2, 1, 3, 1, 3, 0, 1, 3, 5, 5, 3, 2, 2, 2, 2, 0, 2, 0, 3, 4, 1, 3, 5, 2, 2, 3, 0, 3, 1, 0, 4, 5, 2, 5, 1, 1, 2, 4, 3, 5, 1, 3, 5, 5, 4, 0, 0, 3, 1, 5, 3, 3, 4, 1, 0, 3, 0, 3, 1, 2, 5, 2, 0, 5, 5, 1, 3, 1, 1, 5, 2, 0, 0, 5, 4, 4, 2, 2, 5, 0, 4, 2, 0, 2, 1, 0, 2, 1, 0, 5, 3, 1, 4, 5, 0, 3, 1, 3, 4, 3, 1, 2, 3, 3, 5, 3, 1, 1, 2, 1, 0, 1, 4, 0, 2, 4, 1, 4, 3, 5, 5, 4, 0, 4, 5, 2, 2, 0, 2, 1, 0, 4, 0, 0, 5, 1, 4, 4, 4, 4, 5, 1, 5, 2, 2, 4, 2, 5, 1, 5, 1, 3, 2, 5, 0, 2, 4, 5, 3, 5, 2, 1, 0, 2, 5, 4, 0, 0, 1, 5, 3, 5, 3, 3, 2, 4, 0, 2, 3, 2, 2, 4, 5, 4, 5, 4, 2, 4, 1, 0, 0, 4, 2, 5, 0, 1, 3, 3, 3, 2, 0, 4, 3, 1, 4, 3, 4, 1, 4, 1, 4, 0, 4, 2, 3, 5, 2, 4, 4, 4, 2, 4, 5, 0, 2, 0, 3, 0, 1, 5, 4, 0, 2, 3, 0, 3, 1, 4, 1, 1, 3, 4, 3, 0, 5, 3, 1, 1, 0, 5, 5, 1, 3, 2, 5, 2, 0, 5, 0, 0, 2, 4, 0, 5, 3, 4, 0, 3, 5, 0, 1, 2, 5, 4, 5, 3, 2, 0, 3, 4, 0, 0, 5, 4, 5, 1, 2, 2, 5, 3, 5, 1, 2, 5, 1, 0, 3, 1, 5, 1, 4, 5, 2, 0, 4, 3, 5, 3, 3, 1, 3, 4, 3, 3, 5, 3, 0, 0, 3, 4, 0, 3, 4, 4, 4, 5, 5, 0, 1, 4, 1, 5, 0, 0, 0, 0, 2, 4, 3, 4, 0, 3, 2, 1, 4, 3, 4, 4, 1, 5, 0, 3, 0, 4, 4, 1, 1, 5, 4, 3, 3, 2, 4, 0, 5, 0, 4, 5, 4, 5, 5, 1, 4, 5, 4, 4, 1, 5, 2, 2, 4, 4, 1, 2, 0, 2, 3, 2, 0, 2, 5, 5, 4, 4, 3, 3, 2, 3, 4, 3, 2, 5, 3, 1, 3, 2, 2, 5, 5, 2, 0, 4, 3, 4, 5, 2, 1, 4, 4, 4, 1, 1, 2, 4, 2, 3, 1, 2, 4, 5, 1, 5, 4, 3, 5, 5, 5, 4, 0, 4, 1, 3, 0, 3, 1, 2, 4, 4, 2, 2, 4, 0, 1, 3, 4, 5, 4, 2, 2, 2, 4, 4, 0, 1, 5, 3, 5, 2, 5, 3, 3, 2, 5, 0, 3, 0, 0, 1, 0, 2, 0, 3, 0, 1, 0, 5, 5, 5, 2, 0, 1, 2, 5, 3, 5, 3, 1, 1, 4, 0, 1, 1, 1, 4, 3, 3, 1, 2, 0, 3, 3, 3, 0, 0, 0, 0, 3, 1, 0, 3, 0, 4, 1, 2, 2, 3, 1, 4, 1, 3, 2, 5, 2, 5, 5, 0, 5, 2, 4, 4, 1, 3, 2, 0, 3, 1, 4, 5, 2, 0, 0, 0, 4, 1, 3, 4, 1, 1, 0, 2, 1, 4, 2, 4, 3, 0, 0, 1, 5, 1, 0, 4, 4, 2, 2, 4, 0, 5, 1, 1, 5, 4, 1, 0, 0, 4, 4, 5, 2, 5, 1, 5, 5, 0, 1, 1, 0, 1, 5, 2, 0, 2, 1, 0, 1, 0, 0, 1, 5, 3, 5, 3, 5, 5, 2, 1, 1, 5, 0, 4, 3, 2, 2, 3, 3, 3, 2, 5, 4, 4, 3, 5, 0, 1, 2, 5, 4, 2, 4, 4, 1, 4, 5, 2, 5, 0, 5, 3, 3, 4, 3, 2, 5, 4, 1, 1, 2, 5, 1, 4, 5, 1, 4, 5, 4, 4, 5, 4, 1, 4, 1, 3, 5, 3, 2, 3, 3, 0, 3, 2, 5, 2, 4, 2, 5, 1, 2, 0, 1, 3, 0, 4, 2, 2, 1, 3, 4, 0, 3, 5, 4, 0, 1, 1, 5, 2, 0, 5, 4, 4, 3, 5, 5, 4, 4, 2, 2, 2, 3, 3, 2, 1, 2, 1, 1, 1, 1, 1, 5, 3, 4, 2, 3, 1, 1, 3, 1, 1, 2, 4, 5, 1, 2, 4, 5, 2, 1, 3, 5, 0, 0, 2, 0, 5, 3, 5, 2, 1, 5, 2, 1, 2, 1, 0, 4, 2, 1, 0, 5, 5, 1, 5, 0, 5, 4, 0, 5, 4, 3, 1, 1, 3, 5, 0, 2, 5, 4, 1, 1, 4, 3, 4, 0, 2, 3, 2, 3, 4, 3, 1, 3, 3, 0, 3, 1, 4, 3, 3, 5, 0, 4, 4, 0, 3, 4, 4, 2, 3, 1, 0, 0, 3, 1, 4, 0, 4, 5, 1, 1, 4, 0, 0, 0, 3, 3, 1, 5, 4, 4, 0, 0, 3, 4, 5, 3, 1, 5, 0, 2, 2, 0, 4, 3, 5, 0, 1, 2, 2, 2, 2, 0, 2, 1, 4, 0, 0, 2, 4, 2, 5, 4, 0, 4, 4, 1, 2, 2, 4, 1, 1, 5, 0, 1, 4, 5, 1, 5, 5, 0, 0, 1, 1, 2, 1, 1, 3, 0, 0, 5, 4, 4, 0, 4, 0, 5, 0, 5, 4, 1, 4, 1, 1, 5, 0, 5, 3, 3, 2, 0, 0, 4, 3, 1, 0, 2, 3, 2, 2, 0, 0, 5, 2, 1, 5, 0, 4, 5, 0, 2, 2, 3, 1, 0, 2, 0, 0, 5, 3, 2, 0, 3, 5, 2, 3, 5, 2, 1, 3, 0, 0, 2, 5, 4, 0, 3, 5, 3, 3, 1, 5, 0, 0, 5, 3, 4, 0, 1, 1, 0, 0, 1, 2, 0, 5, 1, 2, 2, 0, 5, 1, 0, 0, 0, 5, 2, 3, 3, 0, 3, 2, 0, 0, 0, 1, 3, 2, 0, 0, 1, 1, 4, 0, 1, 2, 5, 3, 3, 4, 2, 2, 0, 4, 5, 5, 1, 1, 3, 4, 3, 4, 4, 2, 5, 0, 5, 1, 0, 2, 2, 4, 0, 3, 1, 0, 0, 2, 5, 2, 5, 4, 1, 2, 1, 5, 2, 3, 2, 5, 0, 4, 0, 2, 2, 5, 0, 5, 0, 4, 5, 4, 1, 3, 5, 0, 1, 3, 1, 4, 0, 3, 5, 2, 3, 1, 2, 4, 3, 4, 2, 0, 1, 0, 2, 1, 4, 2, 0, 1, 2, 2, 3, 4, 3, 3, 5, 3, 2, 3, 5, 1, 1, 2, 2, 3, 1, 0, 2, 2, 1, 0, 4, 0, 4, 1, 2, 2, 5, 0, 3, 5, 0, 3, 0, 2, 3, 5, 1, 1, 5, 2, 2, 4, 2, 3, 5, 1, 4, 2, 4, 4, 4, 2, 4, 2, 2, 1, 2, 2, 5, 3, 1, 0, 4, 0, 3, 3, 1, 4, 0, 3, 2, 3, 0, 3, 3, 0, 2, 1, 5, 4, 4, 0, 4, 1, 1, 2, 0, 0, 1, 0, 1, 3, 2, 0, 5, 2, 1, 4, 4, 3, 1, 0, 4, 4, 3, 4, 0, 2, 2, 3, 1, 1, 5, 0, 3, 3, 5, 5, 4, 1, 3, 3, 5, 4, 4, 1, 5, 0, 2, 1, 4, 1, 0, 3, 5, 0, 2, 1, 0, 0, 0, 4, 5, 0, 5, 4, 3, 2, 2, 5, 2, 4, 4, 1, 2, 4, 4, 1, 4, 1, 1, 5, 3, 0, 0, 2, 0, 1, 4, 0, 2, 2, 3, 4, 2, 5, 0, 5, 5, 5, 5, 0, 4, 4, 5, 0, 3, 3, 2, 2, 4, 1, 4, 5, 3, 0, 5, 3, 5, 3, 4, 2, 4, 2, 4, 1, 5, 0, 4, 2, 3, 1, 0, 0, 2, 0, 2, 3, 2, 0, 0, 3, 5, 1, 5, 4, 3, 3, 1, 2, 1, 1, 0, 3, 0, 4, 3, 5, 0, 0, 5, 2, 3, 4, 1, 5, 4, 0, 0, 5, 1, 5, 4, 2, 4, 2, 0, 5, 4, 2, 3, 4, 2, 1, 5, 3, 0, 4, 2, 0, 2, 5, 1, 5, 5, 2, 5, 5, 1, 5, 1, 5, 5, 1, 5, 0, 1, 1, 2, 0, 1, 1, 5, 0, 4, 0, 4, 3, 0, 3, 2, 0, 0, 5, 2, 4, 0, 4, 4, 5, 5, 0, 2, 4, 2, 1, 5, 0, 4, 3, 3, 0, 4, 5, 0, 5, 2, 0, 0, 0, 2, 5, 0, 0, 3, 0, 0, 4, 5, 5, 3, 1, 0, 0, 3, 4, 3, 4, 3, 0, 3, 1, 5, 2, 0, 4, 0, 3, 3, 1, 4, 2, 4, 2, 5, 2, 1, 0, 4, 5, 4, 1, 2, 2, 0, 3, 0, 0, 4, 4, 2, 5, 0, 5, 3, 2, 0, 5, 3, 1, 2, 3, 0, 1, 4, 1, 5, 4, 0, 3, 1, 0, 1, 3, 1, 0, 3, 5, 3, 1, 1, 1, 5, 4, 5, 1, 1, 1, 1, 4, 5, 1, 5, 5, 2, 2, 0, 1, 1, 2, 0, 1, 3, 1, 5, 0, 4, 2, 0, 1, 1, 1, 0, 2, 3, 5, 0, 3, 4, 5, 0, 5, 2, 1, 5, 1, 1, 3, 0, 0, 4, 5, 3, 2, 0, 3, 2, 1, 0, 4, 0, 5, 2, 3, 2, 1, 2, 4, 4, 4, 2, 4, 4, 4, 2, 5, 1, 1, 3, 0, 3, 3, 5, 3, 2, 1, 2, 2, 4, 3, 3, 1, 5, 0, 4, 2, 0, 5, 3, 0, 4, 4, 1, 5, 3, 4, 1, 1, 1, 5, 0, 0, 4, 3, 2, 5, 5, 4, 0, 1, 1, 3, 4, 5, 5, 0, 1, 0, 1, 5, 5, 5, 2, 0, 5, 2, 1, 4, 5, 0, 1, 3, 2, 3, 4, 4, 5, 5, 5, 3, 1, 0, 5, 3, 1, 2, 0, 2, 0, 0, 1, 0, 2, 2, 4, 2, 5, 3, 0, 2, 5, 5, 0, 3, 2, 3, 5, 1, 4, 0, 4, 0, 2, 5, 4, 3, 4, 5, 3, 3, 2, 4, 2, 5, 2, 5, 0, 1, 2, 4, 1, 4, 3, 0, 5, 0, 3, 0, 4, 5, 3, 0, 2, 2, 5, 3, 3, 4, 5, 0, 4, 2, 3, 2, 4, 1, 2, 0, 2, 2, 1, 2, 2, 1, 5, 3, 3, 4, 2, 1, 2, 2, 5, 5, 2, 2, 2, 0, 1, 4, 5, 1, 1, 4, 5, 1, 5, 5, 2, 0, 1, 2, 4, 4, 5, 0, 0, 0, 0, 5, 4, 0, 1, 3, 1, 4, 2, 1, 0, 3, 2, 4, 1, 3, 1, 1, 2, 5, 3, 2, 4, 4, 0, 3, 0, 2, 1, 3, 4, 5, 3, 3, 2, 0, 4, 0, 4, 0, 0, 2, 0, 4, 0, 1, 5, 5, 1, 1, 3, 2, 5, 5, 4, 2, 5, 3, 0, 1, 4, 3, 3, 3, 1, 3, 0, 2, 2, 0, 2, 3, 1, 5, 5, 5, 3, 5, 0, 4, 4, 3, 3, 5, 2, 5, 2, 0, 0, 2, 4, 5, 3, 0, 1, 0, 1, 3, 1, 5, 4, 5, 0, 1, 0, 4, 2, 0, 1, 5, 1, 0, 2, 5, 0, 5, 1, 2, 3, 3, 1, 4, 1, 3, 4, 2, 2, 3, 5, 3, 5, 5, 1, 1, 1, 5, 3, 2, 5, 1, 4, 5, 1, 0, 5, 5, 4, 2, 5, 0, 1, 4, 5, 2, 3, 3, 2, 2, 3, 3, 5, 2, 1, 2, 3, 0, 1, 5, 2, 1, 4, 0, 1, 0, 0, 4, 1, 2, 4, 4, 1, 2, 0, 4, 4, 1, 1, 1, 4, 0, 4, 5, 1, 1, 3, 4, 5, 2, 2, 3, 0, 3, 3, 2, 5, 4, 2, 2, 2, 1, 2, 5, 3, 1, 1, 4, 2, 1, 2, 5, 2, 3, 4, 2, 5, 4, 5, 5, 3, 5, 2, 5, 2, 0, 4, 2, 3, 1, 0, 2, 0, 5, 4, 0, 0, 0, 1, 1, 0, 1, 1, 0, 5, 4, 5, 4, 1, 3, 4, 1, 4, 1, 5, 2, 4, 2, 1, 1, 2, 2, 3, 3, 0, 3, 0, 1, 4, 1, 0, 1, 5, 3, 1, 0, 4, 5, 4, 3, 4, 4, 3, 4, 0, 2, 3, 1, 3, 4, 3, 1, 4, 0, 1, 0, 4, 0, 3, 0, 1, 5, 3, 0, 5, 2, 4, 0, 1, 0, 0, 5, 1, 5, 0, 1, 4, 1, 3, 1, 3, 4, 2, 3, 0, 1, 3, 4, 2, 2, 0, 4, 4, 1, 5, 2, 1, 3, 5, 4, 5, 4, 2, 0, 2, 5, 4, 3, 1, 1, 3, 4, 0, 3, 4, 1, 0, 3, 1, 1, 0, 1, 2, 3, 4, 4, 5, 5, 0, 2, 2, 1, 1, 1, 0, 3, 4, 4, 2, 2, 3, 1, 3, 0, 5, 1, 5, 2, 1, 2, 3, 2, 5, 3, 3, 4, 1, 2, 0, 5, 1, 2, 1, 3, 0, 2, 4, 0, 0, 5, 2, 4, 1, 1, 4, 4, 5, 3, 3, 5, 2, 4, 5, 5, 1, 3, 2, 5, 4, 2, 2, 0, 5, 3, 5, 0, 1, 3, 0, 5, 0, 3, 3, 4, 2, 5, 2, 0, 0, 2, 3, 1, 0, 3, 0, 1, 0, 1, 2, 4, 5, 0, 4, 1, 0, 5, 2, 1, 3, 5, 2, 4, 5, 0, 0, 3, 3, 3, 5, 2, 3, 1, 3, 3, 0, 1, 5, 5, 5, 3, 4, 0, 3, 0, 3, 3, 1, 1, 4, 5, 1, 1, 2, 3, 1, 1, 3, 1, 1, 5, 0, 1, 0, 2, 4, 0, 5, 1, 5, 3, 4, 2, 4, 1, 5, 3, 3, 5, 0, 2, 3, 4, 2, 3, 2, 1, 0, 0, 5, 3, 4, 4, 5, 3, 3, 5, 1, 0, 0, 5, 4, 3, 1, 3, 1, 0, 5, 0, 5, 2, 1, 1, 4, 5, 4, 3, 4, 3, 3, 4, 5, 5, 1, 1, 2, 1, 2, 4, 1, 1, 3, 4, 2, 4, 4, 5, 5, 0, 4, 1, 3, 1, 4, 3, 2, 3, 2, 4, 4, 3, 4, 0, 5, 1, 0, 3, 3, 4, 2, 4, 5, 3, 4, 3, 2, 1, 3, 5, 2, 1, 1, 3, 4, 1, 4, 2, 1, 4, 0, 1, 1, 3, 1, 0, 1, 2, 1, 2, 5, 5, 1, 0, 2, 1, 4, 3, 0, 2, 3, 0, 2, 5, 3, 4, 4, 5, 1, 1, 4, 4, 0, 2, 1, 3, 1, 5, 5, 3, 5, 1, 3, 0, 4, 1, 2, 4, 4, 4, 1, 4, 4, 4, 5, 1, 2, 2, 5, 5, 3, 5, 3, 5, 1, 1, 1, 2, 2, 0, 3, 5, 5, 0, 0, 4, 4, 2, 1, 2, 5, 1, 1, 1, 3, 2, 5, 0, 0, 0, 4, 0, 2, 2, 2, 3, 4, 4, 0, 2, 0, 4, 2, 1, 0, 0, 1, 4, 2, 3, 0, 5, 2, 2, 2, 4, 0, 5, 3, 5, 2, 2, 5, 5, 1, 1, 1, 3, 0, 4, 0, 4, 5, 4, 5, 1, 3, 1, 1, 2, 5, 5, 5, 1, 1, 0, 5, 2, 4, 2, 0, 2, 3, 2, 3, 1, 1, 3, 4, 3, 2, 0, 2, 5, 5, 1, 5, 3, 3, 1, 3, 1, 2, 1, 0, 0, 5, 3, 5, 0, 3, 5, 3, 1, 3, 5, 0, 0, 4, 4, 4, 4, 1, 1, 5, 1, 1, 0, 1, 5, 4, 5, 4, 0, 1, 0, 3, 4, 1, 4, 2, 5, 5, 0, 1, 3, 0, 5, 0, 1, 3, 3, 2, 3, 4, 2, 0, 4, 1, 0, 1, 0, 2, 2, 1, 5, 1, 1, 0, 2, 1, 1, 4, 0, 5, 3, 0, 2, 2, 3, 0, 5, 2, 2, 3, 1, 4, 0, 4, 2, 0, 5, 1, 1, 2, 2, 5, 4, 3, 4, 0, 0, 2, 0, 3, 4, 4, 2, 5, 4, 4, 2, 1, 4, 5, 5, 4, 3, 0, 1, 2, 2, 1, 5, 3, 0, 4, 4, 1, 5, 3, 4, 0, 2, 4, 1, 3, 2, 4, 5, 3, 1, 5, 0, 1, 2, 0, 0, 0, 5, 0, 0, 1, 2, 5, 1, 3, 5, 5, 5, 4, 0, 2, 1, 5, 2, 5, 5, 4, 5, 1, 5, 1, 0, 0, 4, 4, 5, 4, 4, 1, 4, 1, 3, 4, 0, 4, 0, 5, 1, 4, 1, 4, 2, 5, 1, 2, 1, 0, 2, 4, 4, 5, 2, 0, 3, 1, 3, 5, 1, 0, 1, 2, 0, 3, 2, 1, 5, 4, 2, 2, 5, 3, 5, 5, 5, 2, 1, 2, 1, 4, 3, 2, 5, 1, 3, 1, 4, 5, 4, 5, 5, 2, 2, 5, 4, 0, 0, 5, 4, 5, 1, 0, 4, 0, 5, 4, 2, 1, 1, 2, 0, 5, 1, 2, 5, 1, 1, 1, 5, 4, 5, 0, 4, 4, 3, 5, 3, 3, 0, 3, 3, 0, 3, 5, 0, 0, 3, 5, 5, 5, 4, 5, 3, 2, 4, 4, 5, 4, 3, 1, 2, 4, 2, 5, 0, 0, 5, 4, 0, 5, 2, 4, 5, 0, 0, 3, 4, 3, 3, 2, 5, 4, 1, 2, 2, 5, 5, 3, 3, 4, 3, 3, 1, 4, 3, 4, 0, 0, 4, 3, 4, 5, 3, 3, 5, 3, 3, 4, 2, 1, 1, 0, 2, 0, 0, 5, 4, 5, 2, 5, 3, 4, 0, 0, 2, 2, 3, 0, 0, 2, 4, 2, 0, 1, 3, 0, 5, 1, 3, 4, 3, 0, 4, 4, 4, 5, 3, 3, 1, 5, 0, 0, 5, 5, 5, 3, 3, 2, 0, 5, 3, 0, 4, 1, 4, 3, 5, 3, 0, 3, 4, 0, 5, 5, 1, 0, 2, 4, 5, 1, 4, 3, 0, 1, 4, 0, 0, 4, 3, 2, 4, 3, 1, 4, 0, 2, 5, 1, 1, 0, 2, 4, 5, 5, 4, 1, 0, 5, 4, 1, 1, 4, 4, 1, 3, 5, 3, 3, 3, 2, 2, 2, 3, 0, 5, 4, 5, 2, 2, 2, 1, 2, 5, 3, 1, 4, 1, 2, 1, 1, 5, 4, 2, 5, 5, 1, 4, 3, 3, 0, 1, 5, 1, 4, 1, 5, 2, 5, 4, 2, 4, 3, 4, 3, 4, 5, 1, 4, 1, 4, 1, 0, 5, 1, 0, 0, 0, 2, 4, 5, 2, 5, 3, 3, 1, 4, 0, 2, 0, 2, 1, 1, 0, 1, 4, 3, 1, 4, 5, 3, 0, 0, 1, 3, 2, 5, 5, 4, 4, 2, 2, 3, 5, 3, 3, 3, 4, 3, 1, 5, 1, 3, 5, 3, 4, 1, 3, 5, 1, 2, 2, 5, 3, 4, 0, 1, 0, 5, 3, 1, 1, 3, 2, 4, 5, 3, 0, 4, 4, 4, 5, 5, 2, 4, 5, 2, 0, 0, 5, 0, 1, 1, 1, 0, 3, 5, 5, 2, 3, 1, 1, 2, 1, 0, 1, 3, 4, 1, 1, 4, 2, 2, 3, 1, 4, 0, 5, 0, 5, 1, 3, 1, 2, 0, 3, 4, 0, 0, 1, 4, 4, 2, 5, 5, 3, 5, 5, 0, 5, 1, 5, 4, 1, 0, 4, 5, 0, 2, 5, 2, 3, 4, 1, 4, 4, 1, 2, 3, 1, 5, 3, 1, 2, 2, 4, 5, 5, 1, 0, 4, 3, 5, 3, 3, 5, 3, 5, 1, 1, 0, 3, 2, 2, 5, 4, 1, 4, 1, 2, 4, 5, 3, 0, 0, 4, 1, 1, 4, 5, 3, 2, 5, 0, 4, 0, 0, 4, 4, 3, 2, 4, 1, 3, 4, 5, 1, 2, 0, 5, 1, 0, 4, 4, 2, 3, 5, 1, 1, 2, 2, 0, 1, 0, 3, 5, 3, 0, 5, 1, 2, 1, 2, 0, 3, 1, 1, 3, 4, 5, 4, 2, 3, 3, 1, 4, 4, 4, 2, 0, 1, 1, 2, 3, 1, 4, 4, 5, 5, 4, 0, 5, 5, 0, 2, 2, 0, 0, 2, 1, 2, 1, 5, 0, 0, 2, 2, 4, 5, 0, 0, 3, 3, 1, 1, 1, 2, 3, 5, 0, 4, 0, 0, 5, 5, 4, 1, 1, 4, 1, 2, 5, 1, 1, 0, 3, 5, 4, 0, 4, 1, 4, 5, 0, 5, 5, 2, 0, 4, 2, 0, 0, 4, 3, 2, 4, 2, 2, 5, 0, 4, 5, 4, 2, 5, 4, 1, 1, 2, 1, 5, 4, 1, 3, 2, 0, 1, 0, 0, 1, 2, 3, 5, 0, 0, 2, 1, 2, 1, 5, 0, 1, 3, 1, 0, 2, 0, 1, 1, 5, 2, 2, 5, 0, 4, 3, 1, 2, 3, 1, 4, 4, 5, 5, 4, 5, 0, 1, 5, 3, 1, 1, 0, 5, 3, 1, 2, 3, 4, 3, 5, 0, 0, 2, 0, 1, 3, 0, 4, 4, 5, 4, 3, 4, 0, 4, 1, 4, 4, 2, 3, 2, 1, 5, 2, 0, 2, 5, 4, 5, 0, 2, 3, 1, 1, 1, 3, 2, 1, 0, 2, 0, 5, 5, 0, 4, 1, 4, 4, 3, 4, 3, 5, 1, 5, 3, 2, 5, 3, 2, 3, 2, 0, 0, 0, 4, 3, 5, 0, 1, 4, 1, 2, 4, 5, 1, 0, 4, 2, 0, 3, 5, 1, 0, 5, 0, 1, 3, 1, 4, 3, 2, 4, 3, 0, 5, 4, 5, 5, 1, 0, 5, 2, 3, 1, 0, 1, 5, 2, 2, 4, 3, 4, 3, 0, 1, 5, 0, 2, 2, 4, 0, 0, 0, 0, 0, 5, 4, 0, 5, 4, 0, 4, 5, 0, 0, 1, 1, 5, 5, 1, 4, 2, 0, 4, 4, 1, 5, 3, 0, 5, 5, 4, 5, 1, 4, 4, 4, 1, 0, 5, 4, 3, 0, 1, 1, 4, 0, 1, 2, 4, 1, 1, 3, 4, 1, 5, 0, 3, 1, 0, 2, 5, 0, 4, 5, 2, 5, 3, 0, 2, 0, 5, 4, 1, 4, 3, 4, 5, 0, 0, 2, 3, 3, 1, 1, 5, 2, 0, 5, 3, 0, 1, 4, 1, 5, 4, 1, 4, 3, 4, 5, 5, 5, 1, 0, 0, 1, 0, 2, 5, 3, 5, 3, 1, 2, 4, 5, 0, 2, 1, 2, 2, 5, 2, 1, 1, 0, 0, 1, 4, 2, 0, 2, 5, 5, 0, 0, 2, 1, 5, 3, 0, 1, 5, 1, 2, 2, 0, 0, 3, 2, 4, 3, 5, 4, 5, 0, 2, 3, 0, 5, 5, 1, 3, 5, 4, 5, 2, 4, 5, 4, 5, 2, 3, 4, 2, 4, 2, 0, 2, 0, 4, 3, 4, 2, 0, 2, 4, 0, 4, 4, 0, 0, 0, 0, 0, 5, 0, 3, 1, 1, 1, 2, 0, 0, 5, 1, 2, 5, 5, 5, 3, 0, 0, 2, 1, 3, 3, 5, 4, 2, 2, 0, 5, 4, 5, 2, 4, 1, 3, 1, 3, 2, 4, 0, 0, 0, 2, 2, 0, 3, 3, 1, 0, 0, 0, 2, 2, 5, 1, 3, 0, 4, 4, 5, 4, 5, 2, 2, 4, 4, 1, 0, 3, 0, 0, 0, 4, 1, 5, 0, 0, 4, 1, 5, 5, 3, 4, 3, 0, 5, 4, 4, 4, 0, 2, 3, 0, 0, 4, 3, 4, 0, 5, 5, 5, 1, 5, 3, 0, 4, 4, 4, 1, 4, 2, 0, 0, 4, 1, 1, 3, 4, 3, 4, 0, 3, 2, 4, 1, 4, 4, 2, 2, 3, 5, 2, 4, 5, 1, 5, 4, 5, 2, 4, 2, 1, 4, 0, 4, 1, 5, 5, 5, 2, 3, 2, 0, 1, 5, 2, 1, 5, 1, 1, 2, 2, 5, 2, 1, 4, 1, 3, 5, 4, 2, 4, 1, 5, 4, 0, 0, 4, 5, 0, 3, 0, 4, 2, 5, 1, 1, 4, 0, 4, 2, 4, 1, 4, 0, 1, 2, 5, 3, 0, 5, 5, 3, 0, 0, 3, 3, 5, 2, 3, 5, 1, 3, 3, 0, 3, 0, 0, 3, 5, 4, 0, 5, 4, 4, 0, 4, 2, 2, 4, 5, 5, 4, 5, 3, 5, 3, 5, 0, 2, 0, 4, 3, 4, 0, 2, 0, 5, 3, 0, 3, 4, 1, 3, 5, 0, 3, 1, 0, 5, 1, 3, 4, 1, 2, 2, 4, 1, 0, 5, 2, 1, 5, 0, 0, 3, 0, 3, 1, 5, 5, 2, 5, 4, 1, 4, 0, 3, 3, 1, 1, 3, 1, 0, 0, 5, 2, 3, 2, 5, 1, 4, 2, 4, 1, 2, 4, 2, 0, 1, 1, 4, 1, 5, 3, 0, 1, 2, 1, 0, 4, 1, 1, 4, 5, 3, 5, 3, 3, 4, 2, 5, 3, 2, 3, 2, 1, 2, 5, 3, 3, 0, 5, 0, 3, 2, 1, 0, 1, 2, 0, 5, 2, 0, 2, 5, 4, 2, 5, 1, 4, 1, 0, 3, 5, 0, 0, 5, 0, 3, 2, 2, 0, 0, 1, 0, 4, 2, 5, 0, 0, 0, 0, 3, 3, 2, 5, 1, 3, 2, 3, 0, 3, 2, 4, 4, 4, 4, 1, 5, 1, 1, 5, 0, 5, 2, 1, 1, 3, 1, 5, 0, 3, 0, 2, 4, 2, 2, 5, 4, 2, 3, 1, 4, 0, 3, 2, 3, 0, 0, 2, 5, 1, 1, 3, 2, 2, 2, 1, 3, 1, 3, 1, 5, 5, 2, 4, 2, 5, 2, 0, 3, 1, 1, 4, 2, 5, 4, 4, 0, 1, 3, 4, 2, 0, 3, 1, 4, 1, 0, 4, 5, 2, 4, 3, 1, 5, 3, 1, 3, 4, 0, 2, 5, 3, 2, 4, 3, 1, 0, 4, 5, 0, 5, 4, 0, 0, 2, 4, 4, 0, 0, 2, 2, 2, 4, 5, 1, 4, 4, 5, 3, 1, 4, 3, 1, 2, 1, 5, 4, 4, 1, 3, 2, 3, 0, 1, 2, 1, 0, 5, 5, 3, 0, 1, 4, 2, 5, 1, 2, 0, 2, 2, 0, 5, 5, 4, 3, 0, 0, 5, 3, 4, 3, 0, 0, 3, 4, 2, 1, 0, 2, 5, 0, 3, 1, 0, 5, 2, 1, 1, 3, 2, 2, 2, 1, 3, 3, 0, 0, 3, 1, 0, 4, 3, 5, 2, 3, 3, 1, 2, 3, 4, 1, 1, 4, 5, 4, 1, 0, 5, 4, 3, 4, 1, 3, 1, 4, 4, 3, 0, 3, 3, 4, 1, 1, 0, 1, 0, 0, 2, 3, 3, 1, 4, 1, 3, 0, 2, 2, 5, 1, 0, 3, 2, 4, 4, 0, 4, 4, 2, 0, 3, 1, 4, 4, 5, 3, 0, 1, 0, 4, 1, 5, 2, 2, 4, 5, 3, 1, 1, 1, 2, 3, 2, 0, 4, 3, 0, 5, 3, 5, 3, 1, 4, 2, 3, 4, 2, 2, 5, 3, 1, 3, 1, 0, 1, 3, 5, 5, 3, 1, 4, 3, 5, 3, 4, 1, 4, 5, 4, 0, 3, 2, 4, 4, 2, 1, 4, 2, 0, 0, 2, 2, 2, 2, 5, 4, 0, 1, 4, 3, 1, 4, 5, 1, 1, 5, 1, 4, 0, 4, 3, 3, 4, 3, 2, 4, 1, 1, 5, 0, 4, 0, 0, 0, 4, 5, 5, 0, 5, 2, 0, 5, 0, 2, 2, 4, 4, 5, 3, 0, 1, 4, 2, 1, 0, 1, 2, 2, 2, 2, 5, 1, 0, 2, 0, 0, 4, 3, 0, 5, 3, 5, 1, 2, 1, 0, 4, 1, 4, 3, 5, 0, 1, 4, 1, 4, 3, 5, 5, 5, 5, 4, 2, 3, 2, 5, 0, 3, 0, 3, 1, 2, 5, 5, 0, 5, 2, 4, 5, 4, 2, 0, 2, 0, 1, 5, 5, 3, 5, 2, 0, 3, 3, 0, 1, 0, 3, 1, 2, 2, 0, 4, 2, 4, 3, 2, 4, 3, 2, 4, 2, 3, 3, 4, 3, 5, 3, 4, 2, 3, 0, 1, 3, 3, 3, 0, 0, 2, 5, 0, 2, 3, 2, 0, 5, 3, 3, 2, 1, 1, 4, 3, 0, 1, 0, 2, 3, 4, 4, 3, 4, 1, 4, 2, 3, 3, 5, 2, 5, 0, 5, 1, 1, 4, 2, 0, 1, 0, 0, 0, 3, 4, 3, 4, 2, 4, 0, 0, 1, 4, 5, 1, 1, 3, 5, 0, 3, 1, 4, 0, 4, 3, 5, 0, 2, 5, 1, 5, 0, 5, 1, 2, 5, 4, 4, 1, 2, 2, 4, 2, 0, 5, 2, 4, 3, 5, 1, 4, 1, 5, 5, 5, 2, 4, 5, 5, 3, 5, 1, 0, 2, 1, 5, 0, 5, 3, 4, 5, 2, 2, 3, 0, 4, 2, 0, 1, 2, 3, 4, 0, 2, 0, 5, 5, 2, 4, 3, 5, 5, 4, 2, 3, 3, 0, 1, 3, 1, 2, 5, 0, 0, 2, 1, 2, 0, 2, 0, 4, 5, 4, 0, 3, 2, 5, 0, 0, 2, 5, 4, 0, 4, 5, 2, 2, 2, 4, 2, 3, 3, 1, 2, 0, 4, 4, 2, 1, 4, 5, 5, 2, 0, 4, 0, 2, 1, 0, 3, 5, 1, 2, 0, 4, 1, 3, 0, 0, 0, 4, 5, 5, 0, 4, 5, 3, 5, 3, 2, 5, 4, 4, 1, 5, 1, 5, 5, 5, 0, 5, 1, 2, 4, 0, 0, 2, 5, 5, 2, 5, 1, 0, 4, 5, 1, 1, 2, 2, 1, 0, 0, 1, 0, 1, 1, 3, 2, 2, 4, 4, 1, 0, 1, 5, 2, 0, 1, 2, 5, 4, 4, 1, 5, 2, 5, 2, 2, 4, 0, 3, 3, 4, 4, 0, 5, 0, 5, 4, 2, 0, 5, 5, 3, 3, 0, 3, 1, 0, 1, 3, 1, 2, 2, 4, 5, 3, 0, 5, 5, 5, 2, 0, 5, 2, 5, 3, 2, 5, 1, 1, 1, 0, 1, 3, 5, 5, 2, 1, 4, 2, 1, 5, 0, 5, 0, 4, 0, 5, 3, 4, 1, 0, 4, 2, 4, 4, 3, 1, 0, 2, 0, 1, 4, 1, 3, 2, 4, 1, 4, 3, 3, 0, 2, 0, 5, 1, 4, 1, 3, 3, 2, 4, 1, 4, 5, 3, 4, 5, 4, 2, 2, 4, 2, 2, 0, 3, 2, 5, 5, 2, 5, 2, 1, 0, 0, 1, 0, 0, 1, 4, 2, 0, 0, 4, 3, 2, 4, 5, 3, 1, 5, 4, 4, 1, 3, 5, 2, 4, 3, 1, 2, 0, 5, 4, 5, 3, 3, 3, 4, 4, 3, 0, 2, 1, 5, 0, 5, 2, 0, 0, 2, 4, 0, 4, 4, 3, 1, 5, 4, 2, 5, 4, 5, 3, 5, 3, 4, 3, 1, 1, 0, 3, 3, 4, 2, 3, 1, 2, 3, 2, 5, 1, 1, 4, 2, 3, 2, 3, 5, 2, 5, 3, 4, 3, 2, 1, 1, 5, 5, 5, 5, 1, 2, 4, 2, 0, 4, 4, 1, 0, 4, 0, 0, 2, 0, 1, 0, 3, 2, 3, 2, 4, 3, 2, 4, 4, 3, 4, 5, 1, 2, 5, 1, 5, 3, 0, 5, 4, 5, 1, 0, 5, 3, 2, 3, 1, 2, 2, 2, 3, 5, 2, 4, 2, 5, 5, 0, 0, 5, 5, 2, 0, 3, 0, 4, 2, 1, 4, 2, 3, 0, 1, 1, 0, 1, 4, 1, 4, 5, 3, 0, 3, 1, 4, 3, 2, 2, 1, 1, 0, 4, 4, 4, 2, 3, 2, 2, 0, 0, 5, 0, 2, 2, 4, 2, 3, 5, 0, 3, 0, 3, 4, 5, 5, 4, 1, 3, 4, 3, 1, 0, 2, 0, 5, 4, 2, 4, 5, 0, 0, 1, 2, 5, 1, 3, 3, 1, 2, 0, 1, 3, 5, 1, 1, 4, 4, 5, 2, 3, 2, 3, 0, 3, 0, 2, 0, 5, 0, 2, 1, 4, 5, 0, 5, 2, 5, 3, 5, 4, 0, 5, 4, 3, 2, 1, 4, 2, 1, 5, 1, 0, 2, 4, 1, 1, 3, 3, 1, 4, 2, 5, 5, 0, 4, 4, 5, 2, 0, 5, 2, 4, 0, 5, 5, 2, 5, 2, 5, 4, 5, 5, 4, 2, 3, 2, 0, 1, 2, 1, 5, 1, 0, 5, 2, 3, 5]\n"
     ]
    }
   ],
   "source": [
    "SVC_pred=SVC_model.predict(X_test.values)\n",
    "print(SVC_pred.tolist())"
   ]
  },
  {
   "cell_type": "code",
   "execution_count": 61,
   "id": "f95bf399",
   "metadata": {},
   "outputs": [
    {
     "name": "stdout",
     "output_type": "stream",
     "text": [
      "[4, 3, 4, 3, 5, 0, 3, 4, 1, 0, 2, 1, 3, 1, 2, 3, 5, 2, 0, 4, 4, 3, 1, 2, 4, 0, 5, 1, 2, 4, 2, 0, 2, 5, 3, 4, 4, 5, 4, 4, 0, 3, 4, 2, 5, 5, 2, 5, 3, 0, 5, 0, 3, 3, 4, 5, 1, 0, 0, 2, 3, 0, 5, 0, 3, 4, 3, 2, 2, 1, 0, 0, 2, 2, 2, 5, 0, 1, 2, 1, 4, 3, 4, 4, 3, 5, 0, 3, 4, 1, 0, 4, 1, 3, 3, 4, 2, 4, 1, 1, 4, 4, 5, 4, 1, 1, 4, 4, 2, 1, 4, 0, 5, 3, 5, 0, 5, 5, 1, 4, 5, 2, 3, 1, 0, 4, 0, 5, 5, 4, 0, 4, 1, 2, 1, 4, 2, 3, 1, 5, 4, 4, 1, 2, 5, 4, 1, 0, 0, 4, 3, 5, 1, 4, 3, 2, 2, 4, 3, 4, 0, 0, 0, 5, 1, 2, 0, 3, 4, 0, 3, 5, 2, 1, 0, 4, 2, 3, 4, 3, 4, 0, 2, 0, 1, 1, 5, 5, 4, 4, 2, 2, 5, 0, 2, 5, 4, 4, 5, 3, 3, 0, 1, 2, 1, 5, 4, 5, 1, 1, 1, 0, 2, 2, 3, 2, 5, 5, 2, 4, 3, 4, 1, 5, 2, 0, 2, 1, 3, 1, 0, 3, 1, 2, 1, 3, 0, 0, 4, 4, 5, 3, 3, 2, 2, 4, 0, 2, 0, 0, 4, 2, 5, 5, 3, 3, 5, 2, 4, 1, 5, 1, 4, 2, 4, 1, 4, 3, 0, 4, 4, 0, 1, 0, 1, 4, 2, 2, 5, 3, 5, 2, 5, 4, 2, 3, 5, 4, 1, 2, 2, 5, 0, 4, 5, 1, 0, 5, 3, 2, 3, 5, 3, 4, 4, 5, 5, 4, 3, 1, 5, 4, 3, 5, 1, 3, 2, 4, 4, 2, 2, 3, 1, 0, 0, 1, 5, 0, 3, 5, 0, 4, 2, 2, 2, 2, 1, 2, 4, 2, 3, 2, 5, 2, 1, 3, 5, 3, 2, 0, 0, 2, 0, 1, 2, 0, 1, 4, 5, 2, 2, 0, 0, 4, 1, 4, 0, 5, 2, 3, 5, 5, 4, 3, 4, 0, 5, 4, 5, 2, 2, 4, 5, 5, 2, 4, 1, 4, 3, 3, 0, 3, 2, 4, 0, 0, 4, 5, 3, 4, 2, 0, 3, 5, 2, 2, 2, 1, 0, 5, 0, 5, 1, 4, 0, 0, 4, 2, 5, 4, 4, 2, 4, 2, 3, 5, 0, 3, 0, 3, 5, 0, 5, 4, 2, 0, 3, 1, 5, 5, 2, 0, 1, 1, 5, 1, 4, 0, 2, 5, 4, 3, 0, 4, 5, 0, 5, 3, 0, 3, 1, 0, 5, 2, 0, 4, 2, 1, 0, 4, 3, 3, 0, 1, 0, 2, 4, 0, 1, 3, 0, 3, 1, 1, 4, 4, 0, 2, 2, 0, 0, 1, 5, 1, 3, 3, 0, 5, 4, 3, 0, 2, 4, 5, 4, 1, 1, 1, 3, 5, 2, 5, 4, 0, 0, 4, 2, 2, 5, 4, 2, 2, 3, 1, 5, 1, 3, 3, 2, 1, 3, 1, 4, 4, 1, 1, 2, 5, 2, 1, 4, 1, 3, 0, 3, 2, 0, 4, 0, 4, 3, 3, 2, 3, 5, 1, 3, 2, 5, 0, 5, 5, 5, 0, 2, 5, 0, 0, 3, 3, 1, 1, 3, 3, 0, 3, 4, 1, 4, 3, 0, 5, 0, 2, 2, 4, 2, 4, 3, 2, 3, 4, 0, 4, 2, 0, 5, 0, 3, 5, 4, 1, 3, 4, 1, 1, 5, 1, 5, 5, 4, 2, 4, 2, 0, 4, 4, 4, 5, 4, 1, 3, 2, 4, 2, 3, 4, 0, 1, 4, 4, 4, 4, 3, 4, 5, 0, 3, 5, 2, 5, 2, 4, 4, 0, 3, 4, 0, 1, 0, 5, 4, 1, 0, 3, 4, 0, 0, 2, 1, 1, 4, 2, 5, 2, 4, 5, 2, 3, 4, 3, 3, 5, 4, 2, 4, 1, 4, 0, 4, 0, 2, 3, 2, 5, 3, 5, 3, 1, 5, 1, 2, 4, 1, 1, 4, 4, 1, 3, 2, 1, 1, 1, 5, 0, 3, 3, 2, 3, 5, 2, 5, 4, 4, 3, 3, 4, 0, 5, 5, 3, 3, 0, 5, 3, 1, 3, 5, 4, 2, 2, 4, 5, 0, 0, 5, 0, 2, 3, 2, 2, 3, 5, 2, 2, 3, 0, 4, 3, 0, 1, 0, 5, 1, 0, 2, 4, 3, 2, 4, 4, 1, 3, 1, 1, 2, 5, 5, 1, 4, 3, 5, 3, 0, 5, 3, 4, 0, 1, 2, 0, 1, 0, 0, 0, 5, 5, 5, 1, 3, 0, 2, 2, 0, 5, 0, 5, 3, 5, 0, 3, 4, 4, 5, 4, 5, 4, 5, 0, 3, 1, 0, 5, 2, 0, 1, 2, 4, 4, 0, 4, 5, 5, 3, 2, 5, 0, 5, 1, 3, 2, 5, 4, 4, 5, 3, 3, 0, 0, 5, 1, 5, 0, 5, 3, 2, 3, 4, 4, 4, 0, 1, 2, 5, 5, 4, 3, 0, 4, 1, 4, 4, 3, 2, 2, 0, 1, 0, 5, 1, 4, 0, 2, 4, 1, 2, 3, 4, 4, 1, 5, 5, 4, 5, 2, 3, 1, 3, 3, 4, 1, 3, 1, 3, 4, 2, 2, 4, 3, 2, 3, 4, 0, 1, 3, 4, 4, 0, 3, 5, 3, 1, 3, 5, 5, 2, 5, 5, 3, 4, 3, 5, 3, 3, 3, 3, 5, 2, 0, 1, 5, 5, 4, 3, 3, 5, 4, 0, 0, 1, 4, 1, 2, 4, 3, 4, 2, 2, 0, 0, 3, 0, 0, 0, 5, 1, 0, 1, 2, 3, 3, 1, 5, 0, 5, 4, 0, 2, 4, 0, 4, 2, 2, 5, 2, 2, 3, 3, 4, 3, 0, 1, 0, 0, 0, 4, 1, 1, 5, 3, 1, 1, 1, 2, 2, 2, 4, 5, 3, 5, 3, 1, 5, 2, 0, 3, 1, 2, 0, 1, 0, 1, 1, 3, 1, 0, 4, 0, 1, 0, 2, 3, 4, 3, 2, 0, 3, 5, 0, 4, 4, 3, 3, 0, 4, 2, 2, 0, 0, 1, 2, 2, 1, 1, 5, 2, 3, 1, 4, 5, 2, 4, 5, 3, 2, 1, 1, 2, 1, 2, 0, 2, 2, 4, 4, 4, 4, 3, 2, 0, 3, 5, 1, 2, 0, 3, 0, 1, 0, 0, 1, 2, 4, 2, 1, 1, 1, 2, 4, 1, 0, 4, 4, 0, 1, 2, 3, 2, 0, 0, 4, 0, 5, 1, 0, 0, 1, 5, 1, 5, 3, 5, 0, 0, 0, 5, 1, 1, 0, 5, 1, 5, 2, 3, 5, 3, 5, 1, 3, 2, 2, 5, 2, 0, 5, 0, 1, 5, 3, 2, 5, 3, 2, 0, 0, 0, 1, 0, 4, 2, 0, 4, 5, 4, 0, 0, 4, 4, 3, 3, 5, 3, 2, 4, 2, 1, 4, 5, 3, 0, 3, 4, 1, 2, 3, 3, 3, 0, 1, 4, 5, 0, 3, 3, 5, 4, 3, 1, 1, 0, 0, 3, 4, 4, 5, 2, 1, 4, 3, 1, 2, 3, 3, 5, 3, 2, 5, 1, 1, 1, 2, 2, 4, 2, 4, 5, 3, 1, 3, 3, 0, 3, 3, 3, 3, 0, 0, 0, 2, 2, 5, 3, 3, 3, 0, 4, 5, 1, 2, 4, 4, 3, 4, 5, 0, 5, 1, 1, 4, 0, 4, 1, 0, 1, 4, 3, 1, 2, 2, 3, 0, 1, 2, 2, 4, 0, 4, 0, 2, 0, 2, 4, 1, 5, 0, 5, 1, 5, 2, 1, 5, 1, 4, 3, 1, 1, 4, 5, 0, 3, 1, 4, 2, 2, 5, 2, 0, 4, 1, 5, 1, 5, 0, 0, 0, 0, 2, 0, 1, 3, 3, 5, 3, 5, 5, 1, 0, 5, 1, 5, 5, 3, 5, 2, 3, 0, 1, 5, 1, 4, 3, 0, 3, 3, 1, 2, 0, 5, 2, 5, 1, 1, 4, 0, 4, 1, 5, 5, 4, 5, 4, 5, 0, 5, 5, 1, 3, 2, 5, 3, 4, 5, 4, 5, 4, 2, 4, 1, 5, 4, 5, 4, 1, 1, 5, 5, 1, 1, 1, 0, 2, 2, 1, 2, 2, 1, 1, 1, 5, 5, 0, 3, 4, 5, 3, 4, 2, 2, 0, 0, 1, 5, 3, 5, 4, 5, 1, 5, 2, 2, 1, 0, 2, 0, 3, 1, 4, 0, 5, 1, 0, 2, 0, 3, 4, 0, 2, 0, 1, 4, 4, 5, 2, 1, 3, 4, 5, 1, 2, 2, 4, 2, 1, 3, 1, 4, 0, 4, 1, 4, 5, 4, 1, 4, 3, 2, 1, 0, 2, 2, 3, 2, 3, 5, 1, 5, 3, 5, 5, 5, 1, 0, 0, 5, 5, 1, 2, 2, 2, 3, 2, 3, 3, 4, 0, 4, 5, 2, 3, 3, 2, 4, 2, 4, 2, 5, 2, 2, 4, 1, 1, 5, 0, 0, 2, 2, 5, 3, 2, 2, 0, 2, 0, 4, 4, 0, 4, 5, 3, 1, 1, 4, 0, 4, 3, 5, 4, 2, 4, 2, 2, 1, 3, 1, 2, 5, 4, 1, 3, 4, 0, 0, 5, 1, 2, 1, 1, 1, 3, 3, 1, 2, 4, 2, 0, 5, 4, 4, 4, 0, 0, 5, 2, 3, 2, 0, 2, 1, 0, 2, 5, 0, 1, 4, 2, 3, 3, 4, 0, 0, 3, 1, 5, 1, 0, 3, 0, 5, 0, 3, 0, 5, 0, 2, 5, 2, 2, 4, 4, 0, 1, 1, 2, 1, 1, 4, 2, 3, 2, 3, 1, 1, 5, 1, 3, 2, 1, 1, 5, 3, 3, 0, 1, 4, 2, 4, 2, 4, 3, 2, 1, 3, 5, 1, 3, 4, 2, 5, 2, 5, 2, 2, 0, 4, 0, 5, 3, 5, 5, 0, 1, 3, 2, 1, 1, 5, 5, 4, 0, 1, 5, 5, 2, 5, 2, 3, 4, 3, 5, 3, 0, 3, 5, 3, 0, 4, 0, 1, 4, 1, 1, 5, 3, 2, 1, 2, 5, 1, 2, 3, 2, 2, 1, 0, 1, 0, 1, 5, 4, 5, 1, 0, 0, 0, 3, 1, 2, 4, 5, 3, 0, 0, 0, 2, 3, 3, 3, 5, 1, 3, 2, 3, 1, 0, 0, 4, 0, 2, 4, 0, 3, 0, 0, 4, 2, 1, 3, 1, 3, 0, 1, 3, 5, 5, 3, 2, 2, 2, 2, 0, 2, 0, 3, 4, 1, 3, 5, 2, 2, 3, 0, 3, 1, 0, 4, 5, 2, 5, 1, 1, 2, 4, 3, 5, 1, 3, 5, 5, 4, 0, 0, 3, 1, 5, 3, 3, 4, 1, 0, 3, 0, 3, 1, 2, 5, 2, 0, 5, 5, 1, 3, 1, 1, 5, 2, 0, 0, 5, 4, 4, 2, 2, 5, 0, 4, 2, 0, 2, 1, 3, 1, 1, 3, 5, 3, 1, 4, 2, 0, 3, 1, 3, 4, 3, 1, 2, 3, 3, 5, 3, 1, 1, 1, 1, 0, 1, 4, 0, 2, 4, 1, 4, 3, 5, 5, 4, 0, 4, 5, 2, 2, 0, 2, 1, 0, 4, 0, 0, 5, 1, 4, 4, 4, 4, 5, 1, 5, 2, 2, 4, 2, 5, 1, 5, 1, 3, 2, 5, 0, 2, 4, 5, 3, 5, 2, 1, 0, 2, 5, 4, 0, 0, 1, 5, 3, 5, 3, 3, 2, 4, 0, 2, 3, 2, 2, 4, 5, 4, 5, 4, 2, 4, 1, 0, 0, 4, 2, 5, 0, 1, 3, 3, 3, 2, 0, 4, 3, 1, 4, 3, 4, 1, 4, 1, 4, 0, 4, 2, 3, 2, 2, 4, 4, 4, 2, 4, 5, 0, 2, 0, 3, 0, 1, 5, 4, 0, 2, 3, 0, 3, 1, 4, 1, 1, 3, 4, 3, 0, 5, 3, 1, 1, 0, 5, 5, 1, 3, 2, 5, 2, 0, 5, 0, 0, 2, 4, 0, 5, 3, 4, 0, 3, 5, 0, 1, 2, 5, 4, 5, 3, 2, 0, 3, 4, 0, 0, 5, 4, 5, 1, 2, 2, 5, 3, 5, 1, 2, 5, 1, 0, 3, 1, 5, 1, 4, 5, 2, 0, 4, 3, 5, 3, 3, 1, 3, 4, 3, 3, 5, 3, 0, 0, 3, 5, 0, 3, 4, 4, 4, 5, 5, 0, 1, 4, 1, 5, 0, 0, 0, 0, 2, 4, 3, 4, 0, 3, 2, 1, 4, 3, 4, 4, 1, 5, 0, 3, 0, 4, 4, 1, 1, 5, 4, 3, 3, 2, 4, 0, 5, 0, 4, 5, 4, 5, 5, 1, 4, 5, 4, 4, 1, 5, 2, 2, 4, 4, 1, 2, 0, 2, 3, 2, 0, 2, 5, 5, 4, 4, 3, 3, 2, 3, 4, 3, 2, 5, 3, 1, 3, 2, 2, 5, 5, 2, 0, 4, 3, 4, 5, 2, 1, 4, 4, 4, 1, 1, 2, 4, 2, 3, 1, 2, 4, 5, 1, 5, 4, 3, 5, 5, 5, 4, 0, 4, 1, 3, 0, 3, 1, 2, 4, 4, 2, 2, 4, 0, 1, 3, 4, 5, 4, 2, 2, 2, 4, 4, 0, 1, 5, 3, 5, 2, 5, 3, 3, 2, 5, 0, 3, 0, 0, 1, 0, 2, 0, 3, 0, 1, 0, 5, 5, 5, 2, 0, 1, 2, 5, 3, 5, 3, 1, 1, 4, 0, 1, 1, 1, 4, 3, 3, 1, 2, 0, 3, 3, 3, 0, 0, 0, 0, 1, 1, 0, 3, 0, 4, 1, 2, 2, 3, 1, 4, 1, 3, 2, 5, 2, 5, 5, 0, 5, 2, 4, 4, 1, 3, 2, 0, 3, 1, 4, 5, 1, 0, 0, 0, 4, 1, 3, 4, 1, 1, 0, 2, 1, 4, 2, 4, 3, 3, 0, 1, 5, 1, 0, 4, 4, 2, 2, 4, 0, 5, 1, 1, 5, 4, 1, 0, 0, 4, 4, 5, 2, 5, 1, 5, 5, 0, 1, 1, 0, 1, 5, 2, 0, 2, 1, 0, 1, 0, 0, 1, 5, 3, 5, 3, 5, 5, 1, 1, 1, 5, 0, 4, 3, 2, 2, 3, 3, 3, 2, 5, 4, 4, 3, 5, 0, 1, 2, 5, 4, 2, 4, 4, 1, 4, 5, 2, 5, 0, 5, 3, 3, 4, 3, 2, 5, 4, 1, 1, 2, 5, 1, 4, 5, 1, 4, 5, 4, 4, 5, 4, 1, 4, 1, 3, 5, 3, 2, 3, 3, 0, 3, 2, 5, 2, 4, 2, 5, 1, 2, 0, 1, 3, 0, 4, 2, 2, 1, 3, 4, 0, 3, 5, 4, 0, 1, 1, 5, 2, 0, 5, 4, 4, 3, 5, 5, 4, 4, 2, 2, 2, 3, 3, 2, 1, 2, 1, 1, 1, 1, 1, 5, 3, 4, 2, 3, 1, 1, 3, 1, 1, 2, 4, 5, 1, 2, 4, 5, 2, 1, 3, 5, 0, 0, 2, 0, 5, 3, 5, 2, 1, 5, 2, 1, 2, 1, 0, 4, 2, 1, 0, 5, 5, 1, 5, 0, 5, 4, 0, 5, 4, 3, 1, 1, 3, 5, 0, 2, 5, 4, 1, 1, 4, 3, 4, 0, 2, 3, 2, 3, 4, 3, 1, 3, 3, 0, 3, 1, 4, 3, 3, 5, 0, 4, 4, 0, 3, 4, 4, 2, 3, 1, 0, 0, 3, 1, 4, 0, 4, 5, 1, 1, 4, 0, 0, 0, 3, 3, 1, 5, 4, 4, 0, 0, 3, 4, 5, 3, 1, 5, 0, 2, 2, 0, 4, 3, 5, 0, 1, 2, 2, 2, 2, 0, 2, 1, 4, 0, 0, 2, 4, 2, 5, 4, 0, 4, 4, 1, 2, 1, 4, 1, 1, 5, 0, 1, 4, 5, 1, 5, 5, 0, 0, 1, 1, 2, 1, 1, 3, 3, 0, 5, 4, 4, 0, 4, 0, 5, 0, 5, 4, 1, 4, 1, 1, 5, 0, 5, 3, 3, 1, 0, 0, 4, 3, 1, 0, 2, 3, 2, 2, 0, 0, 5, 2, 1, 5, 0, 4, 5, 0, 2, 2, 3, 1, 0, 2, 0, 0, 5, 3, 2, 0, 3, 5, 2, 3, 5, 2, 1, 3, 0, 0, 2, 5, 4, 0, 3, 5, 3, 3, 1, 5, 0, 0, 5, 3, 4, 0, 1, 1, 0, 0, 1, 2, 0, 5, 1, 2, 2, 0, 5, 1, 0, 0, 0, 5, 2, 3, 3, 3, 3, 2, 3, 0, 3, 1, 3, 2, 0, 0, 1, 1, 4, 0, 1, 2, 5, 3, 3, 4, 2, 2, 3, 4, 5, 5, 1, 1, 3, 4, 3, 4, 4, 2, 5, 0, 5, 3, 0, 2, 2, 4, 0, 3, 1, 0, 0, 2, 5, 2, 5, 4, 1, 2, 1, 5, 2, 3, 2, 5, 0, 4, 0, 2, 2, 5, 0, 5, 0, 4, 5, 4, 1, 3, 5, 0, 1, 3, 1, 4, 0, 3, 5, 2, 3, 1, 2, 4, 3, 4, 2, 0, 1, 0, 2, 1, 4, 2, 0, 1, 2, 2, 3, 4, 3, 3, 5, 3, 2, 3, 5, 1, 1, 2, 2, 3, 1, 0, 2, 2, 1, 0, 4, 0, 4, 1, 2, 2, 5, 0, 3, 5, 0, 3, 0, 2, 3, 5, 1, 1, 5, 2, 2, 4, 2, 3, 5, 1, 4, 1, 4, 4, 4, 2, 4, 2, 2, 1, 2, 2, 5, 3, 1, 0, 4, 0, 3, 3, 1, 4, 0, 3, 2, 3, 0, 3, 3, 0, 2, 1, 5, 4, 4, 0, 4, 3, 1, 2, 0, 0, 1, 0, 1, 3, 2, 0, 5, 2, 1, 4, 4, 3, 1, 0, 4, 4, 3, 4, 0, 2, 2, 3, 1, 1, 5, 0, 3, 3, 5, 5, 4, 1, 3, 3, 5, 4, 4, 1, 5, 0, 2, 1, 4, 1, 0, 3, 5, 0, 2, 1, 0, 0, 0, 4, 5, 0, 5, 4, 3, 2, 2, 5, 2, 4, 4, 1, 2, 4, 4, 1, 4, 1, 1, 5, 3, 0, 0, 2, 0, 1, 4, 0, 2, 2, 3, 4, 2, 5, 0, 5, 5, 5, 5, 0, 4, 4, 5, 0, 3, 3, 2, 2, 4, 1, 4, 5, 3, 0, 5, 3, 5, 3, 4, 2, 4, 2, 4, 1, 5, 0, 4, 2, 3, 1, 0, 0, 2, 0, 2, 3, 2, 0, 0, 3, 5, 1, 5, 4, 3, 3, 1, 2, 1, 1, 0, 3, 0, 4, 3, 5, 0, 0, 5, 2, 3, 4, 1, 5, 4, 0, 0, 5, 1, 5, 4, 2, 4, 2, 0, 5, 4, 2, 3, 5, 2, 1, 5, 3, 0, 4, 2, 0, 2, 5, 1, 5, 5, 2, 5, 5, 1, 5, 1, 5, 5, 1, 5, 0, 1, 1, 2, 0, 1, 1, 5, 0, 4, 0, 4, 3, 0, 3, 2, 0, 0, 5, 2, 4, 0, 4, 4, 5, 5, 0, 2, 4, 2, 1, 5, 0, 4, 3, 3, 0, 4, 5, 0, 5, 2, 0, 0, 0, 2, 5, 0, 0, 3, 0, 0, 4, 5, 5, 3, 1, 0, 0, 3, 4, 3, 4, 3, 0, 3, 1, 5, 2, 0, 4, 0, 3, 3, 1, 4, 2, 4, 2, 5, 2, 1, 0, 4, 5, 4, 1, 2, 2, 0, 3, 0, 0, 4, 4, 2, 5, 0, 5, 3, 2, 0, 5, 3, 1, 2, 3, 0, 1, 4, 1, 5, 4, 0, 3, 1, 0, 1, 3, 1, 0, 3, 5, 3, 1, 1, 1, 5, 4, 5, 1, 1, 1, 1, 4, 5, 1, 5, 5, 2, 2, 0, 1, 1, 2, 0, 1, 3, 1, 5, 3, 4, 2, 0, 1, 1, 1, 0, 2, 3, 5, 0, 3, 4, 5, 0, 5, 2, 1, 5, 1, 1, 3, 0, 0, 4, 5, 3, 2, 0, 3, 2, 1, 0, 4, 0, 5, 2, 3, 2, 1, 2, 4, 4, 4, 2, 4, 4, 4, 2, 5, 1, 1, 3, 0, 3, 3, 5, 3, 2, 1, 2, 2, 4, 3, 3, 1, 5, 0, 4, 2, 0, 5, 3, 0, 4, 4, 1, 5, 3, 4, 1, 1, 1, 5, 0, 0, 4, 3, 2, 5, 5, 4, 0, 1, 1, 3, 4, 5, 5, 0, 1, 0, 1, 5, 2, 5, 2, 0, 5, 2, 1, 4, 5, 0, 1, 3, 2, 3, 4, 4, 5, 5, 5, 3, 1, 0, 5, 3, 1, 2, 0, 2, 0, 0, 1, 3, 2, 2, 4, 2, 5, 3, 0, 2, 5, 5, 0, 3, 2, 3, 5, 1, 4, 0, 4, 0, 2, 5, 4, 3, 4, 5, 3, 3, 2, 4, 2, 5, 2, 5, 0, 1, 2, 4, 1, 4, 3, 0, 5, 0, 3, 0, 4, 5, 3, 3, 2, 2, 5, 3, 3, 4, 5, 0, 4, 2, 3, 2, 4, 1, 2, 0, 2, 2, 1, 2, 2, 1, 5, 3, 3, 4, 2, 1, 2, 2, 5, 5, 2, 2, 2, 0, 1, 4, 5, 1, 1, 4, 5, 1, 5, 5, 2, 0, 1, 2, 4, 4, 5, 0, 0, 0, 0, 5, 4, 0, 1, 3, 1, 4, 2, 1, 0, 3, 2, 4, 1, 3, 1, 1, 2, 5, 3, 2, 4, 4, 0, 3, 0, 2, 1, 3, 4, 5, 3, 3, 2, 0, 4, 0, 4, 0, 0, 2, 0, 4, 0, 1, 5, 5, 1, 1, 3, 2, 5, 5, 4, 2, 5, 3, 0, 1, 4, 3, 3, 3, 1, 3, 0, 2, 2, 0, 2, 3, 1, 5, 5, 5, 3, 5, 0, 4, 4, 3, 3, 5, 2, 5, 2, 0, 0, 2, 4, 5, 3, 0, 1, 0, 1, 3, 1, 5, 4, 5, 0, 1, 0, 4, 2, 0, 1, 5, 1, 0, 2, 5, 0, 5, 1, 2, 3, 3, 1, 4, 1, 3, 4, 2, 2, 3, 5, 3, 5, 5, 1, 1, 1, 5, 3, 2, 5, 1, 4, 5, 1, 0, 5, 5, 4, 2, 5, 0, 1, 4, 5, 2, 3, 3, 2, 2, 3, 3, 5, 2, 1, 2, 3, 0, 1, 5, 2, 1, 4, 0, 1, 0, 0, 4, 3, 2, 4, 4, 1, 2, 0, 4, 4, 1, 1, 1, 4, 0, 4, 5, 1, 1, 3, 4, 5, 2, 2, 3, 0, 3, 3, 2, 5, 4, 2, 2, 2, 1, 2, 5, 3, 1, 1, 4, 2, 1, 2, 5, 2, 3, 4, 2, 5, 4, 5, 5, 3, 2, 2, 5, 2, 0, 4, 2, 3, 1, 0, 2, 0, 5, 4, 0, 0, 0, 1, 1, 0, 1, 1, 0, 5, 4, 5, 4, 1, 3, 4, 1, 4, 1, 5, 2, 4, 2, 1, 1, 2, 2, 3, 3, 3, 1, 0, 1, 4, 1, 0, 1, 5, 3, 1, 0, 4, 5, 4, 1, 4, 4, 3, 4, 3, 2, 3, 1, 3, 4, 3, 1, 4, 3, 1, 0, 4, 0, 3, 0, 1, 5, 3, 0, 5, 2, 4, 0, 1, 0, 0, 5, 1, 5, 0, 1, 4, 1, 3, 1, 3, 4, 2, 3, 0, 1, 3, 4, 2, 2, 0, 4, 4, 1, 5, 2, 1, 3, 5, 4, 5, 4, 2, 0, 2, 5, 4, 3, 1, 1, 3, 4, 0, 3, 4, 1, 0, 3, 1, 1, 0, 1, 2, 3, 4, 4, 5, 5, 0, 2, 2, 1, 1, 1, 0, 3, 4, 4, 2, 2, 3, 1, 3, 0, 5, 1, 5, 2, 3, 2, 3, 2, 5, 3, 3, 4, 1, 2, 0, 5, 1, 2, 1, 3, 0, 2, 4, 0, 0, 5, 2, 4, 1, 1, 4, 4, 5, 3, 3, 5, 2, 4, 5, 5, 1, 3, 2, 5, 4, 2, 2, 0, 5, 3, 5, 0, 1, 3, 0, 5, 0, 3, 3, 4, 2, 5, 2, 0, 0, 2, 3, 1, 0, 3, 0, 1, 3, 1, 2, 4, 5, 0, 4, 1, 0, 5, 2, 1, 3, 5, 2, 4, 5, 0, 3, 3, 3, 3, 5, 2, 3, 1, 3, 3, 0, 1, 5, 5, 5, 3, 4, 0, 3, 0, 3, 3, 1, 1, 4, 5, 1, 1, 2, 3, 1, 1, 3, 1, 1, 5, 3, 3, 0, 1, 4, 0, 5, 1, 5, 3, 4, 2, 4, 1, 5, 3, 3, 5, 0, 2, 3, 4, 2, 3, 2, 1, 0, 0, 5, 3, 4, 4, 5, 3, 3, 5, 1, 0, 0, 5, 4, 3, 1, 3, 1, 0, 5, 0, 5, 2, 1, 1, 4, 5, 4, 3, 4, 3, 3, 4, 5, 5, 1, 1, 2, 1, 2, 4, 1, 1, 3, 4, 2, 4, 4, 5, 5, 0, 4, 1, 3, 1, 4, 3, 2, 3, 2, 4, 4, 3, 4, 0, 5, 1, 0, 3, 3, 4, 2, 4, 5, 3, 4, 1, 2, 1, 3, 5, 2, 1, 1, 3, 4, 1, 4, 2, 1, 4, 0, 1, 1, 3, 1, 0, 1, 2, 1, 2, 5, 5, 1, 3, 2, 1, 4, 3, 0, 2, 3, 0, 2, 2, 3, 4, 4, 5, 1, 1, 4, 4, 0, 2, 1, 3, 1, 5, 5, 3, 5, 1, 3, 0, 4, 1, 2, 5, 4, 4, 1, 4, 4, 4, 5, 1, 2, 2, 5, 5, 3, 5, 3, 5, 1, 1, 1, 2, 2, 0, 3, 5, 5, 0, 0, 4, 4, 2, 1, 2, 5, 1, 1, 1, 3, 2, 5, 3, 0, 0, 4, 0, 2, 2, 2, 3, 4, 4, 0, 2, 0, 4, 2, 1, 0, 0, 1, 4, 2, 3, 0, 5, 2, 2, 2, 4, 0, 5, 3, 5, 2, 2, 5, 5, 1, 1, 1, 3, 0, 4, 0, 4, 5, 4, 5, 1, 3, 1, 1, 2, 5, 5, 5, 1, 1, 0, 5, 2, 4, 2, 0, 2, 3, 2, 3, 1, 1, 3, 4, 3, 2, 0, 2, 5, 5, 1, 5, 3, 3, 1, 3, 1, 2, 1, 0, 0, 5, 3, 5, 0, 1, 5, 3, 1, 3, 5, 0, 0, 4, 4, 4, 4, 1, 1, 5, 1, 1, 0, 1, 5, 4, 5, 4, 0, 1, 0, 3, 4, 1, 4, 2, 5, 5, 0, 1, 3, 0, 5, 0, 1, 3, 3, 2, 3, 4, 2, 0, 4, 1, 0, 1, 3, 2, 2, 1, 5, 1, 1, 0, 2, 1, 1, 4, 0, 5, 3, 0, 2, 2, 3, 0, 5, 2, 2, 3, 1, 4, 0, 4, 2, 3, 5, 1, 1, 2, 2, 5, 4, 3, 4, 0, 0, 2, 0, 3, 4, 4, 2, 5, 4, 4, 2, 1, 4, 5, 5, 4, 3, 0, 1, 2, 2, 1, 5, 3, 0, 4, 4, 1, 5, 3, 4, 0, 2, 4, 1, 3, 2, 4, 5, 3, 1, 5, 0, 1, 2, 0, 0, 0, 5, 0, 0, 1, 2, 5, 1, 3, 5, 5, 5, 4, 0, 2, 1, 5, 2, 5, 5, 4, 5, 1, 5, 1, 0, 0, 4, 4, 5, 4, 4, 1, 4, 1, 3, 4, 0, 4, 0, 5, 1, 4, 1, 4, 2, 5, 1, 2, 1, 0, 2, 4, 4, 5, 1, 0, 3, 1, 3, 5, 1, 0, 1, 2, 0, 3, 2, 1, 5, 4, 2, 2, 5, 3, 5, 5, 5, 2, 1, 2, 1, 4, 3, 2, 5, 1, 3, 1, 4, 5, 4, 5, 5, 2, 2, 5, 4, 0, 0, 5, 4, 5, 1, 0, 4, 0, 5, 4, 2, 1, 1, 2, 0, 5, 1, 2, 5, 1, 1, 1, 5, 4, 5, 0, 4, 4, 3, 5, 3, 3, 0, 3, 3, 0, 3, 5, 0, 0, 3, 5, 5, 5, 4, 5, 3, 2, 4, 4, 5, 4, 3, 1, 2, 4, 2, 5, 0, 0, 5, 4, 0, 5, 2, 4, 5, 0, 0, 3, 4, 3, 3, 2, 5, 4, 1, 2, 2, 5, 5, 3, 3, 4, 3, 3, 1, 4, 3, 4, 3, 0, 4, 3, 4, 5, 3, 3, 5, 3, 3, 4, 2, 1, 1, 0, 2, 0, 0, 5, 4, 5, 2, 5, 3, 4, 3, 0, 2, 2, 3, 0, 0, 2, 4, 2, 0, 1, 3, 0, 5, 1, 3, 4, 3, 0, 4, 4, 4, 5, 3, 3, 1, 5, 0, 0, 5, 5, 5, 3, 3, 2, 3, 5, 3, 0, 4, 1, 4, 3, 5, 1, 0, 3, 4, 0, 2, 5, 1, 0, 2, 4, 5, 1, 4, 3, 0, 1, 4, 0, 0, 4, 3, 2, 4, 3, 1, 4, 0, 2, 5, 1, 1, 0, 2, 4, 5, 5, 4, 1, 0, 5, 4, 1, 1, 4, 4, 1, 3, 5, 3, 3, 3, 2, 2, 2, 3, 0, 5, 4, 5, 2, 2, 2, 1, 2, 5, 3, 1, 4, 1, 2, 1, 1, 5, 4, 2, 5, 5, 1, 4, 3, 3, 0, 1, 5, 1, 4, 1, 5, 2, 5, 4, 2, 4, 3, 4, 3, 4, 5, 1, 4, 1, 4, 1, 0, 5, 1, 0, 0, 0, 2, 4, 5, 2, 5, 3, 3, 1, 4, 0, 2, 0, 2, 1, 1, 0, 1, 4, 3, 1, 4, 5, 3, 0, 0, 1, 3, 2, 5, 5, 4, 4, 2, 2, 3, 5, 3, 3, 3, 4, 3, 1, 2, 1, 3, 5, 3, 4, 1, 3, 5, 1, 2, 2, 5, 3, 4, 0, 1, 0, 5, 3, 1, 1, 3, 2, 4, 5, 3, 0, 4, 4, 4, 5, 5, 2, 4, 5, 2, 0, 0, 5, 0, 1, 1, 1, 0, 3, 2, 5, 2, 3, 1, 1, 2, 1, 0, 1, 3, 4, 1, 1, 4, 2, 2, 3, 1, 4, 0, 5, 0, 5, 1, 3, 1, 2, 0, 3, 4, 0, 0, 1, 4, 4, 2, 5, 5, 3, 5, 5, 0, 5, 1, 5, 4, 1, 0, 4, 5, 0, 2, 5, 2, 3, 4, 1, 4, 4, 1, 2, 3, 1, 5, 3, 3, 1, 2, 4, 5, 5, 1, 0, 4, 3, 5, 3, 3, 5, 3, 5, 1, 1, 3, 3, 2, 2, 5, 4, 1, 4, 1, 2, 4, 5, 3, 0, 0, 4, 1, 1, 4, 5, 3, 2, 5, 0, 4, 0, 0, 4, 4, 3, 1, 4, 1, 3, 4, 5, 1, 2, 0, 5, 1, 0, 4, 4, 2, 3, 5, 1, 1, 2, 2, 0, 1, 0, 3, 5, 3, 0, 5, 1, 2, 1, 2, 0, 3, 1, 1, 3, 4, 5, 4, 2, 3, 3, 1, 4, 4, 4, 2, 0, 1, 1, 2, 3, 1, 4, 4, 5, 5, 4, 0, 5, 5, 0, 2, 2, 0, 0, 2, 1, 2, 1, 5, 0, 0, 2, 2, 5, 5, 0, 0, 3, 3, 1, 1, 1, 2, 3, 5, 0, 4, 0, 0, 5, 5, 4, 1, 1, 4, 1, 2, 5, 1, 1, 0, 3, 5, 4, 0, 4, 1, 4, 5, 0, 2, 5, 2, 0, 4, 2, 0, 0, 4, 3, 2, 4, 1, 1, 5, 0, 4, 5, 4, 2, 5, 4, 1, 1, 2, 1, 5, 4, 1, 3, 2, 0, 1, 0, 0, 1, 1, 3, 5, 0, 0, 2, 1, 2, 1, 5, 0, 1, 3, 1, 0, 2, 0, 1, 1, 5, 2, 2, 5, 3, 4, 3, 1, 2, 3, 1, 4, 4, 5, 5, 4, 5, 0, 1, 5, 3, 1, 1, 0, 5, 3, 1, 2, 3, 4, 3, 5, 0, 0, 2, 0, 1, 3, 0, 4, 4, 5, 4, 3, 4, 0, 4, 1, 4, 4, 2, 3, 2, 1, 5, 2, 0, 2, 5, 4, 5, 0, 2, 3, 1, 1, 1, 3, 2, 1, 0, 2, 0, 5, 5, 0, 4, 1, 4, 4, 3, 4, 3, 5, 1, 5, 3, 2, 5, 3, 2, 3, 2, 0, 0, 0, 4, 3, 5, 0, 1, 4, 1, 2, 4, 5, 1, 3, 4, 2, 0, 3, 5, 1, 0, 5, 0, 1, 3, 1, 4, 3, 2, 4, 3, 3, 5, 4, 5, 5, 1, 0, 5, 2, 3, 1, 0, 1, 5, 2, 2, 4, 3, 4, 3, 0, 1, 5, 0, 2, 2, 4, 0, 0, 0, 0, 0, 5, 4, 0, 4, 4, 0, 4, 5, 0, 0, 1, 1, 5, 5, 1, 4, 2, 0, 4, 4, 1, 5, 3, 0, 5, 5, 4, 5, 1, 4, 4, 4, 1, 0, 5, 4, 3, 0, 1, 1, 4, 0, 1, 2, 4, 1, 1, 3, 4, 1, 5, 0, 3, 1, 0, 2, 5, 0, 4, 5, 2, 5, 3, 0, 2, 0, 5, 4, 1, 4, 3, 4, 5, 0, 0, 2, 3, 3, 1, 1, 5, 2, 0, 5, 3, 0, 1, 4, 1, 5, 4, 1, 4, 3, 4, 5, 5, 5, 1, 0, 0, 1, 0, 2, 5, 3, 5, 3, 1, 2, 4, 5, 0, 2, 1, 2, 2, 5, 2, 1, 1, 0, 0, 1, 4, 2, 0, 2, 5, 5, 0, 0, 2, 1, 5, 3, 0, 1, 5, 1, 2, 2, 0, 0, 3, 2, 4, 3, 5, 4, 5, 3, 2, 3, 0, 5, 5, 1, 3, 5, 4, 5, 2, 4, 5, 4, 5, 2, 3, 4, 2, 4, 2, 0, 2, 0, 4, 3, 4, 2, 0, 2, 4, 0, 4, 4, 0, 0, 0, 0, 0, 5, 0, 3, 1, 1, 1, 2, 3, 0, 5, 1, 2, 5, 5, 5, 3, 0, 0, 2, 1, 3, 3, 5, 4, 2, 2, 3, 5, 4, 5, 2, 4, 1, 3, 1, 1, 2, 4, 3, 3, 3, 2, 2, 0, 3, 3, 1, 0, 0, 0, 2, 2, 5, 1, 3, 0, 4, 4, 5, 4, 5, 2, 2, 4, 4, 1, 0, 3, 0, 0, 0, 4, 1, 5, 0, 3, 4, 1, 5, 5, 3, 4, 3, 0, 5, 5, 4, 4, 0, 2, 3, 0, 0, 4, 3, 4, 0, 5, 5, 5, 1, 5, 3, 0, 4, 4, 4, 1, 4, 2, 0, 0, 4, 1, 1, 3, 4, 3, 4, 0, 3, 2, 4, 1, 4, 4, 2, 2, 3, 5, 2, 4, 5, 1, 5, 4, 5, 2, 4, 2, 1, 4, 0, 4, 1, 5, 5, 5, 2, 3, 2, 0, 1, 5, 2, 1, 5, 1, 1, 2, 2, 5, 2, 1, 4, 1, 3, 5, 4, 2, 4, 1, 5, 4, 0, 0, 4, 5, 0, 3, 0, 4, 2, 5, 1, 1, 4, 0, 4, 2, 4, 1, 4, 0, 1, 2, 5, 3, 3, 5, 5, 3, 0, 0, 3, 3, 5, 2, 3, 5, 1, 3, 3, 0, 3, 0, 0, 3, 5, 4, 0, 5, 4, 4, 0, 4, 2, 2, 4, 5, 5, 4, 5, 3, 5, 3, 5, 0, 2, 0, 4, 3, 4, 0, 2, 0, 5, 1, 0, 3, 4, 1, 3, 5, 0, 3, 1, 0, 5, 1, 3, 4, 3, 2, 2, 4, 1, 0, 5, 2, 1, 5, 0, 0, 3, 0, 3, 1, 5, 5, 2, 5, 4, 1, 4, 0, 3, 3, 1, 1, 3, 1, 0, 0, 5, 1, 3, 2, 5, 1, 4, 2, 4, 1, 2, 4, 2, 0, 1, 1, 4, 1, 5, 3, 0, 1, 2, 1, 0, 4, 1, 1, 4, 5, 3, 5, 3, 3, 4, 2, 5, 3, 2, 3, 2, 1, 2, 5, 3, 3, 0, 5, 3, 3, 2, 1, 0, 1, 2, 0, 5, 2, 0, 2, 5, 4, 2, 5, 1, 4, 1, 0, 3, 5, 0, 0, 5, 0, 3, 2, 2, 0, 0, 1, 0, 4, 2, 5, 0, 0, 0, 0, 3, 3, 2, 5, 1, 3, 2, 3, 0, 3, 2, 4, 4, 4, 4, 1, 5, 1, 1, 5, 0, 5, 2, 1, 1, 3, 1, 5, 0, 3, 0, 2, 4, 2, 2, 5, 4, 2, 3, 1, 4, 0, 3, 2, 3, 0, 0, 2, 5, 1, 1, 3, 2, 2, 2, 1, 3, 1, 3, 1, 5, 5, 2, 4, 2, 5, 2, 0, 3, 3, 1, 4, 2, 5, 4, 4, 0, 1, 3, 4, 2, 0, 3, 1, 4, 1, 0, 4, 5, 2, 4, 3, 1, 5, 3, 1, 3, 4, 0, 2, 2, 3, 2, 4, 3, 1, 0, 4, 5, 0, 5, 4, 0, 0, 2, 4, 5, 0, 0, 2, 2, 2, 4, 5, 1, 4, 4, 5, 3, 1, 4, 3, 1, 2, 1, 5, 4, 4, 1, 3, 2, 3, 0, 1, 2, 1, 0, 5, 5, 3, 3, 1, 4, 2, 5, 1, 2, 0, 2, 2, 0, 5, 5, 4, 3, 0, 0, 5, 3, 4, 3, 0, 0, 3, 4, 2, 1, 0, 2, 5, 0, 3, 1, 0, 5, 2, 1, 1, 3, 2, 2, 2, 1, 3, 3, 0, 0, 3, 1, 0, 4, 3, 5, 2, 3, 3, 1, 2, 3, 4, 1, 1, 4, 5, 4, 1, 3, 5, 4, 3, 4, 1, 3, 1, 4, 4, 3, 0, 3, 3, 4, 1, 1, 0, 1, 0, 0, 2, 3, 3, 1, 4, 1, 3, 0, 2, 2, 5, 1, 0, 3, 2, 4, 4, 0, 4, 4, 2, 0, 3, 1, 4, 4, 5, 3, 0, 1, 3, 4, 1, 5, 2, 2, 4, 5, 3, 1, 1, 1, 2, 3, 2, 0, 4, 3, 0, 5, 3, 5, 3, 1, 4, 2, 3, 4, 2, 2, 5, 3, 1, 3, 1, 0, 1, 3, 5, 5, 3, 1, 4, 3, 5, 3, 4, 1, 4, 5, 4, 0, 3, 2, 4, 4, 2, 1, 4, 2, 0, 0, 2, 2, 2, 2, 5, 4, 0, 1, 4, 3, 1, 4, 5, 1, 1, 5, 1, 4, 0, 4, 3, 3, 4, 3, 2, 4, 1, 1, 5, 0, 4, 0, 0, 0, 4, 5, 5, 0, 5, 2, 0, 5, 0, 2, 2, 4, 4, 5, 3, 0, 1, 4, 2, 1, 3, 1, 2, 2, 2, 2, 5, 1, 0, 2, 0, 0, 4, 3, 0, 5, 3, 5, 1, 2, 1, 3, 4, 1, 4, 3, 5, 0, 1, 4, 1, 4, 3, 5, 5, 5, 5, 4, 1, 3, 2, 5, 0, 3, 0, 3, 1, 2, 5, 5, 0, 5, 2, 4, 5, 4, 2, 0, 2, 3, 1, 5, 5, 3, 5, 2, 0, 3, 3, 0, 1, 0, 3, 1, 2, 2, 0, 4, 2, 4, 3, 2, 4, 3, 2, 4, 2, 3, 3, 4, 3, 5, 3, 4, 2, 3, 0, 1, 3, 3, 3, 0, 0, 2, 5, 0, 2, 3, 2, 0, 5, 3, 3, 2, 3, 1, 4, 3, 0, 1, 3, 2, 3, 4, 4, 3, 4, 1, 4, 2, 3, 3, 5, 2, 5, 0, 5, 1, 1, 4, 2, 0, 1, 0, 0, 0, 3, 4, 3, 4, 2, 4, 0, 3, 1, 4, 5, 1, 1, 3, 5, 0, 3, 1, 4, 0, 4, 3, 5, 0, 2, 5, 1, 5, 0, 5, 1, 2, 5, 4, 4, 1, 2, 2, 4, 2, 0, 5, 1, 4, 3, 5, 1, 4, 1, 5, 5, 5, 2, 4, 5, 5, 3, 5, 1, 0, 2, 1, 5, 0, 5, 3, 4, 5, 2, 2, 3, 0, 4, 2, 0, 1, 2, 3, 4, 0, 2, 0, 5, 5, 2, 4, 3, 5, 5, 4, 2, 3, 3, 0, 1, 3, 1, 2, 5, 0, 0, 2, 1, 2, 0, 2, 0, 4, 5, 4, 0, 3, 2, 5, 0, 0, 2, 5, 4, 3, 4, 5, 2, 2, 2, 4, 2, 3, 3, 1, 2, 3, 4, 4, 2, 1, 4, 5, 5, 2, 0, 4, 0, 2, 1, 0, 3, 5, 1, 2, 0, 4, 1, 3, 0, 0, 0, 4, 5, 5, 0, 4, 5, 3, 5, 3, 2, 5, 4, 4, 1, 5, 1, 5, 5, 5, 0, 5, 1, 2, 4, 0, 0, 2, 5, 5, 2, 5, 1, 0, 4, 5, 1, 1, 2, 2, 3, 0, 0, 1, 0, 1, 1, 3, 2, 1, 4, 4, 1, 0, 1, 5, 2, 3, 1, 2, 5, 4, 4, 1, 5, 2, 5, 2, 2, 4, 0, 3, 3, 4, 4, 0, 5, 0, 5, 4, 2, 0, 5, 5, 3, 3, 0, 3, 1, 0, 1, 3, 1, 2, 2, 4, 5, 3, 0, 5, 5, 5, 2, 0, 5, 2, 5, 3, 2, 5, 1, 1, 1, 0, 1, 3, 5, 5, 2, 1, 4, 2, 1, 5, 0, 5, 0, 4, 0, 5, 3, 4, 1, 0, 4, 2, 4, 5, 3, 1, 0, 2, 0, 1, 4, 1, 3, 2, 4, 1, 4, 3, 3, 0, 2, 0, 5, 1, 4, 1, 3, 3, 2, 4, 1, 4, 5, 3, 4, 5, 4, 2, 2, 4, 2, 2, 0, 3, 2, 5, 5, 2, 5, 2, 1, 0, 0, 1, 0, 0, 1, 4, 2, 0, 0, 4, 3, 2, 4, 5, 3, 1, 5, 4, 4, 1, 3, 5, 2, 4, 3, 1, 2, 0, 5, 4, 5, 3, 3, 3, 4, 4, 3, 0, 2, 1, 5, 3, 5, 2, 0, 0, 2, 4, 0, 4, 4, 3, 1, 5, 4, 2, 5, 4, 5, 3, 5, 3, 4, 3, 1, 1, 0, 3, 3, 4, 2, 3, 1, 2, 3, 2, 5, 1, 1, 4, 2, 3, 2, 3, 5, 2, 5, 3, 4, 3, 2, 1, 1, 5, 5, 5, 5, 1, 2, 4, 2, 0, 4, 4, 1, 0, 4, 0, 0, 2, 0, 1, 0, 3, 2, 3, 2, 4, 3, 2, 4, 4, 3, 4, 5, 1, 1, 5, 1, 5, 3, 0, 5, 4, 5, 1, 0, 5, 3, 2, 3, 1, 2, 2, 2, 3, 5, 2, 4, 2, 5, 5, 0, 0, 5, 5, 2, 0, 3, 0, 4, 2, 1, 5, 2, 1, 0, 1, 1, 0, 1, 4, 1, 4, 5, 3, 0, 3, 1, 4, 3, 2, 2, 1, 1, 0, 4, 4, 4, 2, 3, 2, 2, 0, 0, 2, 0, 2, 2, 4, 2, 3, 5, 0, 3, 0, 3, 4, 5, 5, 4, 1, 3, 4, 3, 1, 0, 2, 0, 5, 4, 2, 4, 5, 0, 0, 1, 2, 5, 1, 3, 3, 1, 2, 3, 1, 3, 5, 1, 1, 4, 4, 5, 2, 3, 2, 3, 0, 3, 0, 2, 0, 5, 0, 2, 1, 4, 5, 0, 5, 2, 5, 3, 5, 4, 0, 5, 4, 3, 2, 1, 4, 2, 1, 5, 1, 0, 2, 4, 1, 1, 3, 3, 1, 4, 2, 5, 5, 0, 4, 4, 5, 2, 0, 5, 2, 4, 0, 5, 2, 2, 5, 2, 5, 4, 5, 5, 4, 2, 3, 2, 0, 1, 2, 1, 5, 1, 0, 5, 2, 3, 5]\n"
     ]
    }
   ],
   "source": [
    "print(y_test.tolist())"
   ]
  },
  {
   "cell_type": "markdown",
   "id": "1de74106",
   "metadata": {},
   "source": [
    "### Result Analysis"
   ]
  },
  {
   "cell_type": "markdown",
   "id": "334c6592",
   "metadata": {},
   "source": [
    "***Accuracy Score***"
   ]
  },
  {
   "cell_type": "code",
   "execution_count": 62,
   "id": "ad9bd7d6",
   "metadata": {},
   "outputs": [
    {
     "name": "stdout",
     "output_type": "stream",
     "text": [
      "SupportVectorMachine model accuracy is 97.90%\n"
     ]
    }
   ],
   "source": [
    "SVC_accuracy=accuracy_score(y_true=y_test,y_pred=SVC_pred)\n",
    "print(f'SupportVectorMachine model accuracy is {SVC_accuracy*100.0:.2f}%')"
   ]
  },
  {
   "cell_type": "code",
   "execution_count": 63,
   "id": "78bb7892",
   "metadata": {},
   "outputs": [
    {
     "name": "stdout",
     "output_type": "stream",
     "text": [
      "              precision    recall  f1-score   support\n",
      "\n",
      "        Good       0.94      1.00      0.97      1184\n",
      "    Moderate       0.99      0.97      0.98      1215\n",
      "        Poor       0.98      0.99      0.98      1164\n",
      "Satisfactory       0.99      0.92      0.96      1155\n",
      "      Severe       0.99      1.00      0.99      1206\n",
      "   Very Poor       0.99      0.99      0.99      1206\n",
      "\n",
      "    accuracy                           0.98      7130\n",
      "   macro avg       0.98      0.98      0.98      7130\n",
      "weighted avg       0.98      0.98      0.98      7130\n",
      "\n"
     ]
    }
   ],
   "source": [
    "print(classification_report(y_true=y_test,y_pred=SVC_pred,target_names=class_labels))"
   ]
  },
  {
   "cell_type": "code",
   "execution_count": 64,
   "id": "e5d0e1e7",
   "metadata": {},
   "outputs": [
    {
     "data": {
      "image/png": "[encoded data removed]",
      "text/plain": [
       "<Figure size 360x360 with 1 Axes>"
      ]
     },
     "metadata": {
      "needs_background": "light"
     },
     "output_type": "display_data"
    }
   ],
   "source": [
    "plt.figure(figsize=(5,5))\n",
    "sns.heatmap(data=confusion_matrix(y_true=y_test,y_pred=SVC_pred),\n",
    "            annot=True,\n",
    "            fmt='4d',\n",
    "            cbar=False,\n",
    "            cmap=plt.cm.Blues,\n",
    "            xticklabels=class_labels,\n",
    "            yticklabels=class_labels)\n",
    "plt.title(label='Confusion Matrix')\n",
    "plt.show()"
   ]
  },
  {
   "cell_type": "code",
   "execution_count": 65,
   "id": "253bb305",
   "metadata": {},
   "outputs": [],
   "source": [
    "with open(file='models/SupportVectorMachine_model.pkl',mode='wb') as file:\n",
    "    pickle.dump(obj=SVC_model,file=file)"
   ]
  },
  {
   "cell_type": "markdown",
   "id": "e7eea705",
   "metadata": {},
   "source": [
    "---"
   ]
  },
  {
   "cell_type": "markdown",
   "id": "3cfa1468",
   "metadata": {},
   "source": [
    "## Thank You"
   ]
  }
 ],
 "metadata": {
  "kernelspec": {
   "display_name": "Python 3 (ipykernel)",
   "language": "python",
   "name": "python3"
  },
  "language_info": {
   "codemirror_mode": {
    "name": "ipython",
    "version": 3
   },
   "file_extension": ".py",
   "mimetype": "text/x-python",
   "name": "python",
   "nbconvert_exporter": "python",
   "pygments_lexer": "ipython3",
   "version": "3.9.7"
  }
 },
 "nbformat": 4,
 "nbformat_minor": 5
}
